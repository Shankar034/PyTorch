{
  "nbformat": 4,
  "nbformat_minor": 0,
  "metadata": {
    "colab": {
      "provenance": [],
      "gpuType": "T4",
      "authorship_tag": "ABX9TyPkii/fEYgvM16eaHS8raOu",
      "include_colab_link": true
    },
    "kernelspec": {
      "name": "python3",
      "display_name": "Python 3"
    },
    "language_info": {
      "name": "python"
    },
    "accelerator": "GPU"
  },
  "cells": [
    {
      "cell_type": "markdown",
      "metadata": {
        "id": "view-in-github",
        "colab_type": "text"
      },
      "source": [
        "<a href=\"https://colab.research.google.com/github/Shankar034/PyTorch/blob/main/00_pytorch_fundamentals.ipynb\" target=\"_parent\"><img src=\"https://colab.research.google.com/assets/colab-badge.svg\" alt=\"Open In Colab\"/></a>"
      ]
    },
    {
      "cell_type": "markdown",
      "source": [
        "# 00. PyTorch Fundaments\n",
        "\n",
        "\n"
      ],
      "metadata": {
        "id": "_t8Rf2_OX72i"
      }
    },
    {
      "cell_type": "code",
      "source": [
        "import torch\n",
        "import pandas as pd\n",
        "import numpy as np\n",
        "import matplotlib.pyplot as plt\n",
        "print(\"Hello this is pytorch fundaments\")\n",
        "print(torch.__version__)\n",
        "\n"
      ],
      "metadata": {
        "id": "8opZ2hie0Tcq",
        "outputId": "01fea348-a90d-4488-8f28-1d8ec091d93b",
        "colab": {
          "base_uri": "https://localhost:8080/"
        }
      },
      "execution_count": 1,
      "outputs": [
        {
          "output_type": "stream",
          "name": "stdout",
          "text": [
            "Hello this is pytorch fundaments\n",
            "2.0.1+cu118\n"
          ]
        }
      ]
    },
    {
      "cell_type": "code",
      "source": [
        "#scalar\n",
        "scalar = torch.tensor(7)\n",
        "scalar\n"
      ],
      "metadata": {
        "colab": {
          "base_uri": "https://localhost:8080/"
        },
        "id": "LKqaIb4KyPjg",
        "outputId": "4257c186-3818-4dcc-d307-5dd2b17b0122"
      },
      "execution_count": 2,
      "outputs": [
        {
          "output_type": "execute_result",
          "data": {
            "text/plain": [
              "tensor(7)"
            ]
          },
          "metadata": {},
          "execution_count": 2
        }
      ]
    },
    {
      "cell_type": "code",
      "source": [
        "scalar.ndim"
      ],
      "metadata": {
        "colab": {
          "base_uri": "https://localhost:8080/"
        },
        "id": "HUBeqBZ8yg4b",
        "outputId": "c6c93c8e-0826-43cc-fbea-b97fa45456ae"
      },
      "execution_count": 3,
      "outputs": [
        {
          "output_type": "execute_result",
          "data": {
            "text/plain": [
              "0"
            ]
          },
          "metadata": {},
          "execution_count": 3
        }
      ]
    },
    {
      "cell_type": "code",
      "source": [
        "#get tensor back as python list\n",
        "scalar.item()"
      ],
      "metadata": {
        "colab": {
          "base_uri": "https://localhost:8080/"
        },
        "id": "qegjhjisy7TC",
        "outputId": "10f0bb77-8be0-4327-e2d2-9328a1071c30"
      },
      "execution_count": 4,
      "outputs": [
        {
          "output_type": "execute_result",
          "data": {
            "text/plain": [
              "7"
            ]
          },
          "metadata": {},
          "execution_count": 4
        }
      ]
    },
    {
      "cell_type": "code",
      "source": [
        "#Vector\n",
        "vector = torch.tensor([7,7])\n",
        "vector\n"
      ],
      "metadata": {
        "colab": {
          "base_uri": "https://localhost:8080/"
        },
        "id": "wSDMA4uwzQo_",
        "outputId": "4b7dd85d-e051-41c1-c898-971d92332521"
      },
      "execution_count": 5,
      "outputs": [
        {
          "output_type": "execute_result",
          "data": {
            "text/plain": [
              "tensor([7, 7])"
            ]
          },
          "metadata": {},
          "execution_count": 5
        }
      ]
    },
    {
      "cell_type": "code",
      "source": [
        "vector.ndim"
      ],
      "metadata": {
        "colab": {
          "base_uri": "https://localhost:8080/"
        },
        "id": "bDhuHRpQ0swj",
        "outputId": "4a163350-6fbf-4b3d-d27d-f8ccbba87346"
      },
      "execution_count": 6,
      "outputs": [
        {
          "output_type": "execute_result",
          "data": {
            "text/plain": [
              "1"
            ]
          },
          "metadata": {},
          "execution_count": 6
        }
      ]
    },
    {
      "cell_type": "code",
      "source": [
        "vector.size"
      ],
      "metadata": {
        "colab": {
          "base_uri": "https://localhost:8080/"
        },
        "id": "r5M0WGN20wkp",
        "outputId": "20e2d270-0908-4fd0-e1a6-3aaef131ff4a"
      },
      "execution_count": 7,
      "outputs": [
        {
          "output_type": "execute_result",
          "data": {
            "text/plain": [
              "<function Tensor.size>"
            ]
          },
          "metadata": {},
          "execution_count": 7
        }
      ]
    },
    {
      "cell_type": "code",
      "source": [
        "vector.shape"
      ],
      "metadata": {
        "colab": {
          "base_uri": "https://localhost:8080/"
        },
        "id": "O1pUovJc023m",
        "outputId": "46127c47-2b7a-492f-d237-0d1bf03f5c1f"
      },
      "execution_count": 8,
      "outputs": [
        {
          "output_type": "execute_result",
          "data": {
            "text/plain": [
              "torch.Size([2])"
            ]
          },
          "metadata": {},
          "execution_count": 8
        }
      ]
    },
    {
      "cell_type": "code",
      "source": [
        "#Matrix\n",
        "matrix = torch.tensor([[7,9],\n",
        "                      [9,12]])\n",
        "matrix\n"
      ],
      "metadata": {
        "colab": {
          "base_uri": "https://localhost:8080/"
        },
        "id": "TNHZbyM5076x",
        "outputId": "e1d1d351-e215-4e69-fa6c-c77efde7fbff"
      },
      "execution_count": 9,
      "outputs": [
        {
          "output_type": "execute_result",
          "data": {
            "text/plain": [
              "tensor([[ 7,  9],\n",
              "        [ 9, 12]])"
            ]
          },
          "metadata": {},
          "execution_count": 9
        }
      ]
    },
    {
      "cell_type": "code",
      "source": [
        "matrix.shape\n"
      ],
      "metadata": {
        "colab": {
          "base_uri": "https://localhost:8080/"
        },
        "id": "YWw_RppM1QOV",
        "outputId": "773d4ffd-3b07-48eb-c46d-0af7d81db5f2"
      },
      "execution_count": 10,
      "outputs": [
        {
          "output_type": "execute_result",
          "data": {
            "text/plain": [
              "torch.Size([2, 2])"
            ]
          },
          "metadata": {},
          "execution_count": 10
        }
      ]
    },
    {
      "cell_type": "code",
      "source": [
        "matrix.ndim"
      ],
      "metadata": {
        "colab": {
          "base_uri": "https://localhost:8080/"
        },
        "id": "0FtDhY6a1bSx",
        "outputId": "74355c90-72c3-4ac1-b874-3b2fdbb68640"
      },
      "execution_count": 11,
      "outputs": [
        {
          "output_type": "execute_result",
          "data": {
            "text/plain": [
              "2"
            ]
          },
          "metadata": {},
          "execution_count": 11
        }
      ]
    },
    {
      "cell_type": "code",
      "source": [
        "#TENSOR\n",
        "tensor = torch.tensor([[[1,2,3],\n",
        "                       [4,5,6],\n",
        "                       [6,7,8]]])\n",
        "tensor"
      ],
      "metadata": {
        "id": "hUZRPM9Q1g2z",
        "colab": {
          "base_uri": "https://localhost:8080/"
        },
        "outputId": "64f19efb-de27-42c0-f07f-37f6cc0d9a2a"
      },
      "execution_count": 12,
      "outputs": [
        {
          "output_type": "execute_result",
          "data": {
            "text/plain": [
              "tensor([[[1, 2, 3],\n",
              "         [4, 5, 6],\n",
              "         [6, 7, 8]]])"
            ]
          },
          "metadata": {},
          "execution_count": 12
        }
      ]
    },
    {
      "cell_type": "code",
      "source": [
        "tensor.ndim"
      ],
      "metadata": {
        "colab": {
          "base_uri": "https://localhost:8080/"
        },
        "id": "kPfsrc138AVs",
        "outputId": "628c7606-3aa0-4aaf-f425-2c0e353e9869"
      },
      "execution_count": 13,
      "outputs": [
        {
          "output_type": "execute_result",
          "data": {
            "text/plain": [
              "3"
            ]
          },
          "metadata": {},
          "execution_count": 13
        }
      ]
    },
    {
      "cell_type": "code",
      "source": [
        "tensor.shape"
      ],
      "metadata": {
        "colab": {
          "base_uri": "https://localhost:8080/"
        },
        "id": "aXbyjf_J8ESg",
        "outputId": "f18cc016-a924-4b2c-83cd-0eaea857663e"
      },
      "execution_count": 14,
      "outputs": [
        {
          "output_type": "execute_result",
          "data": {
            "text/plain": [
              "torch.Size([1, 3, 3])"
            ]
          },
          "metadata": {},
          "execution_count": 14
        }
      ]
    },
    {
      "cell_type": "code",
      "source": [
        "tensor[0]"
      ],
      "metadata": {
        "colab": {
          "base_uri": "https://localhost:8080/"
        },
        "id": "XTyG0A0v8IvW",
        "outputId": "9d52b562-cd7e-4c1d-a8a4-a2d5899accfc"
      },
      "execution_count": 15,
      "outputs": [
        {
          "output_type": "execute_result",
          "data": {
            "text/plain": [
              "tensor([[1, 2, 3],\n",
              "        [4, 5, 6],\n",
              "        [6, 7, 8]])"
            ]
          },
          "metadata": {},
          "execution_count": 15
        }
      ]
    },
    {
      "cell_type": "markdown",
      "source": [
        "#Random Tensors"
      ],
      "metadata": {
        "id": "fTKef0588flz"
      }
    },
    {
      "cell_type": "code",
      "source": [
        "#Random Tensors\n",
        "rTensor = torch.rand(1,10,10)\n",
        "rTensor\n"
      ],
      "metadata": {
        "colab": {
          "base_uri": "https://localhost:8080/"
        },
        "id": "CO3-XFB49N-O",
        "outputId": "7436a574-cf5d-4746-ecb1-8b587daeb2e2"
      },
      "execution_count": 16,
      "outputs": [
        {
          "output_type": "execute_result",
          "data": {
            "text/plain": [
              "tensor([[[9.4686e-01, 9.0824e-01, 9.3008e-03, 4.1878e-01, 5.5479e-01,\n",
              "          6.0702e-01, 6.5986e-01, 3.4362e-01, 9.2697e-01, 3.9585e-01],\n",
              "         [4.8391e-01, 6.1933e-02, 2.8658e-03, 4.2417e-02, 2.2754e-01,\n",
              "          7.8938e-01, 6.6841e-01, 4.6856e-01, 7.6938e-02, 3.6980e-01],\n",
              "         [9.4423e-01, 7.4838e-01, 4.9803e-01, 3.0469e-01, 3.6176e-01,\n",
              "          2.7547e-01, 2.5008e-01, 1.0782e-01, 4.5245e-01, 9.6094e-01],\n",
              "         [3.9515e-01, 4.5756e-01, 6.4319e-01, 2.4482e-01, 5.2437e-01,\n",
              "          7.7101e-01, 4.0063e-01, 8.4820e-02, 4.1482e-01, 6.8613e-02],\n",
              "         [2.7692e-01, 4.4402e-02, 2.7013e-01, 1.7534e-01, 6.2009e-01,\n",
              "          3.6328e-01, 5.7537e-01, 2.8743e-01, 7.5579e-01, 5.1626e-01],\n",
              "         [8.4764e-02, 1.4179e-01, 9.9220e-01, 5.5875e-01, 7.5311e-01,\n",
              "          4.8101e-01, 6.7892e-02, 4.1623e-01, 5.0687e-02, 3.8605e-01],\n",
              "         [8.1571e-01, 7.9008e-01, 4.3792e-01, 9.6109e-01, 4.6003e-04,\n",
              "          7.9969e-01, 8.9461e-01, 1.6652e-01, 2.8180e-01, 3.5506e-01],\n",
              "         [8.3132e-01, 3.8096e-01, 3.5673e-01, 3.9978e-01, 3.7264e-01,\n",
              "          7.0635e-01, 9.2536e-01, 9.0971e-01, 4.1974e-01, 5.2428e-01],\n",
              "         [6.8950e-01, 1.5243e-01, 7.1360e-01, 1.6480e-01, 7.1068e-01,\n",
              "          7.2546e-01, 3.6676e-01, 3.7367e-01, 9.9206e-01, 4.7896e-01],\n",
              "         [9.2238e-03, 3.7519e-01, 5.0226e-02, 5.4625e-01, 2.0200e-01,\n",
              "          3.4585e-01, 4.8471e-01, 6.6604e-01, 6.8671e-01, 2.6616e-02]]])"
            ]
          },
          "metadata": {},
          "execution_count": 16
        }
      ]
    },
    {
      "cell_type": "code",
      "source": [
        "rTensor.ndim\n",
        "\n"
      ],
      "metadata": {
        "colab": {
          "base_uri": "https://localhost:8080/"
        },
        "id": "99lh5xlH--ne",
        "outputId": "e5eb97d6-41c1-45e9-ce7e-9b55550c162d"
      },
      "execution_count": 17,
      "outputs": [
        {
          "output_type": "execute_result",
          "data": {
            "text/plain": [
              "3"
            ]
          },
          "metadata": {},
          "execution_count": 17
        }
      ]
    },
    {
      "cell_type": "code",
      "source": [
        "#Create a tenson with similar size to an image\n",
        "rImageSizeTensor = torch.rand(size=(224,224,3))\n",
        "rImageSizeTensor.shape, rImageSizeTensor.ndim\n"
      ],
      "metadata": {
        "colab": {
          "base_uri": "https://localhost:8080/"
        },
        "id": "moqRU9ci_I1f",
        "outputId": "e19c2a0f-c64e-4ed0-e976-d3252f433256"
      },
      "execution_count": 18,
      "outputs": [
        {
          "output_type": "execute_result",
          "data": {
            "text/plain": [
              "(torch.Size([224, 224, 3]), 3)"
            ]
          },
          "metadata": {},
          "execution_count": 18
        }
      ]
    },
    {
      "cell_type": "markdown",
      "source": [
        "###Zeros and Ones\n"
      ],
      "metadata": {
        "id": "hjRknMiaGwc6"
      }
    },
    {
      "cell_type": "code",
      "source": [
        "#Zeros\n",
        "zeros = torch.zeros(3,3)\n",
        "zeros"
      ],
      "metadata": {
        "colab": {
          "base_uri": "https://localhost:8080/"
        },
        "id": "Jkt5gG3oHuA0",
        "outputId": "b62c9c47-fcf1-4c8e-a2c7-5a798fbd63d0"
      },
      "execution_count": 19,
      "outputs": [
        {
          "output_type": "execute_result",
          "data": {
            "text/plain": [
              "tensor([[0., 0., 0.],\n",
              "        [0., 0., 0.],\n",
              "        [0., 0., 0.]])"
            ]
          },
          "metadata": {},
          "execution_count": 19
        }
      ]
    },
    {
      "cell_type": "code",
      "source": [
        "#Ones\n",
        "Ones = torch.ones(size=(4,3))\n",
        "Ones"
      ],
      "metadata": {
        "colab": {
          "base_uri": "https://localhost:8080/"
        },
        "id": "zWTS-uaLIOyh",
        "outputId": "6168081d-33be-4ba2-b528-ee45d56b71d3"
      },
      "execution_count": 20,
      "outputs": [
        {
          "output_type": "execute_result",
          "data": {
            "text/plain": [
              "tensor([[1., 1., 1.],\n",
              "        [1., 1., 1.],\n",
              "        [1., 1., 1.],\n",
              "        [1., 1., 1.]])"
            ]
          },
          "metadata": {},
          "execution_count": 20
        }
      ]
    },
    {
      "cell_type": "code",
      "source": [
        "Ones.dtype"
      ],
      "metadata": {
        "colab": {
          "base_uri": "https://localhost:8080/"
        },
        "id": "FuOQY8-sIUsr",
        "outputId": "b52b2be1-6c6c-44fc-94c8-bc83c697f9fe"
      },
      "execution_count": 21,
      "outputs": [
        {
          "output_type": "execute_result",
          "data": {
            "text/plain": [
              "torch.float32"
            ]
          },
          "metadata": {},
          "execution_count": 21
        }
      ]
    },
    {
      "cell_type": "code",
      "source": [
        "zeros.dtype"
      ],
      "metadata": {
        "colab": {
          "base_uri": "https://localhost:8080/"
        },
        "id": "G0_jVxCcIZxm",
        "outputId": "9f6f8966-f852-446e-ba4b-d7ecbc3023e5"
      },
      "execution_count": 22,
      "outputs": [
        {
          "output_type": "execute_result",
          "data": {
            "text/plain": [
              "torch.float32"
            ]
          },
          "metadata": {},
          "execution_count": 22
        }
      ]
    },
    {
      "cell_type": "markdown",
      "source": [
        "###Creatig the Range of Tensors and tensor-like"
      ],
      "metadata": {
        "id": "AsOHNm7oIfsz"
      }
    },
    {
      "cell_type": "code",
      "source": [
        "#Using Tourch arange\n",
        "range= torch.arange(2,10)\n",
        "range"
      ],
      "metadata": {
        "colab": {
          "base_uri": "https://localhost:8080/"
        },
        "id": "oFIUfeGmI0_M",
        "outputId": "cb0352ef-a9f5-4379-e390-bfe9b5968c9b"
      },
      "execution_count": 23,
      "outputs": [
        {
          "output_type": "execute_result",
          "data": {
            "text/plain": [
              "tensor([2, 3, 4, 5, 6, 7, 8, 9])"
            ]
          },
          "metadata": {},
          "execution_count": 23
        }
      ]
    },
    {
      "cell_type": "code",
      "source": [
        "#using the arange\n",
        "one_to_ten = torch.arange(start= 1, end=11, step=1)\n",
        "one_to_ten\n"
      ],
      "metadata": {
        "colab": {
          "base_uri": "https://localhost:8080/"
        },
        "id": "JUUzlWW2JK_6",
        "outputId": "1b214c44-8495-421e-bd53-9e981b3874e4"
      },
      "execution_count": 24,
      "outputs": [
        {
          "output_type": "execute_result",
          "data": {
            "text/plain": [
              "tensor([ 1,  2,  3,  4,  5,  6,  7,  8,  9, 10])"
            ]
          },
          "metadata": {},
          "execution_count": 24
        }
      ]
    },
    {
      "cell_type": "code",
      "source": [
        "#tensor like methods\n",
        "ten_zeros= torch.zeros_like(input=one_to_ten)\n",
        "ten_zeros"
      ],
      "metadata": {
        "colab": {
          "base_uri": "https://localhost:8080/"
        },
        "id": "Tk9J24iyPeVY",
        "outputId": "f65328ae-ed30-40ea-8d7a-ea3b02ef5029"
      },
      "execution_count": 25,
      "outputs": [
        {
          "output_type": "execute_result",
          "data": {
            "text/plain": [
              "tensor([0, 0, 0, 0, 0, 0, 0, 0, 0, 0])"
            ]
          },
          "metadata": {},
          "execution_count": 25
        }
      ]
    },
    {
      "cell_type": "code",
      "source": [
        "ten_ones= torch.ones_like(input=one_to_ten)\n",
        "ten_ones"
      ],
      "metadata": {
        "colab": {
          "base_uri": "https://localhost:8080/"
        },
        "id": "Kjb10MgQQBm5",
        "outputId": "b6991167-ed57-44d2-e999-210c5abe79b6"
      },
      "execution_count": 26,
      "outputs": [
        {
          "output_type": "execute_result",
          "data": {
            "text/plain": [
              "tensor([1, 1, 1, 1, 1, 1, 1, 1, 1, 1])"
            ]
          },
          "metadata": {},
          "execution_count": 26
        }
      ]
    },
    {
      "cell_type": "markdown",
      "source": [
        "###Tensor Datatypes"
      ],
      "metadata": {
        "id": "YOkW2FixQtXx"
      }
    },
    {
      "cell_type": "code",
      "source": [
        "from IPython.core import display_trap\n",
        "# Float 32 tensor\n",
        "float_32_tensor = torch.tensor([4.3,2.0,4.0],\n",
        "                               dtype=None,\n",
        "                               device=\"cuda\",\n",
        "                               requires_grad=False\n",
        "\n",
        "                               )\n",
        "float_32_tensor"
      ],
      "metadata": {
        "colab": {
          "base_uri": "https://localhost:8080/"
        },
        "id": "duMGDDgnRDjq",
        "outputId": "627c6443-d14a-460d-cdc8-2a3576b502c5"
      },
      "execution_count": 27,
      "outputs": [
        {
          "output_type": "execute_result",
          "data": {
            "text/plain": [
              "tensor([4.3000, 2.0000, 4.0000], device='cuda:0')"
            ]
          },
          "metadata": {},
          "execution_count": 27
        }
      ]
    },
    {
      "cell_type": "code",
      "source": [
        "float_32_tensor.dtype\n"
      ],
      "metadata": {
        "colab": {
          "base_uri": "https://localhost:8080/"
        },
        "id": "_w4EXIYxToWp",
        "outputId": "f57b6a71-d6f8-4c4d-f785-94c0a72c20e6"
      },
      "execution_count": 28,
      "outputs": [
        {
          "output_type": "execute_result",
          "data": {
            "text/plain": [
              "torch.float32"
            ]
          },
          "metadata": {},
          "execution_count": 28
        }
      ]
    },
    {
      "cell_type": "code",
      "source": [
        "#float 16\n",
        "float_16 = float_32_tensor.type(torch.float16)\n",
        "float_16.dtype"
      ],
      "metadata": {
        "colab": {
          "base_uri": "https://localhost:8080/"
        },
        "id": "EdiMlUnrUuPG",
        "outputId": "5fef98f3-b12b-4704-8970-999df53947b6"
      },
      "execution_count": 29,
      "outputs": [
        {
          "output_type": "execute_result",
          "data": {
            "text/plain": [
              "torch.float16"
            ]
          },
          "metadata": {},
          "execution_count": 29
        }
      ]
    },
    {
      "cell_type": "code",
      "source": [
        "#creating tensor\n",
        "\n",
        "some_tensor= torch.rand(3,4)\n",
        "\n",
        "print(\" The tensor is some_tensor\")\n",
        "print(f\" The data type of tensor is: {some_tensor.dtype}\")\n",
        "print(f\" The shape of tensor is: {some_tensor.shape}\")\n",
        "print(f\" The device type of tensor is: {some_tensor.device}\")\n"
      ],
      "metadata": {
        "colab": {
          "base_uri": "https://localhost:8080/"
        },
        "id": "wkTL_eZVU-wM",
        "outputId": "dd2e362b-1e42-4cca-8801-0bd75b63dd34"
      },
      "execution_count": 30,
      "outputs": [
        {
          "output_type": "stream",
          "name": "stdout",
          "text": [
            " The tensor is some_tensor\n",
            " The data type of tensor is: torch.float32\n",
            " The shape of tensor is: torch.Size([3, 4])\n",
            " The device type of tensor is: cpu\n"
          ]
        }
      ]
    },
    {
      "cell_type": "markdown",
      "source": [
        "### Manupulating the Tensor operations\n",
        "* Addition\n",
        "* Subtraction\n",
        "* Multiplication\n",
        "* Division"
      ],
      "metadata": {
        "id": "oua-mKtgcxeI"
      }
    },
    {
      "cell_type": "code",
      "source": [
        "#Creating the tensor\n",
        "data = torch.tensor([1,2,3])\n"
      ],
      "metadata": {
        "id": "-ui2BJjgBocR"
      },
      "execution_count": 31,
      "outputs": []
    },
    {
      "cell_type": "code",
      "source": [
        "torch.add(data,10)\n"
      ],
      "metadata": {
        "colab": {
          "base_uri": "https://localhost:8080/"
        },
        "id": "tztOwTA4B9Ey",
        "outputId": "1066485f-a5fc-47f5-e26f-be541ca8fb69"
      },
      "execution_count": 32,
      "outputs": [
        {
          "output_type": "execute_result",
          "data": {
            "text/plain": [
              "tensor([11, 12, 13])"
            ]
          },
          "metadata": {},
          "execution_count": 32
        }
      ]
    },
    {
      "cell_type": "code",
      "source": [
        "# Multiply\n",
        "data *4"
      ],
      "metadata": {
        "colab": {
          "base_uri": "https://localhost:8080/"
        },
        "id": "yktk_reuCc7C",
        "outputId": "76df0ead-b9f3-41d0-b225-22ba9fec55f1"
      },
      "execution_count": 33,
      "outputs": [
        {
          "output_type": "execute_result",
          "data": {
            "text/plain": [
              "tensor([ 4,  8, 12])"
            ]
          },
          "metadata": {},
          "execution_count": 33
        }
      ]
    },
    {
      "cell_type": "code",
      "source": [
        "torch.mul(data,10)"
      ],
      "metadata": {
        "colab": {
          "base_uri": "https://localhost:8080/"
        },
        "id": "iNFA-yHzCtzj",
        "outputId": "f1b5a8f1-30c7-4972-c6d4-af4cd6efda83"
      },
      "execution_count": 34,
      "outputs": [
        {
          "output_type": "execute_result",
          "data": {
            "text/plain": [
              "tensor([10, 20, 30])"
            ]
          },
          "metadata": {},
          "execution_count": 34
        }
      ]
    },
    {
      "cell_type": "code",
      "source": [
        "#Subtract\n",
        "data-10"
      ],
      "metadata": {
        "colab": {
          "base_uri": "https://localhost:8080/"
        },
        "id": "ZVt1Pn1KCx1E",
        "outputId": "a280d852-d41b-4139-fb52-5921b43c249b"
      },
      "execution_count": 35,
      "outputs": [
        {
          "output_type": "execute_result",
          "data": {
            "text/plain": [
              "tensor([-9, -8, -7])"
            ]
          },
          "metadata": {},
          "execution_count": 35
        }
      ]
    },
    {
      "cell_type": "code",
      "source": [
        "torch.sub(data, 10)"
      ],
      "metadata": {
        "colab": {
          "base_uri": "https://localhost:8080/"
        },
        "id": "z9Qo4HDeC3lD",
        "outputId": "dd827ded-7e21-4fda-b1ab-8f0409e0540c"
      },
      "execution_count": 36,
      "outputs": [
        {
          "output_type": "execute_result",
          "data": {
            "text/plain": [
              "tensor([-9, -8, -7])"
            ]
          },
          "metadata": {},
          "execution_count": 36
        }
      ]
    },
    {
      "cell_type": "markdown",
      "source": [
        "### Matrix Multiplication\n",
        "* Element by element\n",
        "* Matrix multiply (dot product)"
      ],
      "metadata": {
        "id": "3wz9MWhaC88T"
      }
    },
    {
      "cell_type": "code",
      "source": [
        "# Multiplying each element\n",
        "print(f\" Equals: {data * data}\")"
      ],
      "metadata": {
        "colab": {
          "base_uri": "https://localhost:8080/"
        },
        "id": "h2YyO2ccH-8J",
        "outputId": "c6be0a7a-ed0e-4653-ea21-b2bebe2d5b36"
      },
      "execution_count": 37,
      "outputs": [
        {
          "output_type": "stream",
          "name": "stdout",
          "text": [
            " Equals: tensor([1, 4, 9])\n"
          ]
        }
      ]
    },
    {
      "cell_type": "code",
      "source": [
        "#Multiplying matrix element\n",
        "\n",
        "matrix = torch.matmul(data,data)\n",
        "matrix"
      ],
      "metadata": {
        "colab": {
          "base_uri": "https://localhost:8080/"
        },
        "id": "ofUZtH73ICrV",
        "outputId": "1d267ddc-b0f9-4397-b1d4-0d0c44834cf7"
      },
      "execution_count": 38,
      "outputs": [
        {
          "output_type": "execute_result",
          "data": {
            "text/plain": [
              "tensor(14)"
            ]
          },
          "metadata": {},
          "execution_count": 38
        }
      ]
    },
    {
      "cell_type": "code",
      "source": [
        "#matrix multiplication by hand\n",
        "1*1 +2*2 + 3*3"
      ],
      "metadata": {
        "colab": {
          "base_uri": "https://localhost:8080/"
        },
        "id": "azLlZCcLJVV_",
        "outputId": "90a5a321-6b17-45cb-e89f-d6fc7927d15f"
      },
      "execution_count": 39,
      "outputs": [
        {
          "output_type": "execute_result",
          "data": {
            "text/plain": [
              "14"
            ]
          },
          "metadata": {},
          "execution_count": 39
        }
      ]
    },
    {
      "cell_type": "code",
      "source": [
        "# %%time\n",
        "# value =0\n",
        "# for i in range(len(data)):\n",
        "#   value+= data[i] * data[i]\n",
        "# print(value)"
      ],
      "metadata": {
        "id": "J6RNTUEALpi4"
      },
      "execution_count": 88,
      "outputs": []
    },
    {
      "cell_type": "code",
      "source": [
        "%%time\n",
        "torch.matmul(data,data)"
      ],
      "metadata": {
        "colab": {
          "base_uri": "https://localhost:8080/"
        },
        "id": "W80W6xUnNW9a",
        "outputId": "cf8f7227-fdce-433e-9c98-2f56b442b8a1"
      },
      "execution_count": 89,
      "outputs": [
        {
          "output_type": "stream",
          "name": "stdout",
          "text": [
            "CPU times: user 932 µs, sys: 0 ns, total: 932 µs\n",
            "Wall time: 940 µs\n"
          ]
        },
        {
          "output_type": "execute_result",
          "data": {
            "text/plain": [
              "tensor(14)"
            ]
          },
          "metadata": {},
          "execution_count": 89
        }
      ]
    },
    {
      "cell_type": "code",
      "source": [
        "#Matrix Multiplications\n",
        "\n",
        "torch.matmul( torch.rand([10,10]),torch.rand([10,2]))\n",
        "\n"
      ],
      "metadata": {
        "colab": {
          "base_uri": "https://localhost:8080/"
        },
        "id": "yMoeOQ-qNkrZ",
        "outputId": "bc1c64ea-dfb8-446a-813f-4a66c66b3570"
      },
      "execution_count": 42,
      "outputs": [
        {
          "output_type": "execute_result",
          "data": {
            "text/plain": [
              "tensor([[1.8661, 2.4687],\n",
              "        [2.4167, 2.6546],\n",
              "        [1.8081, 2.2922],\n",
              "        [1.6453, 2.3574],\n",
              "        [1.8637, 2.3780],\n",
              "        [2.4610, 2.9746],\n",
              "        [1.4469, 1.7503],\n",
              "        [2.2180, 3.0344],\n",
              "        [1.9524, 1.9946],\n",
              "        [2.2975, 2.3725]])"
            ]
          },
          "metadata": {},
          "execution_count": 42
        }
      ]
    },
    {
      "cell_type": "markdown",
      "source": [
        "### Matrix multiplication manually"
      ],
      "metadata": {
        "id": "8QNZQLgmbe_M"
      }
    },
    {
      "cell_type": "code",
      "source": [
        "tensor_A = torch.tensor([[2,3],\n",
        "                         [3,4],\n",
        "                         [5,8]])\n",
        "tensor_B = torch.tensor([[1,9],\n",
        "                         [8,4],\n",
        "                         [5,2]])\n",
        "tensor_A.shape"
      ],
      "metadata": {
        "colab": {
          "base_uri": "https://localhost:8080/"
        },
        "id": "IlTmyzULgwsU",
        "outputId": "b941b405-04c1-4fc6-ccbe-44eefcb3b6ed"
      },
      "execution_count": 43,
      "outputs": [
        {
          "output_type": "execute_result",
          "data": {
            "text/plain": [
              "torch.Size([3, 2])"
            ]
          },
          "metadata": {},
          "execution_count": 43
        }
      ]
    },
    {
      "cell_type": "code",
      "source": [
        "tensor_B.shape\n"
      ],
      "metadata": {
        "colab": {
          "base_uri": "https://localhost:8080/"
        },
        "id": "Mj29Wae0hHMf",
        "outputId": "83905b78-e97f-4be7-ec5f-a33640721fd7"
      },
      "execution_count": 44,
      "outputs": [
        {
          "output_type": "execute_result",
          "data": {
            "text/plain": [
              "torch.Size([3, 2])"
            ]
          },
          "metadata": {},
          "execution_count": 44
        }
      ]
    },
    {
      "cell_type": "markdown",
      "source": [
        "To fix the shape issue we can use the  **Transpose**"
      ],
      "metadata": {
        "id": "HPts_cI0hLfs"
      }
    },
    {
      "cell_type": "code",
      "source": [
        "tensor_B\n"
      ],
      "metadata": {
        "colab": {
          "base_uri": "https://localhost:8080/"
        },
        "id": "i036iQuthSru",
        "outputId": "fc0fe136-6c08-4cd2-c300-2a742fa42386"
      },
      "execution_count": 45,
      "outputs": [
        {
          "output_type": "execute_result",
          "data": {
            "text/plain": [
              "tensor([[1, 9],\n",
              "        [8, 4],\n",
              "        [5, 2]])"
            ]
          },
          "metadata": {},
          "execution_count": 45
        }
      ]
    },
    {
      "cell_type": "code",
      "source": [
        "tensor_B.T # T is used to change the dimention of the the matrix"
      ],
      "metadata": {
        "colab": {
          "base_uri": "https://localhost:8080/"
        },
        "id": "rFvU8mv5h6DP",
        "outputId": "16eb701b-34c1-43e8-fac9-2ca5e58a1293"
      },
      "execution_count": 46,
      "outputs": [
        {
          "output_type": "execute_result",
          "data": {
            "text/plain": [
              "tensor([[1, 8, 5],\n",
              "        [9, 4, 2]])"
            ]
          },
          "metadata": {},
          "execution_count": 46
        }
      ]
    },
    {
      "cell_type": "code",
      "source": [
        "tensor_B.T.shape\n"
      ],
      "metadata": {
        "colab": {
          "base_uri": "https://localhost:8080/"
        },
        "id": "a654pkgHh8Hl",
        "outputId": "c6eb5f6e-af30-4410-b790-4dffd45abca7"
      },
      "execution_count": 47,
      "outputs": [
        {
          "output_type": "execute_result",
          "data": {
            "text/plain": [
              "torch.Size([2, 3])"
            ]
          },
          "metadata": {},
          "execution_count": 47
        }
      ]
    },
    {
      "cell_type": "code",
      "source": [
        "torch.mm(tensor_A,tensor_B.T)"
      ],
      "metadata": {
        "colab": {
          "base_uri": "https://localhost:8080/"
        },
        "id": "heA6DBLeiE3a",
        "outputId": "1e2c883f-b589-47c3-9b26-4c39da256e71"
      },
      "execution_count": 48,
      "outputs": [
        {
          "output_type": "execute_result",
          "data": {
            "text/plain": [
              "tensor([[29, 28, 16],\n",
              "        [39, 40, 23],\n",
              "        [77, 72, 41]])"
            ]
          },
          "metadata": {},
          "execution_count": 48
        }
      ]
    },
    {
      "cell_type": "markdown",
      "source": [
        "### Finding the min, max, mean sum (Tensor Aggrigation)"
      ],
      "metadata": {
        "id": "UN4uFE82iQGe"
      }
    },
    {
      "cell_type": "code",
      "source": [
        "x= torch.arange(0,100,10)\n",
        "x"
      ],
      "metadata": {
        "colab": {
          "base_uri": "https://localhost:8080/"
        },
        "id": "lj-Uw2HO__NI",
        "outputId": "b89942ba-68c5-4fed-81d2-72794c5558b4"
      },
      "execution_count": 49,
      "outputs": [
        {
          "output_type": "execute_result",
          "data": {
            "text/plain": [
              "tensor([ 0, 10, 20, 30, 40, 50, 60, 70, 80, 90])"
            ]
          },
          "metadata": {},
          "execution_count": 49
        }
      ]
    },
    {
      "cell_type": "code",
      "source": [
        "x.dtype"
      ],
      "metadata": {
        "colab": {
          "base_uri": "https://localhost:8080/"
        },
        "id": "UHOgwaQOAMmT",
        "outputId": "0bd5f6cd-54d7-4638-9c23-7e7f1b3cb9d3"
      },
      "execution_count": 50,
      "outputs": [
        {
          "output_type": "execute_result",
          "data": {
            "text/plain": [
              "torch.int64"
            ]
          },
          "metadata": {},
          "execution_count": 50
        }
      ]
    },
    {
      "cell_type": "code",
      "source": [
        "x.min()"
      ],
      "metadata": {
        "colab": {
          "base_uri": "https://localhost:8080/"
        },
        "id": "jFZC-yj6Anrt",
        "outputId": "b331d5f3-0bb4-4c8a-c572-51efe3438af1"
      },
      "execution_count": 51,
      "outputs": [
        {
          "output_type": "execute_result",
          "data": {
            "text/plain": [
              "tensor(0)"
            ]
          },
          "metadata": {},
          "execution_count": 51
        }
      ]
    },
    {
      "cell_type": "code",
      "source": [
        "torch.min(x)"
      ],
      "metadata": {
        "colab": {
          "base_uri": "https://localhost:8080/"
        },
        "id": "fMCb6jMJAp3q",
        "outputId": "279a5274-689b-4bda-8fa9-9dec8f720811"
      },
      "execution_count": 52,
      "outputs": [
        {
          "output_type": "execute_result",
          "data": {
            "text/plain": [
              "tensor(0)"
            ]
          },
          "metadata": {},
          "execution_count": 52
        }
      ]
    },
    {
      "cell_type": "code",
      "source": [
        "x.max()"
      ],
      "metadata": {
        "colab": {
          "base_uri": "https://localhost:8080/"
        },
        "id": "lRiGFE4jAr4m",
        "outputId": "19cf7059-41ab-4e43-d685-51f969b47c3e"
      },
      "execution_count": 53,
      "outputs": [
        {
          "output_type": "execute_result",
          "data": {
            "text/plain": [
              "tensor(90)"
            ]
          },
          "metadata": {},
          "execution_count": 53
        }
      ]
    },
    {
      "cell_type": "code",
      "source": [
        "torch.max(x)"
      ],
      "metadata": {
        "colab": {
          "base_uri": "https://localhost:8080/"
        },
        "id": "Otk7Xc4BBaWw",
        "outputId": "ea55ca89-c227-4d04-b5e5-4d7ded5ab059"
      },
      "execution_count": 54,
      "outputs": [
        {
          "output_type": "execute_result",
          "data": {
            "text/plain": [
              "tensor(90)"
            ]
          },
          "metadata": {},
          "execution_count": 54
        }
      ]
    },
    {
      "cell_type": "code",
      "source": [
        "torch.mean(x.type(torch.float32))"
      ],
      "metadata": {
        "colab": {
          "base_uri": "https://localhost:8080/"
        },
        "id": "vjNXwZWhBceV",
        "outputId": "9384d8cc-b9e3-4856-9000-45db9258139b"
      },
      "execution_count": 55,
      "outputs": [
        {
          "output_type": "execute_result",
          "data": {
            "text/plain": [
              "tensor(45.)"
            ]
          },
          "metadata": {},
          "execution_count": 55
        }
      ]
    },
    {
      "cell_type": "code",
      "source": [
        "x.type(torch.float32).mean()"
      ],
      "metadata": {
        "colab": {
          "base_uri": "https://localhost:8080/"
        },
        "id": "erVBgH9VB8Pg",
        "outputId": "f9c478cb-3a00-4f97-e369-546f38dca039"
      },
      "execution_count": 56,
      "outputs": [
        {
          "output_type": "execute_result",
          "data": {
            "text/plain": [
              "tensor(45.)"
            ]
          },
          "metadata": {},
          "execution_count": 56
        }
      ]
    },
    {
      "cell_type": "code",
      "source": [
        "x.sum()"
      ],
      "metadata": {
        "id": "NgWJdGnxCNXL",
        "colab": {
          "base_uri": "https://localhost:8080/"
        },
        "outputId": "f235e549-5e70-4719-b939-fc8c8e58429f"
      },
      "execution_count": 57,
      "outputs": [
        {
          "output_type": "execute_result",
          "data": {
            "text/plain": [
              "tensor(450)"
            ]
          },
          "metadata": {},
          "execution_count": 57
        }
      ]
    },
    {
      "cell_type": "code",
      "source": [
        "torch.sum(x)"
      ],
      "metadata": {
        "id": "ZRboeE9cFwix",
        "colab": {
          "base_uri": "https://localhost:8080/"
        },
        "outputId": "ba4aece3-8534-4591-eb2f-ef518118e2d3"
      },
      "execution_count": 58,
      "outputs": [
        {
          "output_type": "execute_result",
          "data": {
            "text/plain": [
              "tensor(450)"
            ]
          },
          "metadata": {},
          "execution_count": 58
        }
      ]
    },
    {
      "cell_type": "code",
      "source": [
        "x.argmin()"
      ],
      "metadata": {
        "id": "wDLUkQR5GJjJ",
        "colab": {
          "base_uri": "https://localhost:8080/"
        },
        "outputId": "ea4b7e75-b4ed-40f9-d189-47736421fb12"
      },
      "execution_count": 59,
      "outputs": [
        {
          "output_type": "execute_result",
          "data": {
            "text/plain": [
              "tensor(0)"
            ]
          },
          "metadata": {},
          "execution_count": 59
        }
      ]
    },
    {
      "cell_type": "code",
      "source": [
        "x.argmax() # Finding the position of Min and Max"
      ],
      "metadata": {
        "colab": {
          "base_uri": "https://localhost:8080/"
        },
        "id": "PJqUiyrI_zXx",
        "outputId": "e5303d2c-b5f0-481e-af03-246c0f6c1431"
      },
      "execution_count": 60,
      "outputs": [
        {
          "output_type": "execute_result",
          "data": {
            "text/plain": [
              "tensor(9)"
            ]
          },
          "metadata": {},
          "execution_count": 60
        }
      ]
    },
    {
      "cell_type": "markdown",
      "source": [
        "## Reshaping, Stacking, Squeezing, Unsqueezing\n",
        "* Reshaping: Reshaping the input tensor to a defined shape\n",
        "* View return the view of the input tensor\n",
        "* Stacking Arranging the object to the top of each other\n",
        "* Squeezing : remove all the 1 dimentional from the tensor\n",
        "* Unsqueezing: Adding the one dimentional to the tensor\n",
        "* Permute: Return the dimension of the view with the permuted sequence"
      ],
      "metadata": {
        "id": "RvWFIREY_6SE"
      }
    },
    {
      "cell_type": "code",
      "source": [
        "# Lets create the tensor\n",
        "import torch\n",
        "x = torch.arange(1., 10.)\n",
        "x"
      ],
      "metadata": {
        "colab": {
          "base_uri": "https://localhost:8080/"
        },
        "id": "sUv6N6u0NOtG",
        "outputId": "aef9d1f6-57ad-4c80-bcf6-6791e0a7ba26"
      },
      "execution_count": 61,
      "outputs": [
        {
          "output_type": "execute_result",
          "data": {
            "text/plain": [
              "tensor([1., 2., 3., 4., 5., 6., 7., 8., 9.])"
            ]
          },
          "metadata": {},
          "execution_count": 61
        }
      ]
    },
    {
      "cell_type": "code",
      "source": [
        "x.shape"
      ],
      "metadata": {
        "colab": {
          "base_uri": "https://localhost:8080/"
        },
        "id": "RwjV4XN4NmdC",
        "outputId": "98205437-b356-4539-facb-a1b65d227d2c"
      },
      "execution_count": 62,
      "outputs": [
        {
          "output_type": "execute_result",
          "data": {
            "text/plain": [
              "torch.Size([9])"
            ]
          },
          "metadata": {},
          "execution_count": 62
        }
      ]
    },
    {
      "cell_type": "code",
      "source": [
        "# to add an extra dimension\n",
        "x_reshaped = x.reshape(9,1)\n",
        "x_reshaped"
      ],
      "metadata": {
        "colab": {
          "base_uri": "https://localhost:8080/"
        },
        "id": "XfFwwNwJN4_y",
        "outputId": "d9d4244c-0892-4d66-83ac-37c2b1f3a1d6"
      },
      "execution_count": 63,
      "outputs": [
        {
          "output_type": "execute_result",
          "data": {
            "text/plain": [
              "tensor([[1.],\n",
              "        [2.],\n",
              "        [3.],\n",
              "        [4.],\n",
              "        [5.],\n",
              "        [6.],\n",
              "        [7.],\n",
              "        [8.],\n",
              "        [9.]])"
            ]
          },
          "metadata": {},
          "execution_count": 63
        }
      ]
    },
    {
      "cell_type": "code",
      "source": [
        "x_reshaped = x.reshape(1,9)\n",
        "x_reshaped"
      ],
      "metadata": {
        "colab": {
          "base_uri": "https://localhost:8080/"
        },
        "id": "bbbz9_H5OCLF",
        "outputId": "1cc9357e-7732-4286-8ae3-aad45998d587"
      },
      "execution_count": 64,
      "outputs": [
        {
          "output_type": "execute_result",
          "data": {
            "text/plain": [
              "tensor([[1., 2., 3., 4., 5., 6., 7., 8., 9.]])"
            ]
          },
          "metadata": {},
          "execution_count": 64
        }
      ]
    },
    {
      "cell_type": "code",
      "source": [
        "# using the view\n",
        "# Changing the x changes the view because the view of the memory shares the same memory as the original tensor shares\n",
        "z= x.view([3,3])\n",
        "z,z.shape"
      ],
      "metadata": {
        "colab": {
          "base_uri": "https://localhost:8080/"
        },
        "id": "j9nW7arsPRwI",
        "outputId": "7ead3650-14f4-4700-e4a3-678550972cd9"
      },
      "execution_count": 65,
      "outputs": [
        {
          "output_type": "execute_result",
          "data": {
            "text/plain": [
              "(tensor([[1., 2., 3.],\n",
              "         [4., 5., 6.],\n",
              "         [7., 8., 9.]]),\n",
              " torch.Size([3, 3]))"
            ]
          },
          "metadata": {},
          "execution_count": 65
        }
      ]
    },
    {
      "cell_type": "code",
      "source": [
        "z[:,0]=5\n",
        "z,x"
      ],
      "metadata": {
        "colab": {
          "base_uri": "https://localhost:8080/"
        },
        "id": "pcNdpBNAP18V",
        "outputId": "6fc7e7a0-143c-4dc2-81b9-f12aa0c60dee"
      },
      "execution_count": 66,
      "outputs": [
        {
          "output_type": "execute_result",
          "data": {
            "text/plain": [
              "(tensor([[5., 2., 3.],\n",
              "         [5., 5., 6.],\n",
              "         [5., 8., 9.]]),\n",
              " tensor([5., 2., 3., 5., 5., 6., 5., 8., 9.]))"
            ]
          },
          "metadata": {},
          "execution_count": 66
        }
      ]
    },
    {
      "cell_type": "code",
      "source": [
        "#Stack tensor on the top of each other\n",
        "x_stacked= torch.stack([x,x,x,x],dim=1)\n",
        "x_stacked"
      ],
      "metadata": {
        "colab": {
          "base_uri": "https://localhost:8080/"
        },
        "id": "u7qgya1_Q6CW",
        "outputId": "5e020a56-85dc-41ba-8771-ef8ec933de06"
      },
      "execution_count": 67,
      "outputs": [
        {
          "output_type": "execute_result",
          "data": {
            "text/plain": [
              "tensor([[5., 5., 5., 5.],\n",
              "        [2., 2., 2., 2.],\n",
              "        [3., 3., 3., 3.],\n",
              "        [5., 5., 5., 5.],\n",
              "        [5., 5., 5., 5.],\n",
              "        [6., 6., 6., 6.],\n",
              "        [5., 5., 5., 5.],\n",
              "        [8., 8., 8., 8.],\n",
              "        [9., 9., 9., 9.]])"
            ]
          },
          "metadata": {},
          "execution_count": 67
        }
      ]
    },
    {
      "cell_type": "markdown",
      "source": [
        "##Reshaping the array index"
      ],
      "metadata": {
        "id": "TlPggJ0wRh27"
      }
    },
    {
      "cell_type": "code",
      "source": [
        "import torch\n",
        "x= torch.arange(1,10)\n",
        "x,x.shape"
      ],
      "metadata": {
        "colab": {
          "base_uri": "https://localhost:8080/"
        },
        "id": "jp34lxp3Y1ie",
        "outputId": "0623e5a9-6466-40a8-8905-1e5c0c72fc81"
      },
      "execution_count": 68,
      "outputs": [
        {
          "output_type": "execute_result",
          "data": {
            "text/plain": [
              "(tensor([1, 2, 3, 4, 5, 6, 7, 8, 9]), torch.Size([9]))"
            ]
          },
          "metadata": {},
          "execution_count": 68
        }
      ]
    },
    {
      "cell_type": "code",
      "source": [
        "x_reshape = x.reshape(1,9)\n",
        "x_reshape"
      ],
      "metadata": {
        "colab": {
          "base_uri": "https://localhost:8080/"
        },
        "id": "eXwdhdVzY7_A",
        "outputId": "3b26ea8b-9db7-44fc-9026-9ca8be04eb03"
      },
      "execution_count": 69,
      "outputs": [
        {
          "output_type": "execute_result",
          "data": {
            "text/plain": [
              "tensor([[1, 2, 3, 4, 5, 6, 7, 8, 9]])"
            ]
          },
          "metadata": {},
          "execution_count": 69
        }
      ]
    },
    {
      "cell_type": "code",
      "source": [
        "x_reshape.shape"
      ],
      "metadata": {
        "colab": {
          "base_uri": "https://localhost:8080/"
        },
        "id": "H2xDf1otZTv0",
        "outputId": "fcd60523-f9ff-4bbc-daae-251a63cdfc9c"
      },
      "execution_count": 70,
      "outputs": [
        {
          "output_type": "execute_result",
          "data": {
            "text/plain": [
              "torch.Size([1, 9])"
            ]
          },
          "metadata": {},
          "execution_count": 70
        }
      ]
    },
    {
      "cell_type": "code",
      "source": [
        "y = torch.tensor([[2,3,4],\n",
        "                [4,3,6],\n",
        "                [9,2,4]])\n",
        "y.shape"
      ],
      "metadata": {
        "colab": {
          "base_uri": "https://localhost:8080/"
        },
        "id": "xwNCV-z7Zme_",
        "outputId": "4f5631b7-fe8c-4e1f-c38d-71706f7e764e"
      },
      "execution_count": 71,
      "outputs": [
        {
          "output_type": "execute_result",
          "data": {
            "text/plain": [
              "torch.Size([3, 3])"
            ]
          },
          "metadata": {},
          "execution_count": 71
        }
      ]
    },
    {
      "cell_type": "code",
      "source": [
        "x_reshaped"
      ],
      "metadata": {
        "colab": {
          "base_uri": "https://localhost:8080/"
        },
        "id": "FpgMIK1BcITf",
        "outputId": "d69f0722-7f03-4fd8-e45c-1eba62ce2df0"
      },
      "execution_count": 72,
      "outputs": [
        {
          "output_type": "execute_result",
          "data": {
            "text/plain": [
              "tensor([[5., 2., 3., 5., 5., 6., 5., 8., 9.]])"
            ]
          },
          "metadata": {},
          "execution_count": 72
        }
      ]
    },
    {
      "cell_type": "code",
      "source": [
        "x_squeezed = x_reshaped.squeeze()"
      ],
      "metadata": {
        "id": "SZri9pX7cKDy"
      },
      "execution_count": 73,
      "outputs": []
    },
    {
      "cell_type": "code",
      "source": [
        "x_squeezed.shape\n"
      ],
      "metadata": {
        "colab": {
          "base_uri": "https://localhost:8080/"
        },
        "id": "dk20HEIuce3j",
        "outputId": "31bace9e-1f2f-4427-d30b-7eabe08ac049"
      },
      "execution_count": 74,
      "outputs": [
        {
          "output_type": "execute_result",
          "data": {
            "text/plain": [
              "torch.Size([9])"
            ]
          },
          "metadata": {},
          "execution_count": 74
        }
      ]
    },
    {
      "cell_type": "code",
      "source": [
        "print(f\" Original data of x was : {x_reshaped}\")\n",
        "print(f\" Original dimension of x was : {x_reshaped.shape}\")\n",
        "\n",
        "print(f\" After squeezing x becomes: {x_squeezed}\")\n",
        "print(f\" After squeezing x becomes: {x_squeezed.shape}\")\n",
        "x_unsqueezed = x_squeezed.unsqueeze(dim =0)\n",
        "\n",
        "print(f\" After Unsqueezing x becomes: {x_unsqueezed}\")\n",
        "print(f\" After Unsqueezing x becomes: {x_unsqueezed.shape}\")\n",
        "\n",
        "\n",
        "\n"
      ],
      "metadata": {
        "colab": {
          "base_uri": "https://localhost:8080/"
        },
        "id": "zYOuFRA6d7CB",
        "outputId": "7b298973-907a-4940-e571-689069f4eff0"
      },
      "execution_count": 75,
      "outputs": [
        {
          "output_type": "stream",
          "name": "stdout",
          "text": [
            " Original data of x was : tensor([[5., 2., 3., 5., 5., 6., 5., 8., 9.]])\n",
            " Original dimension of x was : torch.Size([1, 9])\n",
            " After squeezing x becomes: tensor([5., 2., 3., 5., 5., 6., 5., 8., 9.])\n",
            " After squeezing x becomes: torch.Size([9])\n",
            " After Unsqueezing x becomes: tensor([[5., 2., 3., 5., 5., 6., 5., 8., 9.]])\n",
            " After Unsqueezing x becomes: torch.Size([1, 9])\n"
          ]
        }
      ]
    },
    {
      "cell_type": "code",
      "source": [
        "x_original = torch.rand(size=[230,230,3]) #Height, Width and color manual\n",
        "x_original.shape"
      ],
      "metadata": {
        "colab": {
          "base_uri": "https://localhost:8080/"
        },
        "id": "O83FIscsgWKy",
        "outputId": "d2278a4a-1948-45da-bedb-162c4850bbf4"
      },
      "execution_count": 76,
      "outputs": [
        {
          "output_type": "execute_result",
          "data": {
            "text/plain": [
              "torch.Size([230, 230, 3])"
            ]
          },
          "metadata": {},
          "execution_count": 76
        }
      ]
    },
    {
      "cell_type": "code",
      "source": [
        "x_permuted = x_original.permute(2,1,0)\n",
        "x_permuted.shape"
      ],
      "metadata": {
        "colab": {
          "base_uri": "https://localhost:8080/"
        },
        "id": "tHzqV78th-a2",
        "outputId": "a20eecb6-8c75-4a8d-a7e0-199d684c1241"
      },
      "execution_count": 77,
      "outputs": [
        {
          "output_type": "execute_result",
          "data": {
            "text/plain": [
              "torch.Size([3, 230, 230])"
            ]
          },
          "metadata": {},
          "execution_count": 77
        }
      ]
    },
    {
      "cell_type": "code",
      "source": [
        "x_original[0][0][0]"
      ],
      "metadata": {
        "colab": {
          "base_uri": "https://localhost:8080/"
        },
        "id": "F-z_scYrisPT",
        "outputId": "19119daf-00ef-458b-88e7-dfa74e6c9b76"
      },
      "execution_count": 78,
      "outputs": [
        {
          "output_type": "execute_result",
          "data": {
            "text/plain": [
              "tensor(0.9986)"
            ]
          },
          "metadata": {},
          "execution_count": 78
        }
      ]
    },
    {
      "cell_type": "code",
      "source": [
        "x_permuted[0][0][0]"
      ],
      "metadata": {
        "colab": {
          "base_uri": "https://localhost:8080/"
        },
        "id": "RgokXCI_kSLW",
        "outputId": "8c6c0736-8bcf-4bca-9f72-81e73307e3e7"
      },
      "execution_count": 79,
      "outputs": [
        {
          "output_type": "execute_result",
          "data": {
            "text/plain": [
              "tensor(0.9986)"
            ]
          },
          "metadata": {},
          "execution_count": 79
        }
      ]
    },
    {
      "cell_type": "markdown",
      "source": [
        "##Indexing (Searching the item at the particular index)"
      ],
      "metadata": {
        "id": "W8STCJs7kW-5"
      }
    },
    {
      "cell_type": "code",
      "source": [
        "import torch\n",
        "x= torch.arange(1,10).reshape(1,3,3)\n",
        "x"
      ],
      "metadata": {
        "colab": {
          "base_uri": "https://localhost:8080/"
        },
        "id": "VoMGh-G0lSBi",
        "outputId": "01d440da-bc0d-4252-fab3-ca5ccd06c4d6"
      },
      "execution_count": 80,
      "outputs": [
        {
          "output_type": "execute_result",
          "data": {
            "text/plain": [
              "tensor([[[1, 2, 3],\n",
              "         [4, 5, 6],\n",
              "         [7, 8, 9]]])"
            ]
          },
          "metadata": {},
          "execution_count": 80
        }
      ]
    },
    {
      "cell_type": "code",
      "source": [
        "x[0]"
      ],
      "metadata": {
        "colab": {
          "base_uri": "https://localhost:8080/"
        },
        "id": "_aOiGgZklpHM",
        "outputId": "54ca80d3-17de-4c81-965d-c901a12c7444"
      },
      "execution_count": 81,
      "outputs": [
        {
          "output_type": "execute_result",
          "data": {
            "text/plain": [
              "tensor([[1, 2, 3],\n",
              "        [4, 5, 6],\n",
              "        [7, 8, 9]])"
            ]
          },
          "metadata": {},
          "execution_count": 81
        }
      ]
    },
    {
      "cell_type": "code",
      "source": [
        "x[0][0]"
      ],
      "metadata": {
        "colab": {
          "base_uri": "https://localhost:8080/"
        },
        "id": "iNDnYX55niml",
        "outputId": "33634c24-eb1b-4020-ada4-23b20d265acb"
      },
      "execution_count": 82,
      "outputs": [
        {
          "output_type": "execute_result",
          "data": {
            "text/plain": [
              "tensor([1, 2, 3])"
            ]
          },
          "metadata": {},
          "execution_count": 82
        }
      ]
    },
    {
      "cell_type": "code",
      "source": [
        "x[0][0][1]"
      ],
      "metadata": {
        "colab": {
          "base_uri": "https://localhost:8080/"
        },
        "id": "HgWjjPJQnlp1",
        "outputId": "55bebf20-ac59-4bdd-a183-eec6a27b4825"
      },
      "execution_count": 83,
      "outputs": [
        {
          "output_type": "execute_result",
          "data": {
            "text/plain": [
              "tensor(2)"
            ]
          },
          "metadata": {},
          "execution_count": 83
        }
      ]
    },
    {
      "cell_type": "code",
      "source": [
        "x[:]"
      ],
      "metadata": {
        "colab": {
          "base_uri": "https://localhost:8080/"
        },
        "id": "oPaETDbhnpwU",
        "outputId": "9367c470-ac27-48ba-e490-6ae8a48a98e3"
      },
      "execution_count": 84,
      "outputs": [
        {
          "output_type": "execute_result",
          "data": {
            "text/plain": [
              "tensor([[[1, 2, 3],\n",
              "         [4, 5, 6],\n",
              "         [7, 8, 9]]])"
            ]
          },
          "metadata": {},
          "execution_count": 84
        }
      ]
    },
    {
      "cell_type": "code",
      "source": [
        "x[:,0] #To represent row element"
      ],
      "metadata": {
        "colab": {
          "base_uri": "https://localhost:8080/"
        },
        "id": "9F5YYjlgpHJ2",
        "outputId": "91be22dd-dcfa-4a22-dace-9674408f2e53"
      },
      "execution_count": 85,
      "outputs": [
        {
          "output_type": "execute_result",
          "data": {
            "text/plain": [
              "tensor([[1, 2, 3]])"
            ]
          },
          "metadata": {},
          "execution_count": 85
        }
      ]
    },
    {
      "cell_type": "code",
      "source": [
        "x[:][0][1]"
      ],
      "metadata": {
        "colab": {
          "base_uri": "https://localhost:8080/"
        },
        "id": "1cnzp6wzpKfa",
        "outputId": "17be67cf-abb2-4004-8da9-6f53b1701132"
      },
      "execution_count": 90,
      "outputs": [
        {
          "output_type": "execute_result",
          "data": {
            "text/plain": [
              "tensor([4, 5, 6])"
            ]
          },
          "metadata": {},
          "execution_count": 90
        }
      ]
    },
    {
      "cell_type": "code",
      "source": [
        "x[:,:, 1] # To represent column element"
      ],
      "metadata": {
        "colab": {
          "base_uri": "https://localhost:8080/"
        },
        "id": "C_WuNHEQpRJ0",
        "outputId": "ee85f7ba-cde3-4e87-bd47-793f0ef8d438"
      },
      "execution_count": 91,
      "outputs": [
        {
          "output_type": "execute_result",
          "data": {
            "text/plain": [
              "tensor([[2, 5, 8]])"
            ]
          },
          "metadata": {},
          "execution_count": 91
        }
      ]
    },
    {
      "cell_type": "code",
      "source": [
        "x[:,1]"
      ],
      "metadata": {
        "id": "JrWJ6XeEprxR",
        "colab": {
          "base_uri": "https://localhost:8080/"
        },
        "outputId": "bbed5f6d-d08a-4d04-f313-4ef751b23bc2"
      },
      "execution_count": 92,
      "outputs": [
        {
          "output_type": "execute_result",
          "data": {
            "text/plain": [
              "tensor([[4, 5, 6]])"
            ]
          },
          "metadata": {},
          "execution_count": 92
        }
      ]
    },
    {
      "cell_type": "code",
      "source": [],
      "metadata": {
        "id": "4CrtTklYeY6j"
      },
      "execution_count": null,
      "outputs": []
    }
  ]
}