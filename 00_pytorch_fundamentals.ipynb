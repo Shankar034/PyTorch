{
  "nbformat": 4,
  "nbformat_minor": 0,
  "metadata": {
    "colab": {
      "provenance": [],
      "gpuType": "T4",
      "authorship_tag": "ABX9TyP0O0X3n/KIuDvnE6hgiA5V",
      "include_colab_link": true
    },
    "kernelspec": {
      "name": "python3",
      "display_name": "Python 3"
    },
    "language_info": {
      "name": "python"
    },
    "accelerator": "GPU"
  },
  "cells": [
    {
      "cell_type": "markdown",
      "metadata": {
        "id": "view-in-github",
        "colab_type": "text"
      },
      "source": [
        "<a href=\"https://colab.research.google.com/github/Shankar034/PyTorch/blob/main/00_pytorch_fundamentals.ipynb\" target=\"_parent\"><img src=\"https://colab.research.google.com/assets/colab-badge.svg\" alt=\"Open In Colab\"/></a>"
      ]
    },
    {
      "cell_type": "markdown",
      "source": [
        "# 00. PyTorch Fundaments\n",
        "\n",
        "\n"
      ],
      "metadata": {
        "id": "_t8Rf2_OX72i"
      }
    },
    {
      "cell_type": "code",
      "source": [
        "import torch\n",
        "import pandas as pd\n",
        "import numpy as np\n",
        "import matplotlib.pyplot as plt\n",
        "print(\"Hello this is pytorch fundaments\")\n",
        "print(torch.__version__)\n",
        "\n"
      ],
      "metadata": {
        "id": "8opZ2hie0Tcq",
        "outputId": "5a7f9267-e499-4085-e319-588e778fcd1a",
        "colab": {
          "base_uri": "https://localhost:8080/"
        }
      },
      "execution_count": 7,
      "outputs": [
        {
          "output_type": "stream",
          "name": "stdout",
          "text": [
            "Hello this is pytorch fundaments\n",
            "2.0.1+cu118\n"
          ]
        }
      ]
    },
    {
      "cell_type": "code",
      "source": [
        "#scalar\n",
        "scalar = torch.tensor(7)\n",
        "scalar\n"
      ],
      "metadata": {
        "colab": {
          "base_uri": "https://localhost:8080/"
        },
        "id": "LKqaIb4KyPjg",
        "outputId": "ed54dea3-9371-4e2e-dc3e-e825be8ff001"
      },
      "execution_count": 8,
      "outputs": [
        {
          "output_type": "execute_result",
          "data": {
            "text/plain": [
              "tensor(7)"
            ]
          },
          "metadata": {},
          "execution_count": 8
        }
      ]
    },
    {
      "cell_type": "code",
      "source": [
        "scalar.ndim"
      ],
      "metadata": {
        "colab": {
          "base_uri": "https://localhost:8080/"
        },
        "id": "HUBeqBZ8yg4b",
        "outputId": "b6885c17-a77d-4816-fc7f-faf7c458fbee"
      },
      "execution_count": 9,
      "outputs": [
        {
          "output_type": "execute_result",
          "data": {
            "text/plain": [
              "0"
            ]
          },
          "metadata": {},
          "execution_count": 9
        }
      ]
    },
    {
      "cell_type": "code",
      "source": [
        "#get tensor back as python list\n",
        "scalar.item()"
      ],
      "metadata": {
        "colab": {
          "base_uri": "https://localhost:8080/"
        },
        "id": "qegjhjisy7TC",
        "outputId": "dbf74897-b15a-4318-e81b-4c4943edc369"
      },
      "execution_count": 10,
      "outputs": [
        {
          "output_type": "execute_result",
          "data": {
            "text/plain": [
              "7"
            ]
          },
          "metadata": {},
          "execution_count": 10
        }
      ]
    },
    {
      "cell_type": "code",
      "source": [
        "#Vector\n",
        "vector = torch.tensor([7,7])\n",
        "vector\n"
      ],
      "metadata": {
        "colab": {
          "base_uri": "https://localhost:8080/"
        },
        "id": "wSDMA4uwzQo_",
        "outputId": "b49ac730-7e07-420e-c740-66f10d17493c"
      },
      "execution_count": 11,
      "outputs": [
        {
          "output_type": "execute_result",
          "data": {
            "text/plain": [
              "tensor([7, 7])"
            ]
          },
          "metadata": {},
          "execution_count": 11
        }
      ]
    },
    {
      "cell_type": "code",
      "source": [
        "vector.ndim"
      ],
      "metadata": {
        "colab": {
          "base_uri": "https://localhost:8080/"
        },
        "id": "bDhuHRpQ0swj",
        "outputId": "5727e41c-e5df-41c5-b7c2-5262920ebcf3"
      },
      "execution_count": 12,
      "outputs": [
        {
          "output_type": "execute_result",
          "data": {
            "text/plain": [
              "1"
            ]
          },
          "metadata": {},
          "execution_count": 12
        }
      ]
    },
    {
      "cell_type": "code",
      "source": [
        "vector.size"
      ],
      "metadata": {
        "colab": {
          "base_uri": "https://localhost:8080/"
        },
        "id": "r5M0WGN20wkp",
        "outputId": "0ee27173-6556-48c0-a7fb-573d4db13030"
      },
      "execution_count": 13,
      "outputs": [
        {
          "output_type": "execute_result",
          "data": {
            "text/plain": [
              "<function Tensor.size>"
            ]
          },
          "metadata": {},
          "execution_count": 13
        }
      ]
    },
    {
      "cell_type": "code",
      "source": [
        "vector.shape"
      ],
      "metadata": {
        "colab": {
          "base_uri": "https://localhost:8080/"
        },
        "id": "O1pUovJc023m",
        "outputId": "d7eba85f-2802-4b8b-b572-cca9e1e1b65f"
      },
      "execution_count": 14,
      "outputs": [
        {
          "output_type": "execute_result",
          "data": {
            "text/plain": [
              "torch.Size([2])"
            ]
          },
          "metadata": {},
          "execution_count": 14
        }
      ]
    },
    {
      "cell_type": "code",
      "source": [
        "#Matrix\n",
        "matrix = torch.tensor([[7,9],\n",
        "                      [9,12]])\n",
        "matrix\n"
      ],
      "metadata": {
        "colab": {
          "base_uri": "https://localhost:8080/"
        },
        "id": "TNHZbyM5076x",
        "outputId": "730f9b4e-0e56-457a-adf5-8c0510008b1c"
      },
      "execution_count": 15,
      "outputs": [
        {
          "output_type": "execute_result",
          "data": {
            "text/plain": [
              "tensor([[ 7,  9],\n",
              "        [ 9, 12]])"
            ]
          },
          "metadata": {},
          "execution_count": 15
        }
      ]
    },
    {
      "cell_type": "code",
      "source": [
        "matrix.shape\n"
      ],
      "metadata": {
        "colab": {
          "base_uri": "https://localhost:8080/"
        },
        "id": "YWw_RppM1QOV",
        "outputId": "cae95a62-82d8-450e-a90a-e0960856d62d"
      },
      "execution_count": 16,
      "outputs": [
        {
          "output_type": "execute_result",
          "data": {
            "text/plain": [
              "torch.Size([2, 2])"
            ]
          },
          "metadata": {},
          "execution_count": 16
        }
      ]
    },
    {
      "cell_type": "code",
      "source": [
        "matrix.ndim"
      ],
      "metadata": {
        "colab": {
          "base_uri": "https://localhost:8080/"
        },
        "id": "0FtDhY6a1bSx",
        "outputId": "e0b9eb79-e3d4-4ec7-a06a-30b205389c50"
      },
      "execution_count": 17,
      "outputs": [
        {
          "output_type": "execute_result",
          "data": {
            "text/plain": [
              "2"
            ]
          },
          "metadata": {},
          "execution_count": 17
        }
      ]
    },
    {
      "cell_type": "code",
      "source": [
        "#TENSOR\n",
        "tensor = torch.tensor([[[1,2,3],\n",
        "                       [4,5,6],\n",
        "                       [6,7,8]]])\n",
        "tensor"
      ],
      "metadata": {
        "id": "hUZRPM9Q1g2z",
        "colab": {
          "base_uri": "https://localhost:8080/"
        },
        "outputId": "10f20626-a050-4941-f599-f536323ffb07"
      },
      "execution_count": 18,
      "outputs": [
        {
          "output_type": "execute_result",
          "data": {
            "text/plain": [
              "tensor([[[1, 2, 3],\n",
              "         [4, 5, 6],\n",
              "         [6, 7, 8]]])"
            ]
          },
          "metadata": {},
          "execution_count": 18
        }
      ]
    },
    {
      "cell_type": "code",
      "source": [
        "tensor.ndim"
      ],
      "metadata": {
        "colab": {
          "base_uri": "https://localhost:8080/"
        },
        "id": "kPfsrc138AVs",
        "outputId": "72832093-13a8-40c7-ffb0-afeb99e398ba"
      },
      "execution_count": 19,
      "outputs": [
        {
          "output_type": "execute_result",
          "data": {
            "text/plain": [
              "3"
            ]
          },
          "metadata": {},
          "execution_count": 19
        }
      ]
    },
    {
      "cell_type": "code",
      "source": [
        "tensor.shape"
      ],
      "metadata": {
        "colab": {
          "base_uri": "https://localhost:8080/"
        },
        "id": "aXbyjf_J8ESg",
        "outputId": "fd5d3074-4a7e-4513-e0f9-92dd62c0816f"
      },
      "execution_count": 20,
      "outputs": [
        {
          "output_type": "execute_result",
          "data": {
            "text/plain": [
              "torch.Size([1, 3, 3])"
            ]
          },
          "metadata": {},
          "execution_count": 20
        }
      ]
    },
    {
      "cell_type": "code",
      "source": [
        "tensor[0]"
      ],
      "metadata": {
        "colab": {
          "base_uri": "https://localhost:8080/"
        },
        "id": "XTyG0A0v8IvW",
        "outputId": "894cfdd8-bbcf-4666-dd39-c0a4a1cb8af4"
      },
      "execution_count": 21,
      "outputs": [
        {
          "output_type": "execute_result",
          "data": {
            "text/plain": [
              "tensor([[1, 2, 3],\n",
              "        [4, 5, 6],\n",
              "        [6, 7, 8]])"
            ]
          },
          "metadata": {},
          "execution_count": 21
        }
      ]
    },
    {
      "cell_type": "markdown",
      "source": [
        "#Random Tensors"
      ],
      "metadata": {
        "id": "fTKef0588flz"
      }
    },
    {
      "cell_type": "code",
      "source": [
        "#Random Tensors\n",
        "rTensor = torch.rand(1,10,10)\n",
        "rTensor\n"
      ],
      "metadata": {
        "colab": {
          "base_uri": "https://localhost:8080/"
        },
        "id": "CO3-XFB49N-O",
        "outputId": "11a668d5-f619-4907-da03-d63bfbf1c9dc"
      },
      "execution_count": 22,
      "outputs": [
        {
          "output_type": "execute_result",
          "data": {
            "text/plain": [
              "tensor([[[0.1225, 0.2292, 0.5326, 0.3661, 0.7871, 0.1438, 0.1879, 0.5874,\n",
              "          0.2546, 0.4269],\n",
              "         [0.9256, 0.3131, 0.5794, 0.2020, 0.3554, 0.9775, 0.0173, 0.9568,\n",
              "          0.0466, 0.0333],\n",
              "         [0.1833, 0.8622, 0.7038, 0.6167, 0.8091, 0.3709, 0.9686, 0.8522,\n",
              "          0.1281, 0.4688],\n",
              "         [0.5654, 0.0552, 0.9717, 0.6838, 0.7754, 0.9780, 0.8077, 0.0122,\n",
              "          0.8566, 0.8447],\n",
              "         [0.9317, 0.9910, 0.7623, 0.6677, 0.8980, 0.5029, 0.3474, 0.8779,\n",
              "          0.4231, 0.4461],\n",
              "         [0.8855, 0.9115, 0.4636, 0.5003, 0.3053, 0.2839, 0.5978, 0.7690,\n",
              "          0.7774, 0.5163],\n",
              "         [0.1991, 0.5024, 0.5007, 0.8670, 0.9560, 0.0619, 0.2988, 0.0867,\n",
              "          0.0654, 0.3459],\n",
              "         [0.1232, 0.4446, 0.2316, 0.7143, 0.5875, 0.2209, 0.2718, 0.0888,\n",
              "          0.8097, 0.0089],\n",
              "         [0.9749, 0.8051, 0.4319, 0.1908, 0.7246, 0.1022, 0.6232, 0.1063,\n",
              "          0.8755, 0.9563],\n",
              "         [0.8099, 0.9212, 0.1618, 0.4395, 0.3849, 0.1309, 0.7738, 0.8953,\n",
              "          0.3184, 0.3623]]])"
            ]
          },
          "metadata": {},
          "execution_count": 22
        }
      ]
    },
    {
      "cell_type": "code",
      "source": [
        "rTensor.ndim\n",
        "\n"
      ],
      "metadata": {
        "colab": {
          "base_uri": "https://localhost:8080/"
        },
        "id": "99lh5xlH--ne",
        "outputId": "f8ac603b-51b4-4e3c-b106-3e1b58268a0b"
      },
      "execution_count": 23,
      "outputs": [
        {
          "output_type": "execute_result",
          "data": {
            "text/plain": [
              "3"
            ]
          },
          "metadata": {},
          "execution_count": 23
        }
      ]
    },
    {
      "cell_type": "code",
      "source": [
        "#Create a tenson with similar size to an image\n",
        "rImageSizeTensor = torch.rand(size=(224,224,3))\n",
        "rImageSizeTensor.shape, rImageSizeTensor.ndim\n"
      ],
      "metadata": {
        "colab": {
          "base_uri": "https://localhost:8080/"
        },
        "id": "moqRU9ci_I1f",
        "outputId": "fb957cbe-4152-4370-cdb3-987a0ef437ba"
      },
      "execution_count": 24,
      "outputs": [
        {
          "output_type": "execute_result",
          "data": {
            "text/plain": [
              "(torch.Size([224, 224, 3]), 3)"
            ]
          },
          "metadata": {},
          "execution_count": 24
        }
      ]
    },
    {
      "cell_type": "markdown",
      "source": [
        "###Zeros and Ones\n"
      ],
      "metadata": {
        "id": "hjRknMiaGwc6"
      }
    },
    {
      "cell_type": "code",
      "source": [
        "#Zeros\n",
        "zeros = torch.zeros(3,3)\n",
        "zeros"
      ],
      "metadata": {
        "colab": {
          "base_uri": "https://localhost:8080/"
        },
        "id": "Jkt5gG3oHuA0",
        "outputId": "b51dbfd1-65aa-43a1-fe3f-2685ec1c962c"
      },
      "execution_count": 25,
      "outputs": [
        {
          "output_type": "execute_result",
          "data": {
            "text/plain": [
              "tensor([[0., 0., 0.],\n",
              "        [0., 0., 0.],\n",
              "        [0., 0., 0.]])"
            ]
          },
          "metadata": {},
          "execution_count": 25
        }
      ]
    },
    {
      "cell_type": "code",
      "source": [
        "#Ones\n",
        "Ones = torch.ones(size=(4,3))\n",
        "Ones"
      ],
      "metadata": {
        "colab": {
          "base_uri": "https://localhost:8080/"
        },
        "id": "zWTS-uaLIOyh",
        "outputId": "3ddb466c-b430-411f-c128-5dccc59a99d9"
      },
      "execution_count": 26,
      "outputs": [
        {
          "output_type": "execute_result",
          "data": {
            "text/plain": [
              "tensor([[1., 1., 1.],\n",
              "        [1., 1., 1.],\n",
              "        [1., 1., 1.],\n",
              "        [1., 1., 1.]])"
            ]
          },
          "metadata": {},
          "execution_count": 26
        }
      ]
    },
    {
      "cell_type": "code",
      "source": [
        "Ones.dtype"
      ],
      "metadata": {
        "colab": {
          "base_uri": "https://localhost:8080/"
        },
        "id": "FuOQY8-sIUsr",
        "outputId": "05a377b8-7dc9-41c9-cdc3-74953dfaa73f"
      },
      "execution_count": 27,
      "outputs": [
        {
          "output_type": "execute_result",
          "data": {
            "text/plain": [
              "torch.float32"
            ]
          },
          "metadata": {},
          "execution_count": 27
        }
      ]
    },
    {
      "cell_type": "code",
      "source": [
        "zeros.dtype"
      ],
      "metadata": {
        "colab": {
          "base_uri": "https://localhost:8080/"
        },
        "id": "G0_jVxCcIZxm",
        "outputId": "2b6868ea-6405-497f-eb41-c87b00d44c44"
      },
      "execution_count": 28,
      "outputs": [
        {
          "output_type": "execute_result",
          "data": {
            "text/plain": [
              "torch.float32"
            ]
          },
          "metadata": {},
          "execution_count": 28
        }
      ]
    },
    {
      "cell_type": "markdown",
      "source": [
        "###Creatig the Range of Tensors and tensor-like"
      ],
      "metadata": {
        "id": "AsOHNm7oIfsz"
      }
    },
    {
      "cell_type": "code",
      "source": [
        "#Using Tourch arange\n",
        "range= torch.arange(2,10)\n",
        "range"
      ],
      "metadata": {
        "colab": {
          "base_uri": "https://localhost:8080/"
        },
        "id": "oFIUfeGmI0_M",
        "outputId": "862062c7-aa17-49f1-d8ee-28351afd1695"
      },
      "execution_count": 29,
      "outputs": [
        {
          "output_type": "execute_result",
          "data": {
            "text/plain": [
              "tensor([2, 3, 4, 5, 6, 7, 8, 9])"
            ]
          },
          "metadata": {},
          "execution_count": 29
        }
      ]
    },
    {
      "cell_type": "code",
      "source": [
        "#using the arange\n",
        "one_to_ten = torch.arange(start= 1, end=11, step=1)\n",
        "one_to_ten\n"
      ],
      "metadata": {
        "colab": {
          "base_uri": "https://localhost:8080/"
        },
        "id": "JUUzlWW2JK_6",
        "outputId": "ef1fdd7f-13b2-4d7f-9b59-ff0cc70208cd"
      },
      "execution_count": 30,
      "outputs": [
        {
          "output_type": "execute_result",
          "data": {
            "text/plain": [
              "tensor([ 1,  2,  3,  4,  5,  6,  7,  8,  9, 10])"
            ]
          },
          "metadata": {},
          "execution_count": 30
        }
      ]
    },
    {
      "cell_type": "code",
      "source": [
        "#tensor like methods\n",
        "ten_zeros= torch.zeros_like(input=one_to_ten)\n",
        "ten_zeros"
      ],
      "metadata": {
        "colab": {
          "base_uri": "https://localhost:8080/"
        },
        "id": "Tk9J24iyPeVY",
        "outputId": "da4ac930-ad12-44ce-f86d-4d533e0b3e32"
      },
      "execution_count": 31,
      "outputs": [
        {
          "output_type": "execute_result",
          "data": {
            "text/plain": [
              "tensor([0, 0, 0, 0, 0, 0, 0, 0, 0, 0])"
            ]
          },
          "metadata": {},
          "execution_count": 31
        }
      ]
    },
    {
      "cell_type": "code",
      "source": [
        "ten_ones= torch.ones_like(input=one_to_ten)\n",
        "ten_ones"
      ],
      "metadata": {
        "colab": {
          "base_uri": "https://localhost:8080/"
        },
        "id": "Kjb10MgQQBm5",
        "outputId": "1fefcc2b-a0da-45d1-cbb1-096bb1ec107a"
      },
      "execution_count": 32,
      "outputs": [
        {
          "output_type": "execute_result",
          "data": {
            "text/plain": [
              "tensor([1, 1, 1, 1, 1, 1, 1, 1, 1, 1])"
            ]
          },
          "metadata": {},
          "execution_count": 32
        }
      ]
    },
    {
      "cell_type": "markdown",
      "source": [
        "###Tensor Datatypes"
      ],
      "metadata": {
        "id": "YOkW2FixQtXx"
      }
    },
    {
      "cell_type": "code",
      "source": [
        "from IPython.core import display_trap\n",
        "# Float 32 tensor\n",
        "float_32_tensor = torch.tensor([4.3,2.0,4.0],\n",
        "                               dtype=None,\n",
        "                               device=\"cuda\",\n",
        "                               requires_grad=False\n",
        "\n",
        "                               )\n",
        "float_32_tensor"
      ],
      "metadata": {
        "colab": {
          "base_uri": "https://localhost:8080/"
        },
        "id": "duMGDDgnRDjq",
        "outputId": "0eab2de7-51d2-4862-a814-f5ef24e1fdf0"
      },
      "execution_count": 33,
      "outputs": [
        {
          "output_type": "execute_result",
          "data": {
            "text/plain": [
              "tensor([4.3000, 2.0000, 4.0000], device='cuda:0')"
            ]
          },
          "metadata": {},
          "execution_count": 33
        }
      ]
    },
    {
      "cell_type": "code",
      "source": [
        "float_32_tensor.dtype\n"
      ],
      "metadata": {
        "colab": {
          "base_uri": "https://localhost:8080/"
        },
        "id": "_w4EXIYxToWp",
        "outputId": "d4543cf1-1293-4cef-a86f-4f63b676954e"
      },
      "execution_count": 34,
      "outputs": [
        {
          "output_type": "execute_result",
          "data": {
            "text/plain": [
              "torch.float32"
            ]
          },
          "metadata": {},
          "execution_count": 34
        }
      ]
    },
    {
      "cell_type": "code",
      "source": [
        "#float 16\n",
        "float_16 = float_32_tensor.type(torch.float16)\n",
        "float_16.dtype"
      ],
      "metadata": {
        "colab": {
          "base_uri": "https://localhost:8080/"
        },
        "id": "EdiMlUnrUuPG",
        "outputId": "9aab30ba-d562-49c6-ee98-48b180631501"
      },
      "execution_count": 35,
      "outputs": [
        {
          "output_type": "execute_result",
          "data": {
            "text/plain": [
              "torch.float16"
            ]
          },
          "metadata": {},
          "execution_count": 35
        }
      ]
    },
    {
      "cell_type": "code",
      "source": [
        "#creating tensor\n",
        "\n",
        "some_tensor= torch.rand(3,4)\n",
        "\n",
        "print(\" The tensor is some_tensor\")\n",
        "print(f\" The data type of tensor is: {some_tensor.dtype}\")\n",
        "print(f\" The shape of tensor is: {some_tensor.shape}\")\n",
        "print(f\" The device type of tensor is: {some_tensor.device}\")\n"
      ],
      "metadata": {
        "colab": {
          "base_uri": "https://localhost:8080/"
        },
        "id": "wkTL_eZVU-wM",
        "outputId": "0ebcd038-27f2-4c33-c5e0-9d8c884aa5c4"
      },
      "execution_count": 36,
      "outputs": [
        {
          "output_type": "stream",
          "name": "stdout",
          "text": [
            " The tensor is some_tensor\n",
            " The data type of tensor is: torch.float32\n",
            " The shape of tensor is: torch.Size([3, 4])\n",
            " The device type of tensor is: cpu\n"
          ]
        }
      ]
    },
    {
      "cell_type": "markdown",
      "source": [
        "### Manupulating the Tensor operations\n",
        "* Addition\n",
        "* Subtraction\n",
        "* Multiplication\n",
        "* Division"
      ],
      "metadata": {
        "id": "oua-mKtgcxeI"
      }
    },
    {
      "cell_type": "code",
      "source": [
        "#Creating the tensor\n",
        "data = torch.tensor([1,2,3])\n"
      ],
      "metadata": {
        "id": "-ui2BJjgBocR"
      },
      "execution_count": 37,
      "outputs": []
    },
    {
      "cell_type": "code",
      "source": [
        "torch.add(data,10)\n"
      ],
      "metadata": {
        "colab": {
          "base_uri": "https://localhost:8080/"
        },
        "id": "tztOwTA4B9Ey",
        "outputId": "0a59cab1-381c-4bfd-b747-6723ea0b9289"
      },
      "execution_count": 38,
      "outputs": [
        {
          "output_type": "execute_result",
          "data": {
            "text/plain": [
              "tensor([11, 12, 13])"
            ]
          },
          "metadata": {},
          "execution_count": 38
        }
      ]
    },
    {
      "cell_type": "code",
      "source": [
        "# Multiply\n",
        "data *4"
      ],
      "metadata": {
        "colab": {
          "base_uri": "https://localhost:8080/"
        },
        "id": "yktk_reuCc7C",
        "outputId": "b9125120-ab61-431c-909a-be459878a7af"
      },
      "execution_count": 39,
      "outputs": [
        {
          "output_type": "execute_result",
          "data": {
            "text/plain": [
              "tensor([ 4,  8, 12])"
            ]
          },
          "metadata": {},
          "execution_count": 39
        }
      ]
    },
    {
      "cell_type": "code",
      "source": [
        "torch.mul(data,10)"
      ],
      "metadata": {
        "colab": {
          "base_uri": "https://localhost:8080/"
        },
        "id": "iNFA-yHzCtzj",
        "outputId": "f892f8f2-db80-4123-c3a3-1e2d6c33288a"
      },
      "execution_count": 40,
      "outputs": [
        {
          "output_type": "execute_result",
          "data": {
            "text/plain": [
              "tensor([10, 20, 30])"
            ]
          },
          "metadata": {},
          "execution_count": 40
        }
      ]
    },
    {
      "cell_type": "code",
      "source": [
        "#Subtract\n",
        "data-10"
      ],
      "metadata": {
        "colab": {
          "base_uri": "https://localhost:8080/"
        },
        "id": "ZVt1Pn1KCx1E",
        "outputId": "be5aa54e-8143-4347-e161-1a7104069bb7"
      },
      "execution_count": 41,
      "outputs": [
        {
          "output_type": "execute_result",
          "data": {
            "text/plain": [
              "tensor([-9, -8, -7])"
            ]
          },
          "metadata": {},
          "execution_count": 41
        }
      ]
    },
    {
      "cell_type": "code",
      "source": [
        "torch.sub(data, 10)"
      ],
      "metadata": {
        "colab": {
          "base_uri": "https://localhost:8080/"
        },
        "id": "z9Qo4HDeC3lD",
        "outputId": "8d51cd1d-1eaf-423c-c729-1be4c66020f9"
      },
      "execution_count": 42,
      "outputs": [
        {
          "output_type": "execute_result",
          "data": {
            "text/plain": [
              "tensor([-9, -8, -7])"
            ]
          },
          "metadata": {},
          "execution_count": 42
        }
      ]
    },
    {
      "cell_type": "markdown",
      "source": [
        "### Matrix Multiplication\n",
        "* Element by element\n",
        "* Matrix multiply (dot product)"
      ],
      "metadata": {
        "id": "3wz9MWhaC88T"
      }
    },
    {
      "cell_type": "code",
      "source": [
        "# Multiplying each element\n",
        "print(f\" Equals: {data * data}\")"
      ],
      "metadata": {
        "colab": {
          "base_uri": "https://localhost:8080/"
        },
        "id": "h2YyO2ccH-8J",
        "outputId": "79b98441-e69b-4421-8c63-851233491458"
      },
      "execution_count": 43,
      "outputs": [
        {
          "output_type": "stream",
          "name": "stdout",
          "text": [
            " Equals: tensor([1, 4, 9])\n"
          ]
        }
      ]
    },
    {
      "cell_type": "code",
      "source": [
        "#Multiplying matrix element\n",
        "\n",
        "matrix = torch.matmul(data,data)\n",
        "matrix"
      ],
      "metadata": {
        "colab": {
          "base_uri": "https://localhost:8080/"
        },
        "id": "ofUZtH73ICrV",
        "outputId": "b923fb3c-e12f-4e5f-d0ca-5d86cf924012"
      },
      "execution_count": 44,
      "outputs": [
        {
          "output_type": "execute_result",
          "data": {
            "text/plain": [
              "tensor(14)"
            ]
          },
          "metadata": {},
          "execution_count": 44
        }
      ]
    },
    {
      "cell_type": "code",
      "source": [
        "#matrix multiplication by hand\n",
        "1*1 +2*2 + 3*3"
      ],
      "metadata": {
        "colab": {
          "base_uri": "https://localhost:8080/"
        },
        "id": "azLlZCcLJVV_",
        "outputId": "407d2c2d-eb90-4401-d336-885bd6c4a1c2"
      },
      "execution_count": 45,
      "outputs": [
        {
          "output_type": "execute_result",
          "data": {
            "text/plain": [
              "14"
            ]
          },
          "metadata": {},
          "execution_count": 45
        }
      ]
    },
    {
      "cell_type": "code",
      "source": [
        "%%time\n",
        "value =0\n",
        "for i in range(len(data)):\n",
        "  value+= data[i] * data[i]\n",
        "print(value)"
      ],
      "metadata": {
        "colab": {
          "base_uri": "https://localhost:8080/",
          "height": 158
        },
        "id": "J6RNTUEALpi4",
        "outputId": "9d4a72a0-7c1f-45db-b4d3-42783e3ab234"
      },
      "execution_count": 72,
      "outputs": [
        {
          "output_type": "error",
          "ename": "TypeError",
          "evalue": "ignored",
          "traceback": [
            "\u001b[0;31m---------------------------------------------------------------------------\u001b[0m",
            "\u001b[0;31mTypeError\u001b[0m                                 Traceback (most recent call last)",
            "\u001b[0;32m<timed exec>\u001b[0m in \u001b[0;36m<module>\u001b[0;34m\u001b[0m\n",
            "\u001b[0;31mTypeError\u001b[0m: 'Tensor' object is not callable"
          ]
        }
      ]
    },
    {
      "cell_type": "code",
      "source": [
        "%%time\n",
        "torch.matmul(data,data)"
      ],
      "metadata": {
        "colab": {
          "base_uri": "https://localhost:8080/"
        },
        "id": "W80W6xUnNW9a",
        "outputId": "1c6414cd-df5d-4b57-91e8-5b2082c2944f"
      },
      "execution_count": 47,
      "outputs": [
        {
          "output_type": "stream",
          "name": "stdout",
          "text": [
            "CPU times: user 433 µs, sys: 0 ns, total: 433 µs\n",
            "Wall time: 378 µs\n"
          ]
        },
        {
          "output_type": "execute_result",
          "data": {
            "text/plain": [
              "tensor(14)"
            ]
          },
          "metadata": {},
          "execution_count": 47
        }
      ]
    },
    {
      "cell_type": "code",
      "source": [
        "#Matrix Multiplications\n",
        "\n",
        "torch.matmul( torch.rand([10,10]),torch.rand([10,2]))\n",
        "\n"
      ],
      "metadata": {
        "colab": {
          "base_uri": "https://localhost:8080/"
        },
        "id": "yMoeOQ-qNkrZ",
        "outputId": "89504f28-414c-4ffc-d567-0bebd316efd5"
      },
      "execution_count": 48,
      "outputs": [
        {
          "output_type": "execute_result",
          "data": {
            "text/plain": [
              "tensor([[1.7187, 2.8978],\n",
              "        [1.9450, 2.8153],\n",
              "        [1.7945, 2.6141],\n",
              "        [1.9847, 3.1831],\n",
              "        [1.7200, 2.9099],\n",
              "        [1.4890, 2.2905],\n",
              "        [2.4272, 3.0321],\n",
              "        [2.4169, 3.3775],\n",
              "        [1.6224, 2.1580],\n",
              "        [2.0177, 3.0789]])"
            ]
          },
          "metadata": {},
          "execution_count": 48
        }
      ]
    },
    {
      "cell_type": "markdown",
      "source": [
        "### Matrix multiplication manually"
      ],
      "metadata": {
        "id": "8QNZQLgmbe_M"
      }
    },
    {
      "cell_type": "code",
      "source": [
        "tensor_A = torch.tensor([[2,3],\n",
        "                         [3,4],\n",
        "                         [5,8]])\n",
        "tensor_B = torch.tensor([[1,9],\n",
        "                         [8,4],\n",
        "                         [5,2]])\n",
        "tensor_A.shape"
      ],
      "metadata": {
        "colab": {
          "base_uri": "https://localhost:8080/"
        },
        "id": "IlTmyzULgwsU",
        "outputId": "5f62350a-6a00-402b-e253-02ff634b7999"
      },
      "execution_count": 49,
      "outputs": [
        {
          "output_type": "execute_result",
          "data": {
            "text/plain": [
              "torch.Size([3, 2])"
            ]
          },
          "metadata": {},
          "execution_count": 49
        }
      ]
    },
    {
      "cell_type": "code",
      "source": [
        "tensor_B.shape\n"
      ],
      "metadata": {
        "colab": {
          "base_uri": "https://localhost:8080/"
        },
        "id": "Mj29Wae0hHMf",
        "outputId": "c67451df-cc50-4a08-e18a-76b7de985953"
      },
      "execution_count": 50,
      "outputs": [
        {
          "output_type": "execute_result",
          "data": {
            "text/plain": [
              "torch.Size([3, 2])"
            ]
          },
          "metadata": {},
          "execution_count": 50
        }
      ]
    },
    {
      "cell_type": "markdown",
      "source": [
        "To fix the shape issue we can use the  **Transpose**"
      ],
      "metadata": {
        "id": "HPts_cI0hLfs"
      }
    },
    {
      "cell_type": "code",
      "source": [
        "tensor_B\n"
      ],
      "metadata": {
        "colab": {
          "base_uri": "https://localhost:8080/"
        },
        "id": "i036iQuthSru",
        "outputId": "355144e8-9a0e-4321-f47f-b44a117d3a38"
      },
      "execution_count": 51,
      "outputs": [
        {
          "output_type": "execute_result",
          "data": {
            "text/plain": [
              "tensor([[1, 9],\n",
              "        [8, 4],\n",
              "        [5, 2]])"
            ]
          },
          "metadata": {},
          "execution_count": 51
        }
      ]
    },
    {
      "cell_type": "code",
      "source": [
        "tensor_B.T # T is used to change the dimention of the the matrix"
      ],
      "metadata": {
        "colab": {
          "base_uri": "https://localhost:8080/"
        },
        "id": "rFvU8mv5h6DP",
        "outputId": "d0253456-876e-4aed-a858-d0ccbbab8d71"
      },
      "execution_count": 52,
      "outputs": [
        {
          "output_type": "execute_result",
          "data": {
            "text/plain": [
              "tensor([[1, 8, 5],\n",
              "        [9, 4, 2]])"
            ]
          },
          "metadata": {},
          "execution_count": 52
        }
      ]
    },
    {
      "cell_type": "code",
      "source": [
        "tensor_B.T.shape\n"
      ],
      "metadata": {
        "colab": {
          "base_uri": "https://localhost:8080/"
        },
        "id": "a654pkgHh8Hl",
        "outputId": "473ae377-21a3-495b-d05f-8d72b90a7cc9"
      },
      "execution_count": 53,
      "outputs": [
        {
          "output_type": "execute_result",
          "data": {
            "text/plain": [
              "torch.Size([2, 3])"
            ]
          },
          "metadata": {},
          "execution_count": 53
        }
      ]
    },
    {
      "cell_type": "code",
      "source": [
        "torch.mm(tensor_A,tensor_B.T)"
      ],
      "metadata": {
        "colab": {
          "base_uri": "https://localhost:8080/"
        },
        "id": "heA6DBLeiE3a",
        "outputId": "572788e0-6f36-44b9-a0aa-6f0e436e6c49"
      },
      "execution_count": 54,
      "outputs": [
        {
          "output_type": "execute_result",
          "data": {
            "text/plain": [
              "tensor([[29, 28, 16],\n",
              "        [39, 40, 23],\n",
              "        [77, 72, 41]])"
            ]
          },
          "metadata": {},
          "execution_count": 54
        }
      ]
    },
    {
      "cell_type": "markdown",
      "source": [
        "### Finding the min, max, mean sum (Tensor Aggrigation)"
      ],
      "metadata": {
        "id": "UN4uFE82iQGe"
      }
    },
    {
      "cell_type": "code",
      "source": [
        "x= torch.arange(0,100,10)\n",
        "x"
      ],
      "metadata": {
        "colab": {
          "base_uri": "https://localhost:8080/"
        },
        "id": "lj-Uw2HO__NI",
        "outputId": "d105ffc2-36e9-4fdd-fd5f-2e4093e99c23"
      },
      "execution_count": 55,
      "outputs": [
        {
          "output_type": "execute_result",
          "data": {
            "text/plain": [
              "tensor([ 0, 10, 20, 30, 40, 50, 60, 70, 80, 90])"
            ]
          },
          "metadata": {},
          "execution_count": 55
        }
      ]
    },
    {
      "cell_type": "code",
      "source": [
        "x.dtype"
      ],
      "metadata": {
        "colab": {
          "base_uri": "https://localhost:8080/"
        },
        "id": "UHOgwaQOAMmT",
        "outputId": "e153d3cd-f3f5-4152-ebba-84b48ad441e6"
      },
      "execution_count": 56,
      "outputs": [
        {
          "output_type": "execute_result",
          "data": {
            "text/plain": [
              "torch.int64"
            ]
          },
          "metadata": {},
          "execution_count": 56
        }
      ]
    },
    {
      "cell_type": "code",
      "source": [
        "x.min()"
      ],
      "metadata": {
        "colab": {
          "base_uri": "https://localhost:8080/"
        },
        "id": "jFZC-yj6Anrt",
        "outputId": "1d641cbe-436f-4621-814e-64aec0c7b9ab"
      },
      "execution_count": 57,
      "outputs": [
        {
          "output_type": "execute_result",
          "data": {
            "text/plain": [
              "tensor(0)"
            ]
          },
          "metadata": {},
          "execution_count": 57
        }
      ]
    },
    {
      "cell_type": "code",
      "source": [
        "torch.min(x)"
      ],
      "metadata": {
        "colab": {
          "base_uri": "https://localhost:8080/"
        },
        "id": "fMCb6jMJAp3q",
        "outputId": "410764ce-ff54-4880-fabe-4abc825bb009"
      },
      "execution_count": 58,
      "outputs": [
        {
          "output_type": "execute_result",
          "data": {
            "text/plain": [
              "tensor(0)"
            ]
          },
          "metadata": {},
          "execution_count": 58
        }
      ]
    },
    {
      "cell_type": "code",
      "source": [
        "x.max()"
      ],
      "metadata": {
        "colab": {
          "base_uri": "https://localhost:8080/"
        },
        "id": "lRiGFE4jAr4m",
        "outputId": "407003b6-e735-474b-cce0-c81f2b448344"
      },
      "execution_count": 59,
      "outputs": [
        {
          "output_type": "execute_result",
          "data": {
            "text/plain": [
              "tensor(90)"
            ]
          },
          "metadata": {},
          "execution_count": 59
        }
      ]
    },
    {
      "cell_type": "code",
      "source": [
        "torch.max(x)"
      ],
      "metadata": {
        "colab": {
          "base_uri": "https://localhost:8080/"
        },
        "id": "Otk7Xc4BBaWw",
        "outputId": "56b30869-8cf9-4438-ada3-99b9c3d53dd9"
      },
      "execution_count": 60,
      "outputs": [
        {
          "output_type": "execute_result",
          "data": {
            "text/plain": [
              "tensor(90)"
            ]
          },
          "metadata": {},
          "execution_count": 60
        }
      ]
    },
    {
      "cell_type": "code",
      "source": [
        "torch.mean(x.type(torch.float32))"
      ],
      "metadata": {
        "colab": {
          "base_uri": "https://localhost:8080/"
        },
        "id": "vjNXwZWhBceV",
        "outputId": "b8d68086-46b8-4127-8d2a-cd417dbfdbdf"
      },
      "execution_count": 61,
      "outputs": [
        {
          "output_type": "execute_result",
          "data": {
            "text/plain": [
              "tensor(45.)"
            ]
          },
          "metadata": {},
          "execution_count": 61
        }
      ]
    },
    {
      "cell_type": "code",
      "source": [
        "x.type(torch.float32).mean()"
      ],
      "metadata": {
        "colab": {
          "base_uri": "https://localhost:8080/"
        },
        "id": "erVBgH9VB8Pg",
        "outputId": "356011dd-61a9-49d3-b030-520564585959"
      },
      "execution_count": 62,
      "outputs": [
        {
          "output_type": "execute_result",
          "data": {
            "text/plain": [
              "tensor(45.)"
            ]
          },
          "metadata": {},
          "execution_count": 62
        }
      ]
    },
    {
      "cell_type": "code",
      "source": [
        "x.sum()"
      ],
      "metadata": {
        "id": "NgWJdGnxCNXL",
        "colab": {
          "base_uri": "https://localhost:8080/"
        },
        "outputId": "f82e3de9-ad93-48f7-f792-f0afc0ed348c"
      },
      "execution_count": 63,
      "outputs": [
        {
          "output_type": "execute_result",
          "data": {
            "text/plain": [
              "tensor(450)"
            ]
          },
          "metadata": {},
          "execution_count": 63
        }
      ]
    },
    {
      "cell_type": "code",
      "source": [
        "torch.sum(x)"
      ],
      "metadata": {
        "id": "ZRboeE9cFwix",
        "colab": {
          "base_uri": "https://localhost:8080/"
        },
        "outputId": "713d55fe-e481-4367-8965-e4d90c2e3252"
      },
      "execution_count": 65,
      "outputs": [
        {
          "output_type": "execute_result",
          "data": {
            "text/plain": [
              "tensor(450)"
            ]
          },
          "metadata": {},
          "execution_count": 65
        }
      ]
    },
    {
      "cell_type": "code",
      "source": [
        "x.argmin()"
      ],
      "metadata": {
        "id": "wDLUkQR5GJjJ",
        "colab": {
          "base_uri": "https://localhost:8080/"
        },
        "outputId": "dd37b79e-7e6d-42e7-d661-06db931f578b"
      },
      "execution_count": 66,
      "outputs": [
        {
          "output_type": "execute_result",
          "data": {
            "text/plain": [
              "tensor(0)"
            ]
          },
          "metadata": {},
          "execution_count": 66
        }
      ]
    },
    {
      "cell_type": "code",
      "source": [
        "x.argmax() # Finding the position of Min and Max"
      ],
      "metadata": {
        "colab": {
          "base_uri": "https://localhost:8080/"
        },
        "id": "PJqUiyrI_zXx",
        "outputId": "c9958be7-b668-4112-9563-dbbb5072f1e7"
      },
      "execution_count": 67,
      "outputs": [
        {
          "output_type": "execute_result",
          "data": {
            "text/plain": [
              "tensor(9)"
            ]
          },
          "metadata": {},
          "execution_count": 67
        }
      ]
    },
    {
      "cell_type": "markdown",
      "source": [
        "## Reshaping, Stacking, Squeezing, Unsqueezing\n",
        "* Reshaping: Reshaping the input tensor to a defined shape\n",
        "* View return the view of the input tensor\n",
        "* Stacking Arranging the object to the top of each other\n",
        "* Squeezing : remove all the 1 dimentional from the tensor\n",
        "* Unsqueezing: Adding the one dimentional to the tensor\n",
        "* Permute: Return the dimension of the view with the permuted sequence"
      ],
      "metadata": {
        "id": "RvWFIREY_6SE"
      }
    },
    {
      "cell_type": "code",
      "source": [
        "# Lets create the tensor\n",
        "import torch\n",
        "x = torch.arange(1., 10.)\n",
        "x"
      ],
      "metadata": {
        "colab": {
          "base_uri": "https://localhost:8080/"
        },
        "id": "sUv6N6u0NOtG",
        "outputId": "10adcd0d-4876-4d67-c19e-4f9a95c622c8"
      },
      "execution_count": 78,
      "outputs": [
        {
          "output_type": "execute_result",
          "data": {
            "text/plain": [
              "tensor([1., 2., 3., 4., 5., 6., 7., 8., 9.])"
            ]
          },
          "metadata": {},
          "execution_count": 78
        }
      ]
    },
    {
      "cell_type": "code",
      "source": [
        "x.shape"
      ],
      "metadata": {
        "colab": {
          "base_uri": "https://localhost:8080/"
        },
        "id": "RwjV4XN4NmdC",
        "outputId": "327e3008-a801-4f4b-b625-052ccdc04dba"
      },
      "execution_count": 79,
      "outputs": [
        {
          "output_type": "execute_result",
          "data": {
            "text/plain": [
              "torch.Size([9])"
            ]
          },
          "metadata": {},
          "execution_count": 79
        }
      ]
    },
    {
      "cell_type": "code",
      "source": [
        "# to add an extra dimension\n",
        "x_reshaped = x.reshape(9,1)\n",
        "x_reshaped"
      ],
      "metadata": {
        "colab": {
          "base_uri": "https://localhost:8080/"
        },
        "id": "XfFwwNwJN4_y",
        "outputId": "296bfc6b-a2e4-4878-dd0f-88fc2bc7a9b0"
      },
      "execution_count": 83,
      "outputs": [
        {
          "output_type": "execute_result",
          "data": {
            "text/plain": [
              "tensor([[1.],\n",
              "        [2.],\n",
              "        [3.],\n",
              "        [4.],\n",
              "        [5.],\n",
              "        [6.],\n",
              "        [7.],\n",
              "        [8.],\n",
              "        [9.]])"
            ]
          },
          "metadata": {},
          "execution_count": 83
        }
      ]
    },
    {
      "cell_type": "code",
      "source": [
        "x_reshaped = x.reshape(3,3)\n",
        "x_reshaped"
      ],
      "metadata": {
        "colab": {
          "base_uri": "https://localhost:8080/"
        },
        "id": "bbbz9_H5OCLF",
        "outputId": "da177726-947c-490e-827b-c3064ab92a08"
      },
      "execution_count": 84,
      "outputs": [
        {
          "output_type": "execute_result",
          "data": {
            "text/plain": [
              "tensor([[1., 2., 3.],\n",
              "        [4., 5., 6.],\n",
              "        [7., 8., 9.]])"
            ]
          },
          "metadata": {},
          "execution_count": 84
        }
      ]
    },
    {
      "cell_type": "code",
      "source": [
        "# using the view\n",
        "# Changing the x changes the view because the view of the memory shares the same memory as the original tensor shares\n",
        "z= x.view([3,3])\n",
        "z,z.shape"
      ],
      "metadata": {
        "colab": {
          "base_uri": "https://localhost:8080/"
        },
        "id": "j9nW7arsPRwI",
        "outputId": "cd11f511-b165-4412-833d-1f795743b2d1"
      },
      "execution_count": 91,
      "outputs": [
        {
          "output_type": "execute_result",
          "data": {
            "text/plain": [
              "(tensor([[1., 2., 3.],\n",
              "         [4., 5., 6.],\n",
              "         [7., 8., 9.]]),\n",
              " torch.Size([3, 3]))"
            ]
          },
          "metadata": {},
          "execution_count": 91
        }
      ]
    },
    {
      "cell_type": "code",
      "source": [
        "z[:,0]=5\n",
        "z,x"
      ],
      "metadata": {
        "colab": {
          "base_uri": "https://localhost:8080/"
        },
        "id": "pcNdpBNAP18V",
        "outputId": "5fe7a2c8-682f-42a5-c0cc-79a27f0a41bc"
      },
      "execution_count": 94,
      "outputs": [
        {
          "output_type": "execute_result",
          "data": {
            "text/plain": [
              "(tensor([[5., 2., 3.],\n",
              "         [5., 5., 6.],\n",
              "         [5., 8., 9.]]),\n",
              " tensor([5., 2., 3., 5., 5., 6., 5., 8., 9.]))"
            ]
          },
          "metadata": {},
          "execution_count": 94
        }
      ]
    },
    {
      "cell_type": "code",
      "source": [
        "#Stack tensor on the top of each other\n",
        "x_stacked= torch.stack([x,x,x,x],dim=1)\n",
        "x_stacked"
      ],
      "metadata": {
        "colab": {
          "base_uri": "https://localhost:8080/"
        },
        "id": "u7qgya1_Q6CW",
        "outputId": "17c9e9e1-2b56-4b3e-bd1b-201c4aac77b0"
      },
      "execution_count": 97,
      "outputs": [
        {
          "output_type": "execute_result",
          "data": {
            "text/plain": [
              "tensor([[5., 5., 5., 5.],\n",
              "        [2., 2., 2., 2.],\n",
              "        [3., 3., 3., 3.],\n",
              "        [5., 5., 5., 5.],\n",
              "        [5., 5., 5., 5.],\n",
              "        [6., 6., 6., 6.],\n",
              "        [5., 5., 5., 5.],\n",
              "        [8., 8., 8., 8.],\n",
              "        [9., 9., 9., 9.]])"
            ]
          },
          "metadata": {},
          "execution_count": 97
        }
      ]
    },
    {
      "cell_type": "code",
      "source": [],
      "metadata": {
        "id": "TlPggJ0wRh27"
      },
      "execution_count": null,
      "outputs": []
    }
  ]
}