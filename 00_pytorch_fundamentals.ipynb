{
  "nbformat": 4,
  "nbformat_minor": 0,
  "metadata": {
    "colab": {
      "provenance": [],
      "gpuType": "T4",
      "authorship_tag": "ABX9TyOuAiL0uNGQf7LU9JxTDJC8",
      "include_colab_link": true
    },
    "kernelspec": {
      "name": "python3",
      "display_name": "Python 3"
    },
    "language_info": {
      "name": "python"
    },
    "accelerator": "GPU"
  },
  "cells": [
    {
      "cell_type": "markdown",
      "metadata": {
        "id": "view-in-github",
        "colab_type": "text"
      },
      "source": [
        "<a href=\"https://colab.research.google.com/github/Shankar034/PyTorch/blob/main/00_pytorch_fundamentals.ipynb\" target=\"_parent\"><img src=\"https://colab.research.google.com/assets/colab-badge.svg\" alt=\"Open In Colab\"/></a>"
      ]
    },
    {
      "cell_type": "markdown",
      "source": [
        "# 00. PyTorch Fundaments\n",
        "\n",
        "\n"
      ],
      "metadata": {
        "id": "_t8Rf2_OX72i"
      }
    },
    {
      "cell_type": "code",
      "source": [
        "import torch\n",
        "import pandas as pd\n",
        "import numpy as np\n",
        "import matplotlib.pyplot as plt\n",
        "print(\"Hello this is pytorch fundaments\")\n",
        "print(torch.__version__)\n",
        "\n"
      ],
      "metadata": {
        "id": "8opZ2hie0Tcq",
        "outputId": "7a18000c-2b25-4659-b2fa-b28114697997",
        "colab": {
          "base_uri": "https://localhost:8080/"
        }
      },
      "execution_count": 1,
      "outputs": [
        {
          "output_type": "stream",
          "name": "stdout",
          "text": [
            "Hello this is pytorch fundaments\n",
            "2.0.1+cu118\n"
          ]
        }
      ]
    },
    {
      "cell_type": "code",
      "source": [
        "#scalar\n",
        "scalar = torch.tensor(7)\n",
        "scalar\n"
      ],
      "metadata": {
        "colab": {
          "base_uri": "https://localhost:8080/"
        },
        "id": "LKqaIb4KyPjg",
        "outputId": "4a45f36a-c994-45ce-b17c-84affe78b22d"
      },
      "execution_count": null,
      "outputs": [
        {
          "output_type": "execute_result",
          "data": {
            "text/plain": [
              "tensor(7)"
            ]
          },
          "metadata": {},
          "execution_count": 4
        }
      ]
    },
    {
      "cell_type": "code",
      "source": [
        "scalar.ndim"
      ],
      "metadata": {
        "colab": {
          "base_uri": "https://localhost:8080/"
        },
        "id": "HUBeqBZ8yg4b",
        "outputId": "db631cd3-fd01-4603-a2c3-cc351689c173"
      },
      "execution_count": null,
      "outputs": [
        {
          "output_type": "execute_result",
          "data": {
            "text/plain": [
              "0"
            ]
          },
          "metadata": {},
          "execution_count": 6
        }
      ]
    },
    {
      "cell_type": "code",
      "source": [
        "#get tensor back as python list\n",
        "scalar.item()"
      ],
      "metadata": {
        "colab": {
          "base_uri": "https://localhost:8080/"
        },
        "id": "qegjhjisy7TC",
        "outputId": "2ffe795c-fa10-4bed-9bbd-d5e2847505ba"
      },
      "execution_count": null,
      "outputs": [
        {
          "output_type": "execute_result",
          "data": {
            "text/plain": [
              "7"
            ]
          },
          "metadata": {},
          "execution_count": 8
        }
      ]
    },
    {
      "cell_type": "code",
      "source": [
        "#Vector\n",
        "vector = torch.tensor([7,7])\n",
        "vector\n"
      ],
      "metadata": {
        "colab": {
          "base_uri": "https://localhost:8080/"
        },
        "id": "wSDMA4uwzQo_",
        "outputId": "25b1417f-63f5-40f0-ef24-8b2f22f1d6e2"
      },
      "execution_count": null,
      "outputs": [
        {
          "output_type": "execute_result",
          "data": {
            "text/plain": [
              "tensor([7, 7])"
            ]
          },
          "metadata": {},
          "execution_count": 9
        }
      ]
    },
    {
      "cell_type": "code",
      "source": [
        "vector.ndim"
      ],
      "metadata": {
        "colab": {
          "base_uri": "https://localhost:8080/"
        },
        "id": "bDhuHRpQ0swj",
        "outputId": "ef8fb306-f6ba-4044-d144-61936c283ccb"
      },
      "execution_count": null,
      "outputs": [
        {
          "output_type": "execute_result",
          "data": {
            "text/plain": [
              "1"
            ]
          },
          "metadata": {},
          "execution_count": 10
        }
      ]
    },
    {
      "cell_type": "code",
      "source": [
        "vector.size"
      ],
      "metadata": {
        "colab": {
          "base_uri": "https://localhost:8080/"
        },
        "id": "r5M0WGN20wkp",
        "outputId": "8285c6f4-2d86-407e-99d3-3db4fdfe32e4"
      },
      "execution_count": null,
      "outputs": [
        {
          "output_type": "execute_result",
          "data": {
            "text/plain": [
              "<function Tensor.size>"
            ]
          },
          "metadata": {},
          "execution_count": 11
        }
      ]
    },
    {
      "cell_type": "code",
      "source": [
        "vector.shape"
      ],
      "metadata": {
        "colab": {
          "base_uri": "https://localhost:8080/"
        },
        "id": "O1pUovJc023m",
        "outputId": "8172cba2-1595-49ea-ab01-a284a4d3ed55"
      },
      "execution_count": null,
      "outputs": [
        {
          "output_type": "execute_result",
          "data": {
            "text/plain": [
              "torch.Size([2])"
            ]
          },
          "metadata": {},
          "execution_count": 12
        }
      ]
    },
    {
      "cell_type": "code",
      "source": [
        "#Matrix\n",
        "matrix = torch.tensor([[7,9],\n",
        "                      [9,12]])\n",
        "matrix\n"
      ],
      "metadata": {
        "colab": {
          "base_uri": "https://localhost:8080/"
        },
        "id": "TNHZbyM5076x",
        "outputId": "8887c7b5-bc41-487c-83e9-b06c9329969b"
      },
      "execution_count": null,
      "outputs": [
        {
          "output_type": "execute_result",
          "data": {
            "text/plain": [
              "tensor([[ 7,  9],\n",
              "        [ 9, 12]])"
            ]
          },
          "metadata": {},
          "execution_count": 14
        }
      ]
    },
    {
      "cell_type": "code",
      "source": [
        "matrix.shape\n"
      ],
      "metadata": {
        "colab": {
          "base_uri": "https://localhost:8080/"
        },
        "id": "YWw_RppM1QOV",
        "outputId": "8424729b-21b4-4a9b-8ac1-7a587ca6a093"
      },
      "execution_count": null,
      "outputs": [
        {
          "output_type": "execute_result",
          "data": {
            "text/plain": [
              "torch.Size([2, 2])"
            ]
          },
          "metadata": {},
          "execution_count": 15
        }
      ]
    },
    {
      "cell_type": "code",
      "source": [
        "matrix.ndim"
      ],
      "metadata": {
        "colab": {
          "base_uri": "https://localhost:8080/"
        },
        "id": "0FtDhY6a1bSx",
        "outputId": "e472f5b3-72ec-4640-de18-59ac7550e2d1"
      },
      "execution_count": null,
      "outputs": [
        {
          "output_type": "execute_result",
          "data": {
            "text/plain": [
              "2"
            ]
          },
          "metadata": {},
          "execution_count": 16
        }
      ]
    },
    {
      "cell_type": "code",
      "source": [
        "#TENSOR\n",
        "tensor = torch.tensor([[[1,2,3],\n",
        "                       [4,5,6],\n",
        "                       [6,7,8]]])\n",
        "tensor"
      ],
      "metadata": {
        "id": "hUZRPM9Q1g2z",
        "colab": {
          "base_uri": "https://localhost:8080/"
        },
        "outputId": "271093a2-95cc-4776-abb9-d26082b5b763"
      },
      "execution_count": null,
      "outputs": [
        {
          "output_type": "execute_result",
          "data": {
            "text/plain": [
              "tensor([[[1, 2, 3],\n",
              "         [4, 5, 6],\n",
              "         [6, 7, 8]]])"
            ]
          },
          "metadata": {},
          "execution_count": 20
        }
      ]
    },
    {
      "cell_type": "code",
      "source": [
        "tensor.ndim"
      ],
      "metadata": {
        "colab": {
          "base_uri": "https://localhost:8080/"
        },
        "id": "kPfsrc138AVs",
        "outputId": "287049df-4d14-4878-f15d-34f987ca1e26"
      },
      "execution_count": null,
      "outputs": [
        {
          "output_type": "execute_result",
          "data": {
            "text/plain": [
              "3"
            ]
          },
          "metadata": {},
          "execution_count": 21
        }
      ]
    },
    {
      "cell_type": "code",
      "source": [
        "tensor.shape"
      ],
      "metadata": {
        "colab": {
          "base_uri": "https://localhost:8080/"
        },
        "id": "aXbyjf_J8ESg",
        "outputId": "a47dbb0d-8fb7-468a-e480-9bb4b160b4db"
      },
      "execution_count": null,
      "outputs": [
        {
          "output_type": "execute_result",
          "data": {
            "text/plain": [
              "torch.Size([1, 3, 3])"
            ]
          },
          "metadata": {},
          "execution_count": 22
        }
      ]
    },
    {
      "cell_type": "code",
      "source": [
        "tensor[0]"
      ],
      "metadata": {
        "colab": {
          "base_uri": "https://localhost:8080/"
        },
        "id": "XTyG0A0v8IvW",
        "outputId": "79990753-c487-4ee5-b6cf-224140f84abb"
      },
      "execution_count": null,
      "outputs": [
        {
          "output_type": "execute_result",
          "data": {
            "text/plain": [
              "tensor([[1, 2, 3],\n",
              "        [4, 5, 6],\n",
              "        [6, 7, 8]])"
            ]
          },
          "metadata": {},
          "execution_count": 23
        }
      ]
    },
    {
      "cell_type": "markdown",
      "source": [
        "#Random Tensors"
      ],
      "metadata": {
        "id": "fTKef0588flz"
      }
    },
    {
      "cell_type": "code",
      "source": [
        "#Random Tensors\n",
        "rTensor = torch.rand(1,10,10)\n",
        "rTensor\n"
      ],
      "metadata": {
        "colab": {
          "base_uri": "https://localhost:8080/"
        },
        "id": "CO3-XFB49N-O",
        "outputId": "29f95872-9701-4b25-c382-addb388d7a41"
      },
      "execution_count": null,
      "outputs": [
        {
          "output_type": "execute_result",
          "data": {
            "text/plain": [
              "tensor([[[7.9973e-01, 3.1825e-01, 8.5031e-01, 3.2469e-01, 4.0213e-03,\n",
              "          2.9339e-01, 3.1660e-01, 9.8153e-01, 2.3348e-01, 5.3505e-01],\n",
              "         [1.4555e-01, 3.3348e-01, 3.3386e-01, 9.7170e-01, 8.8555e-01,\n",
              "          1.7704e-01, 7.0898e-01, 6.4230e-01, 1.7878e-01, 7.6804e-01],\n",
              "         [4.2071e-02, 6.3941e-01, 5.2920e-01, 1.5324e-01, 1.2480e-02,\n",
              "          2.4370e-01, 7.5394e-02, 3.8713e-02, 6.2770e-01, 7.5218e-01],\n",
              "         [4.1611e-01, 9.2966e-01, 8.4818e-01, 2.9399e-01, 5.6832e-01,\n",
              "          2.9299e-01, 3.7623e-01, 7.5977e-02, 1.3809e-01, 7.2784e-01],\n",
              "         [8.5957e-01, 8.8056e-01, 4.9304e-01, 5.4292e-01, 2.0236e-01,\n",
              "          3.2186e-01, 5.4897e-02, 6.1225e-02, 6.8230e-01, 7.7108e-01],\n",
              "         [5.1768e-01, 3.8780e-01, 4.4024e-04, 2.8571e-01, 7.4937e-01,\n",
              "          7.5055e-01, 4.9177e-01, 5.6123e-01, 3.4735e-01, 9.5639e-01],\n",
              "         [8.4451e-02, 4.1880e-01, 8.6349e-01, 7.5359e-01, 6.8937e-01,\n",
              "          6.2049e-01, 6.2588e-02, 2.2206e-02, 5.2949e-01, 4.1854e-01],\n",
              "         [6.1781e-01, 2.3966e-01, 2.3932e-01, 1.5067e-01, 6.6516e-02,\n",
              "          1.8043e-01, 5.4894e-01, 4.4895e-01, 9.9767e-01, 7.6980e-01],\n",
              "         [2.6658e-03, 4.8778e-01, 4.6940e-01, 9.6823e-01, 6.7272e-02,\n",
              "          7.2061e-01, 1.4940e-01, 7.0917e-01, 8.8964e-01, 5.9843e-01],\n",
              "         [5.7733e-02, 7.4773e-02, 9.1034e-01, 2.8225e-01, 7.9760e-01,\n",
              "          7.7961e-01, 8.0364e-01, 4.4227e-01, 8.7300e-01, 2.8103e-01]],\n",
              "\n",
              "        [[4.5629e-02, 4.3057e-01, 2.9056e-01, 5.5126e-01, 8.3561e-03,\n",
              "          7.0070e-01, 6.8854e-01, 3.4078e-01, 7.3996e-01, 1.5436e-02],\n",
              "         [7.6214e-01, 7.1749e-01, 7.7870e-01, 3.9389e-01, 6.3290e-01,\n",
              "          1.8971e-01, 9.6861e-01, 2.6436e-01, 8.6679e-01, 8.9431e-01],\n",
              "         [7.6252e-01, 8.6012e-01, 7.9027e-01, 8.6105e-01, 1.9313e-01,\n",
              "          3.7830e-01, 4.9294e-01, 5.8615e-01, 9.3168e-02, 3.2631e-01],\n",
              "         [2.6050e-01, 3.0537e-01, 9.4036e-01, 2.1828e-01, 1.0967e-01,\n",
              "          6.9320e-01, 6.4638e-01, 8.7603e-01, 1.3407e-01, 2.5593e-01],\n",
              "         [9.8783e-01, 2.7296e-01, 5.9112e-01, 6.7936e-02, 7.8566e-01,\n",
              "          3.2047e-01, 6.5196e-01, 6.2294e-01, 5.4016e-01, 9.1941e-01],\n",
              "         [9.0945e-01, 5.5218e-01, 5.6807e-02, 3.7728e-01, 5.2310e-01,\n",
              "          8.4548e-01, 4.3614e-01, 6.3050e-01, 9.7980e-01, 4.8695e-01],\n",
              "         [3.5994e-01, 3.8623e-01, 4.5205e-01, 2.4995e-01, 3.9362e-01,\n",
              "          4.7769e-01, 1.0907e-02, 3.8766e-01, 4.8442e-01, 8.8461e-01],\n",
              "         [6.3625e-01, 4.2940e-01, 7.8543e-01, 2.2281e-01, 4.5745e-01,\n",
              "          4.6954e-01, 6.9637e-01, 4.1165e-01, 9.0235e-01, 8.4297e-01],\n",
              "         [3.2422e-01, 8.9457e-02, 6.6265e-01, 3.2809e-01, 2.0750e-02,\n",
              "          6.5823e-01, 8.8113e-02, 7.1593e-01, 5.0479e-01, 9.0155e-03],\n",
              "         [6.9584e-01, 7.5084e-02, 5.9705e-01, 8.8101e-01, 9.9408e-02,\n",
              "          9.4326e-01, 9.2347e-01, 9.9654e-01, 3.1389e-01, 2.3073e-01]],\n",
              "\n",
              "        [[7.8591e-01, 4.3545e-01, 7.1326e-01, 5.8797e-01, 2.6292e-01,\n",
              "          2.6258e-01, 5.2875e-01, 4.7762e-01, 3.4225e-02, 7.7050e-01],\n",
              "         [6.2713e-01, 8.6851e-01, 6.7183e-01, 8.5299e-01, 8.3856e-01,\n",
              "          4.3160e-01, 5.3606e-01, 7.8753e-01, 9.3734e-01, 6.8776e-01],\n",
              "         [7.4290e-01, 4.7299e-02, 1.3731e-01, 8.8479e-01, 3.6160e-01,\n",
              "          5.1083e-01, 5.8216e-01, 6.1516e-01, 8.1334e-01, 2.5818e-01],\n",
              "         [3.1487e-01, 2.0122e-01, 9.5268e-01, 8.6142e-01, 3.1059e-01,\n",
              "          6.1958e-01, 1.5663e-01, 7.9192e-01, 5.1325e-01, 6.4700e-01],\n",
              "         [5.9706e-01, 9.2927e-01, 2.8295e-01, 8.8136e-01, 6.1415e-01,\n",
              "          5.2214e-01, 2.6698e-01, 4.5775e-01, 1.6164e-01, 8.4548e-01],\n",
              "         [5.3532e-01, 4.7121e-01, 2.6566e-01, 4.5369e-01, 5.7550e-01,\n",
              "          6.0063e-01, 1.8162e-01, 5.9546e-01, 4.2285e-01, 3.5052e-01],\n",
              "         [3.9163e-01, 9.1968e-01, 7.9913e-01, 4.6060e-01, 9.5463e-02,\n",
              "          7.8157e-01, 3.0557e-01, 2.6608e-01, 6.7940e-01, 7.7097e-01],\n",
              "         [2.9135e-01, 4.8118e-01, 9.3809e-02, 4.5154e-01, 1.9868e-01,\n",
              "          7.1330e-02, 7.4846e-01, 8.1505e-01, 4.0385e-02, 4.7960e-02],\n",
              "         [3.2356e-01, 5.6283e-01, 9.1904e-01, 1.1532e-01, 9.8698e-01,\n",
              "          2.3232e-01, 1.1826e-01, 7.9392e-01, 9.8077e-01, 3.0765e-02],\n",
              "         [2.9052e-01, 4.4558e-01, 8.4322e-02, 1.9767e-03, 8.2505e-01,\n",
              "          1.0359e-01, 7.4930e-01, 4.5691e-01, 6.1747e-01, 7.6903e-01]],\n",
              "\n",
              "        [[7.9410e-01, 5.7665e-01, 1.9153e-01, 6.6542e-01, 8.5281e-01,\n",
              "          9.1723e-01, 2.6325e-01, 4.6460e-01, 8.2440e-01, 5.5279e-01],\n",
              "         [4.7559e-01, 2.3038e-02, 6.2248e-03, 9.7676e-01, 8.7183e-01,\n",
              "          5.4651e-01, 4.0901e-01, 1.6496e-02, 6.6905e-01, 1.1344e-01],\n",
              "         [3.3966e-01, 7.2179e-01, 1.5482e-01, 1.0338e-01, 4.4524e-01,\n",
              "          6.4351e-01, 4.8677e-01, 1.0724e-01, 6.5836e-01, 5.3959e-01],\n",
              "         [2.5912e-01, 3.5801e-01, 6.5738e-01, 9.8364e-01, 9.5573e-02,\n",
              "          8.8580e-01, 1.0450e-01, 9.9664e-01, 4.2067e-02, 6.7413e-01],\n",
              "         [8.0945e-01, 2.6280e-01, 7.8076e-02, 6.7129e-01, 9.3517e-01,\n",
              "          9.8522e-02, 1.5288e-02, 3.7229e-01, 3.9341e-01, 1.6795e-01],\n",
              "         [2.2095e-01, 1.0909e-02, 8.0717e-03, 1.7714e-01, 9.9978e-01,\n",
              "          4.2968e-01, 8.2661e-02, 3.6236e-01, 1.9799e-01, 1.6844e-01],\n",
              "         [8.8948e-01, 4.9950e-01, 1.8708e-01, 2.5178e-01, 6.1688e-01,\n",
              "          9.3221e-01, 4.6179e-01, 3.9983e-01, 5.5610e-02, 6.9873e-01],\n",
              "         [4.8395e-01, 4.8342e-01, 6.5835e-01, 6.8707e-02, 1.6389e-01,\n",
              "          9.4784e-01, 4.0400e-01, 1.8657e-01, 5.5185e-01, 9.8771e-01],\n",
              "         [6.1304e-01, 8.2461e-01, 9.2963e-01, 2.1532e-01, 9.1300e-01,\n",
              "          9.6728e-02, 2.4944e-01, 2.4802e-01, 4.0535e-01, 2.6153e-01],\n",
              "         [4.4038e-01, 8.7956e-01, 7.4128e-01, 3.2586e-01, 5.5551e-01,\n",
              "          8.2651e-01, 6.0120e-01, 4.4382e-01, 6.9411e-01, 9.2092e-01]],\n",
              "\n",
              "        [[1.3913e-01, 3.5255e-01, 8.8607e-01, 6.1494e-01, 5.0639e-01,\n",
              "          2.5524e-01, 8.5540e-01, 1.8941e-01, 7.0832e-01, 5.6578e-01],\n",
              "         [8.5514e-02, 3.3085e-02, 6.6365e-01, 2.8057e-01, 4.5233e-03,\n",
              "          4.1071e-01, 2.3584e-01, 7.5686e-01, 7.8983e-01, 7.0072e-01],\n",
              "         [5.9898e-01, 2.7849e-01, 4.6543e-01, 1.8432e-01, 4.2994e-01,\n",
              "          3.6365e-01, 3.7027e-01, 1.9164e-01, 6.1939e-01, 2.2085e-01],\n",
              "         [4.5720e-02, 3.4230e-01, 3.7030e-02, 1.1555e-02, 6.2087e-01,\n",
              "          2.6691e-01, 4.9184e-01, 8.6296e-01, 3.7018e-01, 2.4490e-01],\n",
              "         [5.4900e-01, 1.6282e-01, 4.0268e-01, 6.7079e-01, 3.4144e-01,\n",
              "          5.9268e-02, 3.0591e-01, 5.7893e-01, 7.8651e-01, 3.4185e-01],\n",
              "         [8.1584e-01, 6.7239e-02, 5.0133e-01, 2.0465e-01, 8.8082e-01,\n",
              "          4.7982e-01, 1.2407e-01, 4.6937e-03, 6.0396e-01, 8.9565e-01],\n",
              "         [6.4312e-01, 4.1741e-01, 6.5715e-01, 2.5309e-01, 3.6697e-01,\n",
              "          8.8706e-01, 7.7396e-01, 6.2641e-01, 8.4807e-02, 2.0799e-01],\n",
              "         [2.2444e-01, 8.8728e-01, 3.2000e-01, 7.4211e-01, 5.1846e-01,\n",
              "          3.7549e-01, 6.8959e-01, 4.5985e-01, 9.5054e-01, 9.9532e-02],\n",
              "         [4.3975e-01, 9.4058e-01, 5.4144e-01, 1.1593e-02, 4.4629e-02,\n",
              "          8.0393e-01, 7.8692e-02, 1.7230e-01, 2.7063e-01, 1.5257e-01],\n",
              "         [7.9582e-02, 8.2824e-01, 5.4779e-01, 5.4893e-01, 7.2280e-01,\n",
              "          9.9525e-01, 7.1114e-01, 1.0320e-01, 4.7065e-01, 7.8906e-01]],\n",
              "\n",
              "        [[6.1944e-01, 3.1862e-01, 2.4785e-01, 1.3315e-01, 5.1575e-01,\n",
              "          1.6091e-01, 5.3417e-01, 6.2038e-01, 7.4865e-01, 3.0933e-01],\n",
              "         [2.7345e-02, 7.0842e-01, 3.1072e-01, 2.2465e-01, 1.7505e-01,\n",
              "          1.7933e-01, 3.2322e-01, 6.1527e-01, 5.2154e-01, 7.5953e-01],\n",
              "         [8.7583e-01, 9.9376e-01, 6.7616e-01, 9.6614e-01, 9.2148e-01,\n",
              "          6.1479e-01, 6.3048e-01, 4.5583e-01, 9.7727e-01, 2.3163e-01],\n",
              "         [8.5019e-01, 6.2854e-01, 9.0879e-01, 3.4955e-01, 7.3068e-01,\n",
              "          6.2734e-01, 8.0307e-01, 3.3009e-01, 3.6909e-01, 3.4008e-02],\n",
              "         [9.2555e-01, 1.0141e-01, 1.1496e-01, 4.9080e-01, 9.6685e-01,\n",
              "          5.4161e-01, 4.6753e-01, 9.2814e-01, 1.1409e-01, 9.2273e-01],\n",
              "         [7.9230e-01, 7.3290e-01, 6.5417e-01, 1.0113e-01, 4.4503e-01,\n",
              "          5.1589e-01, 1.7139e-01, 8.8902e-01, 3.9142e-01, 1.0313e-01],\n",
              "         [4.4741e-01, 4.2330e-01, 8.5632e-01, 6.2502e-01, 8.2974e-02,\n",
              "          8.1565e-01, 4.2138e-02, 1.9970e-02, 8.3069e-01, 2.2369e-01],\n",
              "         [4.3848e-01, 7.1427e-01, 5.9181e-01, 5.1398e-01, 5.8831e-02,\n",
              "          2.8903e-01, 1.4569e-01, 3.1233e-01, 9.5156e-01, 9.1897e-01],\n",
              "         [3.7942e-01, 7.4200e-01, 8.9408e-01, 1.1017e-01, 7.4325e-01,\n",
              "          8.3468e-01, 2.1583e-01, 3.5043e-01, 5.7609e-01, 3.4659e-01],\n",
              "         [2.5263e-01, 5.4019e-01, 1.2004e-01, 7.5744e-01, 8.5378e-01,\n",
              "          3.7603e-01, 2.7949e-01, 8.8647e-01, 8.4118e-01, 1.4473e-01]],\n",
              "\n",
              "        [[2.2228e-01, 7.1439e-01, 3.4817e-01, 4.4970e-01, 4.6348e-01,\n",
              "          4.6682e-01, 7.3776e-01, 3.0360e-01, 3.6760e-01, 8.0382e-01],\n",
              "         [5.4119e-01, 7.8779e-01, 4.9755e-01, 4.1559e-01, 8.0608e-01,\n",
              "          7.7797e-01, 7.5664e-01, 8.7467e-01, 9.3502e-01, 1.0807e-01],\n",
              "         [9.9874e-01, 4.9139e-01, 2.0666e-01, 2.7713e-01, 1.4448e-01,\n",
              "          3.3033e-01, 4.5113e-01, 3.3890e-01, 4.1117e-01, 9.7263e-01],\n",
              "         [5.7654e-01, 4.2724e-01, 5.2483e-01, 4.0002e-02, 1.8862e-02,\n",
              "          5.7351e-01, 4.8248e-01, 5.7447e-01, 6.2957e-01, 7.5859e-01],\n",
              "         [4.8013e-01, 7.9818e-01, 8.0850e-01, 8.5553e-01, 6.3284e-01,\n",
              "          1.9632e-01, 4.5786e-01, 9.6146e-02, 1.1240e-01, 7.4627e-01],\n",
              "         [3.1800e-01, 5.9575e-01, 1.8734e-01, 3.1337e-01, 1.5472e-01,\n",
              "          6.7794e-01, 8.3886e-01, 5.5130e-01, 5.7794e-01, 8.0885e-01],\n",
              "         [9.9395e-01, 6.7279e-01, 3.4714e-01, 7.8122e-01, 7.7585e-01,\n",
              "          1.6145e-01, 1.1724e-01, 7.1938e-02, 2.9271e-02, 2.6430e-01],\n",
              "         [3.7988e-01, 1.9858e-02, 1.0383e-01, 5.8042e-01, 6.6938e-01,\n",
              "          2.0145e-02, 3.6991e-01, 2.5032e-01, 2.7721e-01, 1.6306e-01],\n",
              "         [6.8415e-01, 7.3728e-01, 2.8752e-01, 9.2925e-01, 7.2938e-02,\n",
              "          5.7455e-01, 9.2600e-01, 4.8034e-01, 5.6479e-01, 2.9823e-01],\n",
              "         [4.9937e-01, 4.1731e-01, 4.0172e-01, 3.7578e-01, 6.4580e-01,\n",
              "          4.6246e-01, 6.8129e-01, 3.1222e-01, 1.4273e-01, 6.2853e-01]],\n",
              "\n",
              "        [[9.9559e-01, 4.1706e-01, 4.0401e-01, 3.0800e-02, 7.0110e-01,\n",
              "          7.9833e-01, 4.2276e-01, 6.6326e-01, 4.6626e-01, 9.7139e-01],\n",
              "         [1.3310e-01, 1.8321e-01, 9.4379e-01, 5.0321e-01, 9.7954e-01,\n",
              "          7.3022e-01, 1.2422e-01, 9.8903e-01, 7.4699e-01, 2.1347e-01],\n",
              "         [1.1772e-01, 2.0221e-01, 1.3222e-01, 5.8930e-01, 9.4765e-02,\n",
              "          2.6884e-01, 1.0393e-01, 5.9192e-01, 8.8383e-01, 6.4606e-02],\n",
              "         [2.6069e-01, 7.8083e-01, 8.3582e-01, 3.9657e-01, 3.8629e-01,\n",
              "          2.7327e-01, 7.6811e-02, 6.1301e-01, 4.0043e-01, 5.7228e-01],\n",
              "         [2.6542e-01, 2.8973e-01, 3.4838e-01, 6.6458e-01, 9.1202e-01,\n",
              "          6.1367e-01, 3.2458e-01, 4.0924e-01, 9.5235e-01, 5.3373e-01],\n",
              "         [8.9388e-01, 6.8453e-01, 9.3401e-01, 5.4916e-01, 6.6694e-01,\n",
              "          1.0342e-01, 2.2723e-01, 3.0567e-01, 9.3180e-01, 6.1482e-01],\n",
              "         [9.0112e-01, 7.1149e-01, 8.2666e-01, 4.9912e-01, 8.6559e-01,\n",
              "          4.2429e-01, 7.4002e-01, 2.9917e-01, 7.5369e-01, 4.7666e-01],\n",
              "         [1.0837e-01, 5.8184e-01, 4.8167e-01, 9.9187e-01, 3.8670e-01,\n",
              "          9.0651e-01, 6.5437e-02, 1.5971e-01, 1.0382e-01, 4.0873e-01],\n",
              "         [6.0960e-01, 5.8322e-01, 1.8696e-02, 7.4060e-01, 1.4289e-01,\n",
              "          4.0235e-01, 4.5679e-01, 8.8461e-01, 5.9332e-01, 7.7779e-01],\n",
              "         [7.5660e-01, 1.1632e-01, 7.5599e-01, 2.3161e-01, 2.9015e-01,\n",
              "          5.9711e-01, 3.7347e-01, 3.3646e-02, 2.7838e-01, 3.4911e-01]],\n",
              "\n",
              "        [[3.0834e-02, 8.0053e-01, 8.8263e-01, 4.9075e-01, 8.2490e-01,\n",
              "          5.4073e-01, 5.2547e-01, 1.3840e-01, 1.8763e-01, 6.3646e-01],\n",
              "         [3.9904e-01, 5.1826e-01, 6.0841e-01, 9.8402e-01, 1.5240e-01,\n",
              "          2.2853e-01, 7.1560e-03, 7.9486e-02, 1.4808e-01, 4.3775e-01],\n",
              "         [1.1113e-01, 4.6966e-01, 8.5558e-01, 1.6770e-01, 8.2715e-01,\n",
              "          5.8059e-01, 8.0045e-01, 1.6596e-01, 3.0519e-01, 5.7530e-01],\n",
              "         [4.2796e-01, 5.2985e-01, 8.5337e-01, 3.7723e-01, 6.1636e-01,\n",
              "          8.1801e-01, 5.6338e-01, 8.8910e-01, 7.8739e-01, 5.7881e-01],\n",
              "         [3.4152e-02, 6.4013e-01, 1.5606e-01, 1.3441e-01, 5.1476e-01,\n",
              "          7.5325e-01, 3.4906e-01, 4.3866e-01, 8.5781e-01, 9.4666e-01],\n",
              "         [2.2940e-01, 5.8403e-01, 2.1712e-01, 9.8465e-01, 9.3094e-01,\n",
              "          3.8650e-01, 7.6372e-01, 7.7643e-01, 9.7458e-01, 1.4610e-01],\n",
              "         [4.9625e-01, 3.7360e-01, 1.5602e-01, 2.9652e-01, 8.4856e-01,\n",
              "          7.7002e-01, 8.3586e-01, 5.9872e-01, 6.4584e-01, 5.0856e-01],\n",
              "         [4.9128e-01, 6.5692e-01, 3.5490e-02, 1.0623e-01, 4.1754e-01,\n",
              "          9.8651e-01, 7.4877e-01, 2.9359e-01, 5.5154e-01, 1.5868e-01],\n",
              "         [7.0512e-01, 6.0892e-01, 1.3727e-01, 3.2933e-01, 5.9079e-01,\n",
              "          2.5329e-01, 2.2138e-01, 2.3126e-02, 6.2868e-01, 2.4219e-01],\n",
              "         [4.6133e-01, 5.4757e-01, 4.2342e-01, 4.9394e-02, 2.3529e-01,\n",
              "          5.4064e-01, 2.3317e-01, 9.5938e-01, 8.5438e-01, 6.3070e-01]],\n",
              "\n",
              "        [[3.7914e-02, 5.5136e-01, 6.4524e-01, 8.5458e-01, 6.4132e-01,\n",
              "          6.8294e-01, 8.8221e-01, 2.5458e-01, 9.7953e-01, 3.8611e-02],\n",
              "         [2.2031e-01, 5.6143e-01, 3.4183e-01, 7.8529e-01, 8.1432e-01,\n",
              "          8.3739e-01, 1.4042e-01, 9.4758e-01, 8.8545e-01, 2.2523e-01],\n",
              "         [1.3888e-01, 7.0333e-01, 3.2645e-01, 4.9720e-01, 3.7073e-01,\n",
              "          5.9887e-01, 5.0663e-02, 9.8951e-01, 3.0427e-01, 7.3708e-01],\n",
              "         [4.3710e-01, 7.6138e-01, 5.9121e-01, 4.5257e-01, 8.7232e-01,\n",
              "          5.5640e-01, 3.0117e-01, 1.7112e-01, 8.8914e-01, 4.2379e-02],\n",
              "         [4.3247e-01, 1.6719e-01, 7.6345e-01, 2.5992e-01, 5.6701e-01,\n",
              "          7.9884e-01, 1.6740e-01, 3.7550e-01, 7.4943e-01, 5.4201e-01],\n",
              "         [8.6337e-01, 7.0211e-02, 8.5476e-01, 4.9875e-01, 2.7277e-01,\n",
              "          1.7467e-01, 1.1688e-01, 2.4099e-03, 5.5469e-01, 2.5343e-01],\n",
              "         [6.2440e-01, 6.1954e-01, 1.3282e-01, 8.3996e-01, 9.1516e-01,\n",
              "          7.1177e-01, 8.9149e-01, 5.0943e-01, 2.1013e-01, 5.7899e-01],\n",
              "         [3.2745e-01, 3.8460e-01, 6.3783e-01, 4.9873e-01, 8.9086e-01,\n",
              "          2.5789e-01, 8.7083e-01, 8.0670e-01, 5.9126e-01, 6.1954e-01],\n",
              "         [3.2146e-01, 1.5023e-01, 9.2737e-01, 9.6330e-01, 6.8574e-01,\n",
              "          5.4508e-01, 2.1344e-01, 4.8507e-01, 6.3453e-01, 3.0247e-01],\n",
              "         [8.3296e-01, 7.6925e-01, 2.8787e-01, 1.3196e-02, 3.2668e-01,\n",
              "          3.0222e-01, 8.8275e-01, 4.7609e-01, 5.3233e-01, 8.1384e-01]]])"
            ]
          },
          "metadata": {},
          "execution_count": 31
        }
      ]
    },
    {
      "cell_type": "code",
      "source": [
        "rTensor.ndim\n",
        "\n"
      ],
      "metadata": {
        "colab": {
          "base_uri": "https://localhost:8080/"
        },
        "id": "99lh5xlH--ne",
        "outputId": "e7233ba0-ec85-4b31-c399-412326deef88"
      },
      "execution_count": null,
      "outputs": [
        {
          "output_type": "execute_result",
          "data": {
            "text/plain": [
              "3"
            ]
          },
          "metadata": {},
          "execution_count": 32
        }
      ]
    },
    {
      "cell_type": "code",
      "source": [
        "#Create a tenson with similar size to an image\n",
        "rImageSizeTensor = torch.rand(size=(224,224,3))\n",
        "rImageSizeTensor.shape, rImageSizeTensor.ndim\n"
      ],
      "metadata": {
        "colab": {
          "base_uri": "https://localhost:8080/"
        },
        "id": "moqRU9ci_I1f",
        "outputId": "861273f6-ea33-416f-e981-25b9d5299d31"
      },
      "execution_count": null,
      "outputs": [
        {
          "output_type": "execute_result",
          "data": {
            "text/plain": [
              "(torch.Size([224, 224, 3]), 3)"
            ]
          },
          "metadata": {},
          "execution_count": 33
        }
      ]
    },
    {
      "cell_type": "markdown",
      "source": [
        "###Zeros and Ones\n"
      ],
      "metadata": {
        "id": "hjRknMiaGwc6"
      }
    },
    {
      "cell_type": "code",
      "source": [
        "#Zeros\n",
        "zeros = torch.zeros(3,3)\n",
        "zeros"
      ],
      "metadata": {
        "colab": {
          "base_uri": "https://localhost:8080/"
        },
        "id": "Jkt5gG3oHuA0",
        "outputId": "08e77056-e23a-44e7-c71d-08cd06c97e6d"
      },
      "execution_count": null,
      "outputs": [
        {
          "output_type": "execute_result",
          "data": {
            "text/plain": [
              "tensor([[0., 0., 0.],\n",
              "        [0., 0., 0.],\n",
              "        [0., 0., 0.]])"
            ]
          },
          "metadata": {},
          "execution_count": 38
        }
      ]
    },
    {
      "cell_type": "code",
      "source": [
        "#Ones\n",
        "Ones = torch.ones(size=(4,3))\n",
        "Ones"
      ],
      "metadata": {
        "colab": {
          "base_uri": "https://localhost:8080/"
        },
        "id": "zWTS-uaLIOyh",
        "outputId": "4f0fcf37-588f-47d8-d861-a96dfa00d1be"
      },
      "execution_count": null,
      "outputs": [
        {
          "output_type": "execute_result",
          "data": {
            "text/plain": [
              "tensor([[1., 1., 1.],\n",
              "        [1., 1., 1.],\n",
              "        [1., 1., 1.],\n",
              "        [1., 1., 1.]])"
            ]
          },
          "metadata": {},
          "execution_count": 44
        }
      ]
    },
    {
      "cell_type": "code",
      "source": [
        "Ones.dtype"
      ],
      "metadata": {
        "colab": {
          "base_uri": "https://localhost:8080/"
        },
        "id": "FuOQY8-sIUsr",
        "outputId": "6f0ba33d-a8ae-4138-d3c5-2668d270ccba"
      },
      "execution_count": null,
      "outputs": [
        {
          "output_type": "execute_result",
          "data": {
            "text/plain": [
              "torch.float32"
            ]
          },
          "metadata": {},
          "execution_count": 42
        }
      ]
    },
    {
      "cell_type": "code",
      "source": [
        "zeros.dtype"
      ],
      "metadata": {
        "colab": {
          "base_uri": "https://localhost:8080/"
        },
        "id": "G0_jVxCcIZxm",
        "outputId": "526f5fc6-d52b-4552-c388-8cce07ecfc28"
      },
      "execution_count": null,
      "outputs": [
        {
          "output_type": "execute_result",
          "data": {
            "text/plain": [
              "torch.float32"
            ]
          },
          "metadata": {},
          "execution_count": 43
        }
      ]
    },
    {
      "cell_type": "markdown",
      "source": [
        "###Creatig the Range of Tensors and tensor-like"
      ],
      "metadata": {
        "id": "AsOHNm7oIfsz"
      }
    },
    {
      "cell_type": "code",
      "source": [
        "#Using Tourch arange\n",
        "range= torch.arange(2,10)\n",
        "range"
      ],
      "metadata": {
        "colab": {
          "base_uri": "https://localhost:8080/"
        },
        "id": "oFIUfeGmI0_M",
        "outputId": "485801b6-7138-446d-960f-ca8edcdb90b8"
      },
      "execution_count": null,
      "outputs": [
        {
          "output_type": "execute_result",
          "data": {
            "text/plain": [
              "tensor([2, 3, 4, 5, 6, 7, 8, 9])"
            ]
          },
          "metadata": {},
          "execution_count": 46
        }
      ]
    },
    {
      "cell_type": "code",
      "source": [
        "#using the arange\n",
        "one_to_ten = torch.arange(start= 1, end=11, step=1)\n",
        "one_to_ten\n"
      ],
      "metadata": {
        "colab": {
          "base_uri": "https://localhost:8080/"
        },
        "id": "JUUzlWW2JK_6",
        "outputId": "a003cd2b-44e5-440d-a480-953a8c42f108"
      },
      "execution_count": null,
      "outputs": [
        {
          "output_type": "execute_result",
          "data": {
            "text/plain": [
              "tensor([ 1,  2,  3,  4,  5,  6,  7,  8,  9, 10])"
            ]
          },
          "metadata": {},
          "execution_count": 50
        }
      ]
    },
    {
      "cell_type": "code",
      "source": [
        "#tensor like methods\n",
        "ten_zeros= torch.zeros_like(input=one_to_ten)\n",
        "ten_zeros"
      ],
      "metadata": {
        "colab": {
          "base_uri": "https://localhost:8080/"
        },
        "id": "Tk9J24iyPeVY",
        "outputId": "b16f2928-f3aa-4383-8e46-7d2ed06ab5c3"
      },
      "execution_count": null,
      "outputs": [
        {
          "output_type": "execute_result",
          "data": {
            "text/plain": [
              "tensor([0, 0, 0, 0, 0, 0, 0, 0, 0, 0])"
            ]
          },
          "metadata": {},
          "execution_count": 53
        }
      ]
    },
    {
      "cell_type": "code",
      "source": [
        "ten_ones= torch.ones_like(input=one_to_ten)\n",
        "ten_ones"
      ],
      "metadata": {
        "colab": {
          "base_uri": "https://localhost:8080/"
        },
        "id": "Kjb10MgQQBm5",
        "outputId": "dfc35a75-8515-4fe2-ac4c-ca32f4da0e23"
      },
      "execution_count": null,
      "outputs": [
        {
          "output_type": "execute_result",
          "data": {
            "text/plain": [
              "tensor([1, 1, 1, 1, 1, 1, 1, 1, 1, 1])"
            ]
          },
          "metadata": {},
          "execution_count": 54
        }
      ]
    },
    {
      "cell_type": "markdown",
      "source": [
        "###Tensor Datatypes"
      ],
      "metadata": {
        "id": "YOkW2FixQtXx"
      }
    },
    {
      "cell_type": "code",
      "source": [
        "from IPython.core import display_trap\n",
        "# Float 32 tensor\n",
        "float_32_tensor = torch.tensor([4.3,2.0,4.0],\n",
        "                               dtype=None,\n",
        "                               device=\"cuda\",\n",
        "                               requires_grad=False\n",
        "\n",
        "                               )\n",
        "float_32_tensor"
      ],
      "metadata": {
        "colab": {
          "base_uri": "https://localhost:8080/"
        },
        "id": "duMGDDgnRDjq",
        "outputId": "688debe6-5b87-486d-fa44-c3cbf9617d21"
      },
      "execution_count": null,
      "outputs": [
        {
          "output_type": "execute_result",
          "data": {
            "text/plain": [
              "tensor([4.3000, 2.0000, 4.0000], device='cuda:0')"
            ]
          },
          "metadata": {},
          "execution_count": 59
        }
      ]
    },
    {
      "cell_type": "code",
      "source": [
        "float_32_tensor.dtype\n"
      ],
      "metadata": {
        "colab": {
          "base_uri": "https://localhost:8080/"
        },
        "id": "_w4EXIYxToWp",
        "outputId": "f67cfb52-f418-4f25-df3d-f08c27ade111"
      },
      "execution_count": null,
      "outputs": [
        {
          "output_type": "execute_result",
          "data": {
            "text/plain": [
              "torch.float32"
            ]
          },
          "metadata": {},
          "execution_count": 60
        }
      ]
    },
    {
      "cell_type": "code",
      "source": [
        "#float 16\n",
        "float_16 = float_32_tensor.type(torch.float16)\n",
        "float_16.dtype"
      ],
      "metadata": {
        "colab": {
          "base_uri": "https://localhost:8080/"
        },
        "id": "EdiMlUnrUuPG",
        "outputId": "85b3c6c2-e6bb-4e32-a52a-991b65fa5efa"
      },
      "execution_count": null,
      "outputs": [
        {
          "output_type": "execute_result",
          "data": {
            "text/plain": [
              "torch.float16"
            ]
          },
          "metadata": {},
          "execution_count": 63
        }
      ]
    },
    {
      "cell_type": "code",
      "source": [
        "#creating tensor\n",
        "\n",
        "some_tensor= torch.rand(3,4)\n",
        "\n",
        "print(\" The tensor is some_tensor\")\n",
        "print(f\" The data type of tensor is: {some_tensor.dtype}\")\n",
        "print(f\" The shape of tensor is: {some_tensor.shape}\")\n",
        "print(f\" The device type of tensor is: {some_tensor.device}\")\n"
      ],
      "metadata": {
        "colab": {
          "base_uri": "https://localhost:8080/"
        },
        "id": "wkTL_eZVU-wM",
        "outputId": "79fb8340-447e-4a25-b123-0f11652d05a9"
      },
      "execution_count": null,
      "outputs": [
        {
          "output_type": "stream",
          "name": "stdout",
          "text": [
            " The tensor is some_tensor\n",
            " The data type of tensor is: torch.float32\n",
            " The shape of tensor is: torch.Size([3, 4])\n",
            " The device type of tensor is: cpu\n"
          ]
        }
      ]
    },
    {
      "cell_type": "markdown",
      "source": [
        "### Manupulating the Tensor operations\n",
        "* Addition\n",
        "* Subtraction\n",
        "* Multiplication\n",
        "* Division"
      ],
      "metadata": {
        "id": "oua-mKtgcxeI"
      }
    },
    {
      "cell_type": "code",
      "source": [
        "#Creating the tensor\n",
        "data = torch.tensor([1,2,3])\n"
      ],
      "metadata": {
        "id": "-ui2BJjgBocR"
      },
      "execution_count": null,
      "outputs": []
    },
    {
      "cell_type": "code",
      "source": [
        "torch.add(data,10)\n"
      ],
      "metadata": {
        "colab": {
          "base_uri": "https://localhost:8080/"
        },
        "id": "tztOwTA4B9Ey",
        "outputId": "13c8d012-c0d7-41ca-89d5-92fa1762db92"
      },
      "execution_count": null,
      "outputs": [
        {
          "output_type": "execute_result",
          "data": {
            "text/plain": [
              "tensor([11, 12, 13])"
            ]
          },
          "metadata": {},
          "execution_count": 12
        }
      ]
    },
    {
      "cell_type": "code",
      "source": [
        "# Multiply\n",
        "data *4"
      ],
      "metadata": {
        "colab": {
          "base_uri": "https://localhost:8080/"
        },
        "id": "yktk_reuCc7C",
        "outputId": "c9936962-2f36-48f8-92c3-382f75857692"
      },
      "execution_count": null,
      "outputs": [
        {
          "output_type": "execute_result",
          "data": {
            "text/plain": [
              "tensor([ 4,  8, 12])"
            ]
          },
          "metadata": {},
          "execution_count": 13
        }
      ]
    },
    {
      "cell_type": "code",
      "source": [
        "torch.mul(data,10)"
      ],
      "metadata": {
        "colab": {
          "base_uri": "https://localhost:8080/"
        },
        "id": "iNFA-yHzCtzj",
        "outputId": "497626df-adee-477d-cee4-11bf79e995fe"
      },
      "execution_count": null,
      "outputs": [
        {
          "output_type": "execute_result",
          "data": {
            "text/plain": [
              "tensor([10, 20, 30])"
            ]
          },
          "metadata": {},
          "execution_count": 14
        }
      ]
    },
    {
      "cell_type": "code",
      "source": [
        "#Subtract\n",
        "data-10"
      ],
      "metadata": {
        "colab": {
          "base_uri": "https://localhost:8080/"
        },
        "id": "ZVt1Pn1KCx1E",
        "outputId": "1a76c988-8b80-41ad-fe4e-83d83406fe62"
      },
      "execution_count": null,
      "outputs": [
        {
          "output_type": "execute_result",
          "data": {
            "text/plain": [
              "tensor([-9, -8, -7])"
            ]
          },
          "metadata": {},
          "execution_count": 17
        }
      ]
    },
    {
      "cell_type": "code",
      "source": [
        "torch.sub(data, 10)"
      ],
      "metadata": {
        "colab": {
          "base_uri": "https://localhost:8080/"
        },
        "id": "z9Qo4HDeC3lD",
        "outputId": "7546c1f4-9c06-480a-e3db-bd011c198c1b"
      },
      "execution_count": null,
      "outputs": [
        {
          "output_type": "execute_result",
          "data": {
            "text/plain": [
              "tensor([-9, -8, -7])"
            ]
          },
          "metadata": {},
          "execution_count": 18
        }
      ]
    },
    {
      "cell_type": "markdown",
      "source": [
        "### Matrix Multiplication\n",
        "* Element by element\n",
        "* Matrix multiply (dot product)"
      ],
      "metadata": {
        "id": "3wz9MWhaC88T"
      }
    },
    {
      "cell_type": "code",
      "source": [
        "# Multiplying each element\n",
        "print(f\" Equals: {data * data}\")"
      ],
      "metadata": {
        "colab": {
          "base_uri": "https://localhost:8080/"
        },
        "id": "h2YyO2ccH-8J",
        "outputId": "322c3628-b6f8-4295-aed5-e8e4200a8796"
      },
      "execution_count": null,
      "outputs": [
        {
          "output_type": "stream",
          "name": "stdout",
          "text": [
            " Equals: tensor([1, 4, 9])\n"
          ]
        }
      ]
    },
    {
      "cell_type": "code",
      "source": [
        "#Multiplying matrix element\n",
        "\n",
        "matrix = torch.matmul(data,data)\n",
        "matrix"
      ],
      "metadata": {
        "colab": {
          "base_uri": "https://localhost:8080/"
        },
        "id": "ofUZtH73ICrV",
        "outputId": "b3683e8f-ebb2-4928-edd4-acab6ded2c36"
      },
      "execution_count": null,
      "outputs": [
        {
          "output_type": "execute_result",
          "data": {
            "text/plain": [
              "tensor(14)"
            ]
          },
          "metadata": {},
          "execution_count": 22
        }
      ]
    },
    {
      "cell_type": "code",
      "source": [
        "#matrix multiplication by hand\n",
        "1*1 +2*2 + 3*3"
      ],
      "metadata": {
        "colab": {
          "base_uri": "https://localhost:8080/"
        },
        "id": "azLlZCcLJVV_",
        "outputId": "c7e45726-a0ab-4f50-83ce-7a84bcfdf80e"
      },
      "execution_count": null,
      "outputs": [
        {
          "output_type": "execute_result",
          "data": {
            "text/plain": [
              "14"
            ]
          },
          "metadata": {},
          "execution_count": 23
        }
      ]
    },
    {
      "cell_type": "code",
      "source": [
        "%%time\n",
        "value =0\n",
        "for i in range(len(data)):\n",
        "  value+= data[i] * data[i]\n",
        "print(value)"
      ],
      "metadata": {
        "colab": {
          "base_uri": "https://localhost:8080/"
        },
        "id": "J6RNTUEALpi4",
        "outputId": "ad5e4594-c5c8-4f52-f35b-87552dfc2e7d"
      },
      "execution_count": null,
      "outputs": [
        {
          "output_type": "stream",
          "name": "stdout",
          "text": [
            "tensor(14)\n",
            "CPU times: user 2.05 ms, sys: 0 ns, total: 2.05 ms\n",
            "Wall time: 1.95 ms\n"
          ]
        }
      ]
    },
    {
      "cell_type": "code",
      "source": [
        "%%time\n",
        "torch.matmul(data,data)"
      ],
      "metadata": {
        "colab": {
          "base_uri": "https://localhost:8080/"
        },
        "id": "W80W6xUnNW9a",
        "outputId": "2e4a8435-5446-4b07-8a76-ee08c2bed369"
      },
      "execution_count": null,
      "outputs": [
        {
          "output_type": "stream",
          "name": "stdout",
          "text": [
            "CPU times: user 2.32 ms, sys: 27 µs, total: 2.35 ms\n",
            "Wall time: 2.22 ms\n"
          ]
        },
        {
          "output_type": "execute_result",
          "data": {
            "text/plain": [
              "tensor(14)"
            ]
          },
          "metadata": {},
          "execution_count": 26
        }
      ]
    },
    {
      "cell_type": "code",
      "source": [
        "#Matrix Multiplications\n",
        "\n",
        "torch.matmul( torch.rand([10,10]),torch.rand([10,2]))\n",
        "\n"
      ],
      "metadata": {
        "colab": {
          "base_uri": "https://localhost:8080/"
        },
        "id": "yMoeOQ-qNkrZ",
        "outputId": "6b46862a-a76d-4032-adda-ced261b2e75a"
      },
      "execution_count": null,
      "outputs": [
        {
          "output_type": "execute_result",
          "data": {
            "text/plain": [
              "tensor([[2.3417, 3.3719],\n",
              "        [2.0878, 2.7555],\n",
              "        [2.0420, 3.2135],\n",
              "        [2.4353, 3.1207],\n",
              "        [2.0108, 3.0225],\n",
              "        [1.5406, 2.9364],\n",
              "        [2.0200, 2.7282],\n",
              "        [1.7339, 2.7416],\n",
              "        [2.4699, 3.0962],\n",
              "        [2.1384, 4.2255]])"
            ]
          },
          "metadata": {},
          "execution_count": 14
        }
      ]
    },
    {
      "cell_type": "markdown",
      "source": [
        "### Matrix multiplication manually"
      ],
      "metadata": {
        "id": "8QNZQLgmbe_M"
      }
    },
    {
      "cell_type": "code",
      "source": [
        "tensor_A = torch.tensor([[2,3],\n",
        "                         [3,4],\n",
        "                         [5,8]])\n",
        "tensor_B = torch.tensor([[1,9],\n",
        "                         [8,4],\n",
        "                         [5,2]])\n",
        "tensor_A.shape"
      ],
      "metadata": {
        "colab": {
          "base_uri": "https://localhost:8080/"
        },
        "id": "IlTmyzULgwsU",
        "outputId": "0a0c7e1f-7a98-4299-ab5c-7ebb20c02f24"
      },
      "execution_count": 15,
      "outputs": [
        {
          "output_type": "execute_result",
          "data": {
            "text/plain": [
              "torch.Size([3, 2])"
            ]
          },
          "metadata": {},
          "execution_count": 15
        }
      ]
    },
    {
      "cell_type": "code",
      "source": [
        "tensor_B.shape\n"
      ],
      "metadata": {
        "colab": {
          "base_uri": "https://localhost:8080/"
        },
        "id": "Mj29Wae0hHMf",
        "outputId": "82de691d-d98f-4a0c-d3bf-39d962ee280b"
      },
      "execution_count": 16,
      "outputs": [
        {
          "output_type": "execute_result",
          "data": {
            "text/plain": [
              "torch.Size([3, 2])"
            ]
          },
          "metadata": {},
          "execution_count": 16
        }
      ]
    },
    {
      "cell_type": "markdown",
      "source": [
        "To fix the shape issue we can use the  **Transpose**"
      ],
      "metadata": {
        "id": "HPts_cI0hLfs"
      }
    },
    {
      "cell_type": "code",
      "source": [
        "tensor_B\n"
      ],
      "metadata": {
        "colab": {
          "base_uri": "https://localhost:8080/"
        },
        "id": "i036iQuthSru",
        "outputId": "a85c2b65-6f1b-442d-8d46-eec8bc9f6bb2"
      },
      "execution_count": 18,
      "outputs": [
        {
          "output_type": "execute_result",
          "data": {
            "text/plain": [
              "tensor([[1, 9],\n",
              "        [8, 4],\n",
              "        [5, 2]])"
            ]
          },
          "metadata": {},
          "execution_count": 18
        }
      ]
    },
    {
      "cell_type": "code",
      "source": [
        "tensor_B.T # T is used to change the dimention of the the matrix"
      ],
      "metadata": {
        "colab": {
          "base_uri": "https://localhost:8080/"
        },
        "id": "rFvU8mv5h6DP",
        "outputId": "843d5019-5048-4cd7-8d3d-8c684226e5da"
      },
      "execution_count": 20,
      "outputs": [
        {
          "output_type": "execute_result",
          "data": {
            "text/plain": [
              "tensor([[1, 8, 5],\n",
              "        [9, 4, 2]])"
            ]
          },
          "metadata": {},
          "execution_count": 20
        }
      ]
    },
    {
      "cell_type": "code",
      "source": [
        "tensor_B.T.shape\n"
      ],
      "metadata": {
        "colab": {
          "base_uri": "https://localhost:8080/"
        },
        "id": "a654pkgHh8Hl",
        "outputId": "a8903fbd-810d-4c58-b173-3013eda7548a"
      },
      "execution_count": 22,
      "outputs": [
        {
          "output_type": "execute_result",
          "data": {
            "text/plain": [
              "torch.Size([2, 3])"
            ]
          },
          "metadata": {},
          "execution_count": 22
        }
      ]
    },
    {
      "cell_type": "code",
      "source": [
        "torch.mm(tensor_A,tensor_B.T)"
      ],
      "metadata": {
        "colab": {
          "base_uri": "https://localhost:8080/"
        },
        "id": "heA6DBLeiE3a",
        "outputId": "238c2b75-0f20-4e5f-9c57-a638d8ff7458"
      },
      "execution_count": 23,
      "outputs": [
        {
          "output_type": "execute_result",
          "data": {
            "text/plain": [
              "tensor([[29, 28, 16],\n",
              "        [39, 40, 23],\n",
              "        [77, 72, 41]])"
            ]
          },
          "metadata": {},
          "execution_count": 23
        }
      ]
    },
    {
      "cell_type": "markdown",
      "source": [
        "### Finding the min, max, mean sum (Tensor Aggrigation)"
      ],
      "metadata": {
        "id": "UN4uFE82iQGe"
      }
    },
    {
      "cell_type": "code",
      "source": [
        "x= torch.arange(0,100,10)\n",
        "x"
      ],
      "metadata": {
        "colab": {
          "base_uri": "https://localhost:8080/"
        },
        "id": "lj-Uw2HO__NI",
        "outputId": "ad42d5a5-ac4f-4a47-94c0-2fdd2a95e323"
      },
      "execution_count": 3,
      "outputs": [
        {
          "output_type": "execute_result",
          "data": {
            "text/plain": [
              "tensor([ 0, 10, 20, 30, 40, 50, 60, 70, 80, 90])"
            ]
          },
          "metadata": {},
          "execution_count": 3
        }
      ]
    },
    {
      "cell_type": "code",
      "source": [
        "x.dtype"
      ],
      "metadata": {
        "colab": {
          "base_uri": "https://localhost:8080/"
        },
        "id": "UHOgwaQOAMmT",
        "outputId": "465a8614-2c30-45d0-c336-b3377fb4e4bf"
      },
      "execution_count": 4,
      "outputs": [
        {
          "output_type": "execute_result",
          "data": {
            "text/plain": [
              "torch.int64"
            ]
          },
          "metadata": {},
          "execution_count": 4
        }
      ]
    },
    {
      "cell_type": "code",
      "source": [
        "x.min()"
      ],
      "metadata": {
        "colab": {
          "base_uri": "https://localhost:8080/"
        },
        "id": "jFZC-yj6Anrt",
        "outputId": "02349fb6-8d8c-44ca-868c-5549170683e2"
      },
      "execution_count": 5,
      "outputs": [
        {
          "output_type": "execute_result",
          "data": {
            "text/plain": [
              "tensor(0)"
            ]
          },
          "metadata": {},
          "execution_count": 5
        }
      ]
    },
    {
      "cell_type": "code",
      "source": [
        "torch.min(x)"
      ],
      "metadata": {
        "colab": {
          "base_uri": "https://localhost:8080/"
        },
        "id": "fMCb6jMJAp3q",
        "outputId": "2cea7c9f-f7d7-4c17-b1f3-9485b8d566f3"
      },
      "execution_count": 6,
      "outputs": [
        {
          "output_type": "execute_result",
          "data": {
            "text/plain": [
              "tensor(0)"
            ]
          },
          "metadata": {},
          "execution_count": 6
        }
      ]
    },
    {
      "cell_type": "code",
      "source": [
        "x.max()"
      ],
      "metadata": {
        "colab": {
          "base_uri": "https://localhost:8080/"
        },
        "id": "lRiGFE4jAr4m",
        "outputId": "fbffc608-b437-4e0e-94f1-b00aefbc42f5"
      },
      "execution_count": 7,
      "outputs": [
        {
          "output_type": "execute_result",
          "data": {
            "text/plain": [
              "tensor(90)"
            ]
          },
          "metadata": {},
          "execution_count": 7
        }
      ]
    },
    {
      "cell_type": "code",
      "source": [
        "torch.max(x)"
      ],
      "metadata": {
        "colab": {
          "base_uri": "https://localhost:8080/"
        },
        "id": "Otk7Xc4BBaWw",
        "outputId": "3130553b-8a70-4f68-c594-c3b1d6cc7825"
      },
      "execution_count": 8,
      "outputs": [
        {
          "output_type": "execute_result",
          "data": {
            "text/plain": [
              "tensor(90)"
            ]
          },
          "metadata": {},
          "execution_count": 8
        }
      ]
    },
    {
      "cell_type": "code",
      "source": [
        "torch.mean(x.type(torch.float32))"
      ],
      "metadata": {
        "colab": {
          "base_uri": "https://localhost:8080/"
        },
        "id": "vjNXwZWhBceV",
        "outputId": "ca6d9a9e-7598-4a9a-f0a7-e9553b973918"
      },
      "execution_count": 10,
      "outputs": [
        {
          "output_type": "execute_result",
          "data": {
            "text/plain": [
              "tensor(45.)"
            ]
          },
          "metadata": {},
          "execution_count": 10
        }
      ]
    },
    {
      "cell_type": "code",
      "source": [
        "x.type(torch.float32).mean()"
      ],
      "metadata": {
        "colab": {
          "base_uri": "https://localhost:8080/"
        },
        "id": "erVBgH9VB8Pg",
        "outputId": "f878f92e-bcee-4302-f6cf-889cea82a3a4"
      },
      "execution_count": 11,
      "outputs": [
        {
          "output_type": "execute_result",
          "data": {
            "text/plain": [
              "tensor(45.)"
            ]
          },
          "metadata": {},
          "execution_count": 11
        }
      ]
    },
    {
      "cell_type": "code",
      "source": [
        "x.sum()"
      ],
      "metadata": {
        "id": "NgWJdGnxCNXL"
      },
      "execution_count": null,
      "outputs": []
    },
    {
      "cell_type": "code",
      "source": [
        "tensor.sum(x)"
      ],
      "metadata": {
        "id": "ZRboeE9cFwix"
      },
      "execution_count": null,
      "outputs": []
    },
    {
      "cell_type": "code",
      "source": [],
      "metadata": {
        "id": "wDLUkQR5GJjJ"
      },
      "execution_count": null,
      "outputs": []
    }
  ]
}