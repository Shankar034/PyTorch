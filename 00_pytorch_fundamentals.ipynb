{
  "nbformat": 4,
  "nbformat_minor": 0,
  "metadata": {
    "colab": {
      "provenance": [],
      "gpuType": "T4",
      "authorship_tag": "ABX9TyOiYJhRU9+PVpzjQYUswHEc",
      "include_colab_link": true
    },
    "kernelspec": {
      "name": "python3",
      "display_name": "Python 3"
    },
    "language_info": {
      "name": "python"
    },
    "accelerator": "GPU"
  },
  "cells": [
    {
      "cell_type": "markdown",
      "metadata": {
        "id": "view-in-github",
        "colab_type": "text"
      },
      "source": [
        "<a href=\"https://colab.research.google.com/github/Shankar034/PyTorch/blob/main/00_pytorch_fundamentals.ipynb\" target=\"_parent\"><img src=\"https://colab.research.google.com/assets/colab-badge.svg\" alt=\"Open In Colab\"/></a>"
      ]
    },
    {
      "cell_type": "markdown",
      "source": [
        "# 00. PyTorch Fundaments\n",
        "\n",
        "\n"
      ],
      "metadata": {
        "id": "_t8Rf2_OX72i"
      }
    },
    {
      "cell_type": "code",
      "source": [
        "import torch\n",
        "import pandas as pd\n",
        "import numpy as np\n",
        "import matplotlib.pyplot as plt\n",
        "print(\"Hello this is pytorch fundaments\")\n",
        "print(torch.__version__)\n",
        "\n"
      ],
      "metadata": {
        "id": "8opZ2hie0Tcq",
        "outputId": "a8124aa7-50c7-4a32-ae0f-533749d89657",
        "colab": {
          "base_uri": "https://localhost:8080/"
        }
      },
      "execution_count": 1,
      "outputs": [
        {
          "output_type": "stream",
          "name": "stdout",
          "text": [
            "Hello this is pytorch fundaments\n",
            "2.0.1+cu118\n"
          ]
        }
      ]
    },
    {
      "cell_type": "code",
      "source": [
        "#scalar\n",
        "scalar = torch.tensor(7)\n",
        "scalar\n"
      ],
      "metadata": {
        "colab": {
          "base_uri": "https://localhost:8080/"
        },
        "id": "LKqaIb4KyPjg",
        "outputId": "aedc1d2b-e271-4188-a6d0-783ed4f13726"
      },
      "execution_count": 2,
      "outputs": [
        {
          "output_type": "execute_result",
          "data": {
            "text/plain": [
              "tensor(7)"
            ]
          },
          "metadata": {},
          "execution_count": 2
        }
      ]
    },
    {
      "cell_type": "code",
      "source": [
        "scalar.ndim"
      ],
      "metadata": {
        "colab": {
          "base_uri": "https://localhost:8080/"
        },
        "id": "HUBeqBZ8yg4b",
        "outputId": "6d98ce21-df6c-42d2-e4f3-582b963de9aa"
      },
      "execution_count": 3,
      "outputs": [
        {
          "output_type": "execute_result",
          "data": {
            "text/plain": [
              "0"
            ]
          },
          "metadata": {},
          "execution_count": 3
        }
      ]
    },
    {
      "cell_type": "code",
      "source": [
        "#get tensor back as python list\n",
        "scalar.item()"
      ],
      "metadata": {
        "colab": {
          "base_uri": "https://localhost:8080/"
        },
        "id": "qegjhjisy7TC",
        "outputId": "6279cc4e-e1c1-4e2a-c2b2-8b0df28542a3"
      },
      "execution_count": 4,
      "outputs": [
        {
          "output_type": "execute_result",
          "data": {
            "text/plain": [
              "7"
            ]
          },
          "metadata": {},
          "execution_count": 4
        }
      ]
    },
    {
      "cell_type": "code",
      "source": [
        "#Vector\n",
        "vector = torch.tensor([7,7])\n",
        "vector\n"
      ],
      "metadata": {
        "colab": {
          "base_uri": "https://localhost:8080/"
        },
        "id": "wSDMA4uwzQo_",
        "outputId": "b11d448e-ca8d-4ec0-9050-fe0dad3af83e"
      },
      "execution_count": 5,
      "outputs": [
        {
          "output_type": "execute_result",
          "data": {
            "text/plain": [
              "tensor([7, 7])"
            ]
          },
          "metadata": {},
          "execution_count": 5
        }
      ]
    },
    {
      "cell_type": "code",
      "source": [
        "vector.ndim"
      ],
      "metadata": {
        "colab": {
          "base_uri": "https://localhost:8080/"
        },
        "id": "bDhuHRpQ0swj",
        "outputId": "6119f713-2bf8-4c63-d5cc-23a899bec416"
      },
      "execution_count": 6,
      "outputs": [
        {
          "output_type": "execute_result",
          "data": {
            "text/plain": [
              "1"
            ]
          },
          "metadata": {},
          "execution_count": 6
        }
      ]
    },
    {
      "cell_type": "code",
      "source": [
        "vector.size"
      ],
      "metadata": {
        "colab": {
          "base_uri": "https://localhost:8080/"
        },
        "id": "r5M0WGN20wkp",
        "outputId": "31321cbb-f7c4-4a02-f931-9115bfc69454"
      },
      "execution_count": 7,
      "outputs": [
        {
          "output_type": "execute_result",
          "data": {
            "text/plain": [
              "<function Tensor.size>"
            ]
          },
          "metadata": {},
          "execution_count": 7
        }
      ]
    },
    {
      "cell_type": "code",
      "source": [
        "vector.shape"
      ],
      "metadata": {
        "colab": {
          "base_uri": "https://localhost:8080/"
        },
        "id": "O1pUovJc023m",
        "outputId": "1183e9ee-9921-450b-a3d3-34bdbb163266"
      },
      "execution_count": 8,
      "outputs": [
        {
          "output_type": "execute_result",
          "data": {
            "text/plain": [
              "torch.Size([2])"
            ]
          },
          "metadata": {},
          "execution_count": 8
        }
      ]
    },
    {
      "cell_type": "code",
      "source": [
        "#Matrix\n",
        "matrix = torch.tensor([[7,9],\n",
        "                      [9,12]])\n",
        "matrix\n"
      ],
      "metadata": {
        "colab": {
          "base_uri": "https://localhost:8080/"
        },
        "id": "TNHZbyM5076x",
        "outputId": "097683f2-d364-4f36-9885-f3994de86df3"
      },
      "execution_count": 9,
      "outputs": [
        {
          "output_type": "execute_result",
          "data": {
            "text/plain": [
              "tensor([[ 7,  9],\n",
              "        [ 9, 12]])"
            ]
          },
          "metadata": {},
          "execution_count": 9
        }
      ]
    },
    {
      "cell_type": "code",
      "source": [
        "matrix.shape\n"
      ],
      "metadata": {
        "colab": {
          "base_uri": "https://localhost:8080/"
        },
        "id": "YWw_RppM1QOV",
        "outputId": "638eaffc-12b7-4680-ae2e-18a7322abfc1"
      },
      "execution_count": 10,
      "outputs": [
        {
          "output_type": "execute_result",
          "data": {
            "text/plain": [
              "torch.Size([2, 2])"
            ]
          },
          "metadata": {},
          "execution_count": 10
        }
      ]
    },
    {
      "cell_type": "code",
      "source": [
        "matrix.ndim"
      ],
      "metadata": {
        "colab": {
          "base_uri": "https://localhost:8080/"
        },
        "id": "0FtDhY6a1bSx",
        "outputId": "cb7994e5-5f03-4c74-d197-59bdcfca0ed9"
      },
      "execution_count": 11,
      "outputs": [
        {
          "output_type": "execute_result",
          "data": {
            "text/plain": [
              "2"
            ]
          },
          "metadata": {},
          "execution_count": 11
        }
      ]
    },
    {
      "cell_type": "code",
      "source": [
        "#TENSOR\n",
        "tensor = torch.tensor([[[1,2,3],\n",
        "                       [4,5,6],\n",
        "                       [6,7,8]]])\n",
        "tensor"
      ],
      "metadata": {
        "id": "hUZRPM9Q1g2z",
        "colab": {
          "base_uri": "https://localhost:8080/"
        },
        "outputId": "fdf47098-c11e-4187-fa77-09224f37d6ad"
      },
      "execution_count": 12,
      "outputs": [
        {
          "output_type": "execute_result",
          "data": {
            "text/plain": [
              "tensor([[[1, 2, 3],\n",
              "         [4, 5, 6],\n",
              "         [6, 7, 8]]])"
            ]
          },
          "metadata": {},
          "execution_count": 12
        }
      ]
    },
    {
      "cell_type": "code",
      "source": [
        "tensor.ndim"
      ],
      "metadata": {
        "colab": {
          "base_uri": "https://localhost:8080/"
        },
        "id": "kPfsrc138AVs",
        "outputId": "9aac38f9-c6f6-4583-9b43-4c2143eed53f"
      },
      "execution_count": 13,
      "outputs": [
        {
          "output_type": "execute_result",
          "data": {
            "text/plain": [
              "3"
            ]
          },
          "metadata": {},
          "execution_count": 13
        }
      ]
    },
    {
      "cell_type": "code",
      "source": [
        "tensor.shape"
      ],
      "metadata": {
        "colab": {
          "base_uri": "https://localhost:8080/"
        },
        "id": "aXbyjf_J8ESg",
        "outputId": "8bcb957a-a094-4ac6-9fa1-d50a9318b5d6"
      },
      "execution_count": 14,
      "outputs": [
        {
          "output_type": "execute_result",
          "data": {
            "text/plain": [
              "torch.Size([1, 3, 3])"
            ]
          },
          "metadata": {},
          "execution_count": 14
        }
      ]
    },
    {
      "cell_type": "code",
      "source": [
        "tensor[0]"
      ],
      "metadata": {
        "colab": {
          "base_uri": "https://localhost:8080/"
        },
        "id": "XTyG0A0v8IvW",
        "outputId": "e54acdb9-b831-47ba-d156-e88bbcf8f918"
      },
      "execution_count": 15,
      "outputs": [
        {
          "output_type": "execute_result",
          "data": {
            "text/plain": [
              "tensor([[1, 2, 3],\n",
              "        [4, 5, 6],\n",
              "        [6, 7, 8]])"
            ]
          },
          "metadata": {},
          "execution_count": 15
        }
      ]
    },
    {
      "cell_type": "markdown",
      "source": [
        "#Random Tensors"
      ],
      "metadata": {
        "id": "fTKef0588flz"
      }
    },
    {
      "cell_type": "code",
      "source": [
        "#Random Tensors\n",
        "rTensor = torch.rand(1,10,10)\n",
        "rTensor\n"
      ],
      "metadata": {
        "colab": {
          "base_uri": "https://localhost:8080/"
        },
        "id": "CO3-XFB49N-O",
        "outputId": "a10c9265-e7e5-4927-d0b3-7d500def9bc5"
      },
      "execution_count": 16,
      "outputs": [
        {
          "output_type": "execute_result",
          "data": {
            "text/plain": [
              "tensor([[[0.9879, 0.9470, 0.3249, 0.4030, 0.0016, 0.5083, 0.9344, 0.4319,\n",
              "          0.1880, 0.3301],\n",
              "         [0.5299, 0.7281, 0.1185, 0.4097, 0.0805, 0.1745, 0.2328, 0.6143,\n",
              "          0.1827, 0.2176],\n",
              "         [0.9713, 0.2467, 0.0842, 0.5050, 0.9342, 0.9512, 0.7924, 0.3260,\n",
              "          0.0988, 0.7423],\n",
              "         [0.2372, 0.3186, 0.7353, 0.3265, 0.5159, 0.7981, 0.4719, 0.3135,\n",
              "          0.1170, 0.2589],\n",
              "         [0.1364, 0.7467, 0.7271, 0.5903, 0.4702, 0.6587, 0.3850, 0.8676,\n",
              "          0.6687, 0.1404],\n",
              "         [0.5955, 0.3566, 0.1225, 0.7048, 0.0888, 0.2010, 0.4259, 0.1296,\n",
              "          0.4349, 0.8234],\n",
              "         [0.9403, 0.4949, 0.7077, 0.5551, 0.2419, 0.1473, 0.8847, 0.7671,\n",
              "          0.1670, 0.9333],\n",
              "         [0.0533, 0.3060, 0.8758, 0.6656, 0.5144, 0.1738, 0.4279, 0.0111,\n",
              "          0.6458, 0.9566],\n",
              "         [0.2255, 0.6620, 0.3865, 0.9471, 0.9832, 0.5382, 0.2946, 0.7371,\n",
              "          0.4579, 0.0998],\n",
              "         [0.6202, 0.9770, 0.4763, 0.6105, 0.4060, 0.0372, 0.9935, 0.1091,\n",
              "          0.5482, 0.6539]]])"
            ]
          },
          "metadata": {},
          "execution_count": 16
        }
      ]
    },
    {
      "cell_type": "code",
      "source": [
        "rTensor.ndim\n",
        "\n"
      ],
      "metadata": {
        "colab": {
          "base_uri": "https://localhost:8080/"
        },
        "id": "99lh5xlH--ne",
        "outputId": "b43f041b-283e-49d6-cd8c-8b2ab6fb17dc"
      },
      "execution_count": 17,
      "outputs": [
        {
          "output_type": "execute_result",
          "data": {
            "text/plain": [
              "3"
            ]
          },
          "metadata": {},
          "execution_count": 17
        }
      ]
    },
    {
      "cell_type": "code",
      "source": [
        "#Create a tenson with similar size to an image\n",
        "rImageSizeTensor = torch.rand(size=(224,224,3))\n",
        "rImageSizeTensor.shape, rImageSizeTensor.ndim\n"
      ],
      "metadata": {
        "colab": {
          "base_uri": "https://localhost:8080/"
        },
        "id": "moqRU9ci_I1f",
        "outputId": "2008ae5c-7375-4f56-e8da-edb2650fc5eb"
      },
      "execution_count": 18,
      "outputs": [
        {
          "output_type": "execute_result",
          "data": {
            "text/plain": [
              "(torch.Size([224, 224, 3]), 3)"
            ]
          },
          "metadata": {},
          "execution_count": 18
        }
      ]
    },
    {
      "cell_type": "markdown",
      "source": [
        "###Zeros and Ones\n"
      ],
      "metadata": {
        "id": "hjRknMiaGwc6"
      }
    },
    {
      "cell_type": "code",
      "source": [
        "#Zeros\n",
        "zeros = torch.zeros(3,3)\n",
        "zeros"
      ],
      "metadata": {
        "colab": {
          "base_uri": "https://localhost:8080/"
        },
        "id": "Jkt5gG3oHuA0",
        "outputId": "f09d38f0-8d17-41fa-d162-edd366895645"
      },
      "execution_count": 19,
      "outputs": [
        {
          "output_type": "execute_result",
          "data": {
            "text/plain": [
              "tensor([[0., 0., 0.],\n",
              "        [0., 0., 0.],\n",
              "        [0., 0., 0.]])"
            ]
          },
          "metadata": {},
          "execution_count": 19
        }
      ]
    },
    {
      "cell_type": "code",
      "source": [
        "#Ones\n",
        "Ones = torch.ones(size=(4,3))\n",
        "Ones"
      ],
      "metadata": {
        "colab": {
          "base_uri": "https://localhost:8080/"
        },
        "id": "zWTS-uaLIOyh",
        "outputId": "309b6b85-b3fe-4f6f-8fec-b949a93cb531"
      },
      "execution_count": 20,
      "outputs": [
        {
          "output_type": "execute_result",
          "data": {
            "text/plain": [
              "tensor([[1., 1., 1.],\n",
              "        [1., 1., 1.],\n",
              "        [1., 1., 1.],\n",
              "        [1., 1., 1.]])"
            ]
          },
          "metadata": {},
          "execution_count": 20
        }
      ]
    },
    {
      "cell_type": "code",
      "source": [
        "Ones.dtype"
      ],
      "metadata": {
        "colab": {
          "base_uri": "https://localhost:8080/"
        },
        "id": "FuOQY8-sIUsr",
        "outputId": "9c27306f-8100-448c-bc3e-723f685f17dc"
      },
      "execution_count": 21,
      "outputs": [
        {
          "output_type": "execute_result",
          "data": {
            "text/plain": [
              "torch.float32"
            ]
          },
          "metadata": {},
          "execution_count": 21
        }
      ]
    },
    {
      "cell_type": "code",
      "source": [
        "zeros.dtype"
      ],
      "metadata": {
        "colab": {
          "base_uri": "https://localhost:8080/"
        },
        "id": "G0_jVxCcIZxm",
        "outputId": "020e0e18-a289-43db-9b60-123b0ade57f8"
      },
      "execution_count": 22,
      "outputs": [
        {
          "output_type": "execute_result",
          "data": {
            "text/plain": [
              "torch.float32"
            ]
          },
          "metadata": {},
          "execution_count": 22
        }
      ]
    },
    {
      "cell_type": "markdown",
      "source": [
        "###Creatig the Range of Tensors and tensor-like"
      ],
      "metadata": {
        "id": "AsOHNm7oIfsz"
      }
    },
    {
      "cell_type": "code",
      "source": [
        "#Using Tourch arange\n",
        "range= torch.arange(2,10)\n",
        "range"
      ],
      "metadata": {
        "colab": {
          "base_uri": "https://localhost:8080/"
        },
        "id": "oFIUfeGmI0_M",
        "outputId": "d830943d-eb5f-449b-851e-c8acabc39753"
      },
      "execution_count": 23,
      "outputs": [
        {
          "output_type": "execute_result",
          "data": {
            "text/plain": [
              "tensor([2, 3, 4, 5, 6, 7, 8, 9])"
            ]
          },
          "metadata": {},
          "execution_count": 23
        }
      ]
    },
    {
      "cell_type": "code",
      "source": [
        "#using the arange\n",
        "one_to_ten = torch.arange(start= 1, end=11, step=1)\n",
        "one_to_ten\n"
      ],
      "metadata": {
        "colab": {
          "base_uri": "https://localhost:8080/"
        },
        "id": "JUUzlWW2JK_6",
        "outputId": "960b7d8a-1e60-424d-fe8b-ccbefc018179"
      },
      "execution_count": 24,
      "outputs": [
        {
          "output_type": "execute_result",
          "data": {
            "text/plain": [
              "tensor([ 1,  2,  3,  4,  5,  6,  7,  8,  9, 10])"
            ]
          },
          "metadata": {},
          "execution_count": 24
        }
      ]
    },
    {
      "cell_type": "code",
      "source": [
        "#tensor like methods\n",
        "ten_zeros= torch.zeros_like(input=one_to_ten)\n",
        "ten_zeros"
      ],
      "metadata": {
        "colab": {
          "base_uri": "https://localhost:8080/"
        },
        "id": "Tk9J24iyPeVY",
        "outputId": "e9fe4271-44f4-41f5-e8e0-d6b265709c34"
      },
      "execution_count": 25,
      "outputs": [
        {
          "output_type": "execute_result",
          "data": {
            "text/plain": [
              "tensor([0, 0, 0, 0, 0, 0, 0, 0, 0, 0])"
            ]
          },
          "metadata": {},
          "execution_count": 25
        }
      ]
    },
    {
      "cell_type": "code",
      "source": [
        "ten_ones= torch.ones_like(input=one_to_ten)\n",
        "ten_ones"
      ],
      "metadata": {
        "colab": {
          "base_uri": "https://localhost:8080/"
        },
        "id": "Kjb10MgQQBm5",
        "outputId": "5026ceb4-47cc-4533-dbda-336bfe34ab79"
      },
      "execution_count": 26,
      "outputs": [
        {
          "output_type": "execute_result",
          "data": {
            "text/plain": [
              "tensor([1, 1, 1, 1, 1, 1, 1, 1, 1, 1])"
            ]
          },
          "metadata": {},
          "execution_count": 26
        }
      ]
    },
    {
      "cell_type": "markdown",
      "source": [
        "###Tensor Datatypes"
      ],
      "metadata": {
        "id": "YOkW2FixQtXx"
      }
    },
    {
      "cell_type": "code",
      "source": [
        "from IPython.core import display_trap\n",
        "# Float 32 tensor\n",
        "float_32_tensor = torch.tensor([4.3,2.0,4.0],\n",
        "                               dtype=None,\n",
        "                               device=\"cuda\",\n",
        "                               requires_grad=False\n",
        "\n",
        "                               )\n",
        "float_32_tensor"
      ],
      "metadata": {
        "colab": {
          "base_uri": "https://localhost:8080/"
        },
        "id": "duMGDDgnRDjq",
        "outputId": "5e2f23cf-f56e-4d58-dcf4-f8db0c52520b"
      },
      "execution_count": 27,
      "outputs": [
        {
          "output_type": "execute_result",
          "data": {
            "text/plain": [
              "tensor([4.3000, 2.0000, 4.0000], device='cuda:0')"
            ]
          },
          "metadata": {},
          "execution_count": 27
        }
      ]
    },
    {
      "cell_type": "code",
      "source": [
        "float_32_tensor.dtype\n"
      ],
      "metadata": {
        "colab": {
          "base_uri": "https://localhost:8080/"
        },
        "id": "_w4EXIYxToWp",
        "outputId": "a673997d-e132-4579-cddc-6d3359d595e6"
      },
      "execution_count": 28,
      "outputs": [
        {
          "output_type": "execute_result",
          "data": {
            "text/plain": [
              "torch.float32"
            ]
          },
          "metadata": {},
          "execution_count": 28
        }
      ]
    },
    {
      "cell_type": "code",
      "source": [
        "#float 16\n",
        "float_16 = float_32_tensor.type(torch.float16)\n",
        "float_16.dtype"
      ],
      "metadata": {
        "colab": {
          "base_uri": "https://localhost:8080/"
        },
        "id": "EdiMlUnrUuPG",
        "outputId": "4f12d061-3e6b-4682-909b-28e45c5a4d93"
      },
      "execution_count": 29,
      "outputs": [
        {
          "output_type": "execute_result",
          "data": {
            "text/plain": [
              "torch.float16"
            ]
          },
          "metadata": {},
          "execution_count": 29
        }
      ]
    },
    {
      "cell_type": "code",
      "source": [
        "#creating tensor\n",
        "\n",
        "some_tensor= torch.rand(3,4)\n",
        "\n",
        "print(\" The tensor is some_tensor\")\n",
        "print(f\" The data type of tensor is: {some_tensor.dtype}\")\n",
        "print(f\" The shape of tensor is: {some_tensor.shape}\")\n",
        "print(f\" The device type of tensor is: {some_tensor.device}\")\n"
      ],
      "metadata": {
        "colab": {
          "base_uri": "https://localhost:8080/"
        },
        "id": "wkTL_eZVU-wM",
        "outputId": "3ce2d688-e396-4364-de44-a28a9f0b9e05"
      },
      "execution_count": 30,
      "outputs": [
        {
          "output_type": "stream",
          "name": "stdout",
          "text": [
            " The tensor is some_tensor\n",
            " The data type of tensor is: torch.float32\n",
            " The shape of tensor is: torch.Size([3, 4])\n",
            " The device type of tensor is: cpu\n"
          ]
        }
      ]
    },
    {
      "cell_type": "markdown",
      "source": [
        "### Manupulating the Tensor operations\n",
        "* Addition\n",
        "* Subtraction\n",
        "* Multiplication\n",
        "* Division"
      ],
      "metadata": {
        "id": "oua-mKtgcxeI"
      }
    },
    {
      "cell_type": "code",
      "source": [
        "#Creating the tensor\n",
        "data = torch.tensor([1,2,3])\n"
      ],
      "metadata": {
        "id": "-ui2BJjgBocR"
      },
      "execution_count": 31,
      "outputs": []
    },
    {
      "cell_type": "code",
      "source": [
        "torch.add(data,10)\n"
      ],
      "metadata": {
        "colab": {
          "base_uri": "https://localhost:8080/"
        },
        "id": "tztOwTA4B9Ey",
        "outputId": "72bbbe85-2b16-43e8-e7b0-94e8295d46c8"
      },
      "execution_count": 32,
      "outputs": [
        {
          "output_type": "execute_result",
          "data": {
            "text/plain": [
              "tensor([11, 12, 13])"
            ]
          },
          "metadata": {},
          "execution_count": 32
        }
      ]
    },
    {
      "cell_type": "code",
      "source": [
        "# Multiply\n",
        "data *4"
      ],
      "metadata": {
        "colab": {
          "base_uri": "https://localhost:8080/"
        },
        "id": "yktk_reuCc7C",
        "outputId": "262d91b2-38e7-43ee-c670-fb8aa6079d2f"
      },
      "execution_count": 33,
      "outputs": [
        {
          "output_type": "execute_result",
          "data": {
            "text/plain": [
              "tensor([ 4,  8, 12])"
            ]
          },
          "metadata": {},
          "execution_count": 33
        }
      ]
    },
    {
      "cell_type": "code",
      "source": [
        "torch.mul(data,10)"
      ],
      "metadata": {
        "colab": {
          "base_uri": "https://localhost:8080/"
        },
        "id": "iNFA-yHzCtzj",
        "outputId": "2e325ddf-4d7a-4219-9d04-b8f41f7474da"
      },
      "execution_count": 34,
      "outputs": [
        {
          "output_type": "execute_result",
          "data": {
            "text/plain": [
              "tensor([10, 20, 30])"
            ]
          },
          "metadata": {},
          "execution_count": 34
        }
      ]
    },
    {
      "cell_type": "code",
      "source": [
        "#Subtract\n",
        "data-10"
      ],
      "metadata": {
        "colab": {
          "base_uri": "https://localhost:8080/"
        },
        "id": "ZVt1Pn1KCx1E",
        "outputId": "9df70aaf-b802-4963-bb85-7f5f57d7667c"
      },
      "execution_count": 35,
      "outputs": [
        {
          "output_type": "execute_result",
          "data": {
            "text/plain": [
              "tensor([-9, -8, -7])"
            ]
          },
          "metadata": {},
          "execution_count": 35
        }
      ]
    },
    {
      "cell_type": "code",
      "source": [
        "torch.sub(data, 10)"
      ],
      "metadata": {
        "colab": {
          "base_uri": "https://localhost:8080/"
        },
        "id": "z9Qo4HDeC3lD",
        "outputId": "3380132c-67d5-42ba-f32c-90cb42347acd"
      },
      "execution_count": 36,
      "outputs": [
        {
          "output_type": "execute_result",
          "data": {
            "text/plain": [
              "tensor([-9, -8, -7])"
            ]
          },
          "metadata": {},
          "execution_count": 36
        }
      ]
    },
    {
      "cell_type": "markdown",
      "source": [
        "### Matrix Multiplication\n",
        "* Element by element\n",
        "* Matrix multiply (dot product)"
      ],
      "metadata": {
        "id": "3wz9MWhaC88T"
      }
    },
    {
      "cell_type": "code",
      "source": [
        "# Multiplying each element\n",
        "print(f\" Equals: {data * data}\")"
      ],
      "metadata": {
        "colab": {
          "base_uri": "https://localhost:8080/"
        },
        "id": "h2YyO2ccH-8J",
        "outputId": "96eba8ba-2693-4ffd-bd26-62fdc8de94df"
      },
      "execution_count": 37,
      "outputs": [
        {
          "output_type": "stream",
          "name": "stdout",
          "text": [
            " Equals: tensor([1, 4, 9])\n"
          ]
        }
      ]
    },
    {
      "cell_type": "code",
      "source": [
        "#Multiplying matrix element\n",
        "\n",
        "matrix = torch.matmul(data,data)\n",
        "matrix"
      ],
      "metadata": {
        "colab": {
          "base_uri": "https://localhost:8080/"
        },
        "id": "ofUZtH73ICrV",
        "outputId": "d43c26e8-73f9-4ed0-b62d-12b069c5c053"
      },
      "execution_count": 38,
      "outputs": [
        {
          "output_type": "execute_result",
          "data": {
            "text/plain": [
              "tensor(14)"
            ]
          },
          "metadata": {},
          "execution_count": 38
        }
      ]
    },
    {
      "cell_type": "code",
      "source": [
        "#matrix multiplication by hand\n",
        "1*1 +2*2 + 3*3"
      ],
      "metadata": {
        "colab": {
          "base_uri": "https://localhost:8080/"
        },
        "id": "azLlZCcLJVV_",
        "outputId": "9f8706f2-d06f-486e-9e32-7e3c194b0f32"
      },
      "execution_count": 39,
      "outputs": [
        {
          "output_type": "execute_result",
          "data": {
            "text/plain": [
              "14"
            ]
          },
          "metadata": {},
          "execution_count": 39
        }
      ]
    },
    {
      "cell_type": "code",
      "source": [
        "# %%time\n",
        "# value =0\n",
        "# for i in range(len(data)):\n",
        "#   value+= data[i] * data[i]\n",
        "# print(value)"
      ],
      "metadata": {
        "id": "J6RNTUEALpi4"
      },
      "execution_count": 40,
      "outputs": []
    },
    {
      "cell_type": "code",
      "source": [
        "%%time\n",
        "torch.matmul(data,data)"
      ],
      "metadata": {
        "colab": {
          "base_uri": "https://localhost:8080/"
        },
        "id": "W80W6xUnNW9a",
        "outputId": "ae553854-ed94-422c-dea6-ed838f470d17"
      },
      "execution_count": 41,
      "outputs": [
        {
          "output_type": "stream",
          "name": "stdout",
          "text": [
            "CPU times: user 70 µs, sys: 15 µs, total: 85 µs\n",
            "Wall time: 89.4 µs\n"
          ]
        },
        {
          "output_type": "execute_result",
          "data": {
            "text/plain": [
              "tensor(14)"
            ]
          },
          "metadata": {},
          "execution_count": 41
        }
      ]
    },
    {
      "cell_type": "code",
      "source": [
        "#Matrix Multiplications\n",
        "\n",
        "torch.matmul( torch.rand([10,10]),torch.rand([10,2]))\n",
        "\n"
      ],
      "metadata": {
        "colab": {
          "base_uri": "https://localhost:8080/"
        },
        "id": "yMoeOQ-qNkrZ",
        "outputId": "a79b6337-a88f-4dbf-ee11-9ec288f903fa"
      },
      "execution_count": 42,
      "outputs": [
        {
          "output_type": "execute_result",
          "data": {
            "text/plain": [
              "tensor([[3.5377, 3.7410],\n",
              "        [2.9612, 3.1917],\n",
              "        [2.7197, 2.9398],\n",
              "        [1.8449, 2.1567],\n",
              "        [2.6826, 3.8327],\n",
              "        [2.7490, 3.5898],\n",
              "        [2.2525, 2.7303],\n",
              "        [2.3193, 2.6857],\n",
              "        [2.5191, 2.6803],\n",
              "        [2.4919, 3.2353]])"
            ]
          },
          "metadata": {},
          "execution_count": 42
        }
      ]
    },
    {
      "cell_type": "markdown",
      "source": [
        "### Matrix multiplication manually"
      ],
      "metadata": {
        "id": "8QNZQLgmbe_M"
      }
    },
    {
      "cell_type": "code",
      "source": [
        "tensor_A = torch.tensor([[2,3],\n",
        "                         [3,4],\n",
        "                         [5,8]])\n",
        "tensor_B = torch.tensor([[1,9],\n",
        "                         [8,4],\n",
        "                         [5,2]])\n",
        "tensor_A.shape"
      ],
      "metadata": {
        "colab": {
          "base_uri": "https://localhost:8080/"
        },
        "id": "IlTmyzULgwsU",
        "outputId": "3c094b21-d679-460c-8407-b6118be50de6"
      },
      "execution_count": 43,
      "outputs": [
        {
          "output_type": "execute_result",
          "data": {
            "text/plain": [
              "torch.Size([3, 2])"
            ]
          },
          "metadata": {},
          "execution_count": 43
        }
      ]
    },
    {
      "cell_type": "code",
      "source": [
        "tensor_B.shape\n"
      ],
      "metadata": {
        "colab": {
          "base_uri": "https://localhost:8080/"
        },
        "id": "Mj29Wae0hHMf",
        "outputId": "be386553-5ba1-4ec5-82b4-6156958e560b"
      },
      "execution_count": 44,
      "outputs": [
        {
          "output_type": "execute_result",
          "data": {
            "text/plain": [
              "torch.Size([3, 2])"
            ]
          },
          "metadata": {},
          "execution_count": 44
        }
      ]
    },
    {
      "cell_type": "markdown",
      "source": [
        "To fix the shape issue we can use the  **Transpose**"
      ],
      "metadata": {
        "id": "HPts_cI0hLfs"
      }
    },
    {
      "cell_type": "code",
      "source": [
        "tensor_B\n"
      ],
      "metadata": {
        "colab": {
          "base_uri": "https://localhost:8080/"
        },
        "id": "i036iQuthSru",
        "outputId": "2da03b61-f463-48e4-db1c-a78841f7bb7a"
      },
      "execution_count": 45,
      "outputs": [
        {
          "output_type": "execute_result",
          "data": {
            "text/plain": [
              "tensor([[1, 9],\n",
              "        [8, 4],\n",
              "        [5, 2]])"
            ]
          },
          "metadata": {},
          "execution_count": 45
        }
      ]
    },
    {
      "cell_type": "code",
      "source": [
        "tensor_B.T # T is used to change the dimention of the the matrix"
      ],
      "metadata": {
        "colab": {
          "base_uri": "https://localhost:8080/"
        },
        "id": "rFvU8mv5h6DP",
        "outputId": "d46de50b-b755-4f13-a0e6-83ad806bd7dd"
      },
      "execution_count": 46,
      "outputs": [
        {
          "output_type": "execute_result",
          "data": {
            "text/plain": [
              "tensor([[1, 8, 5],\n",
              "        [9, 4, 2]])"
            ]
          },
          "metadata": {},
          "execution_count": 46
        }
      ]
    },
    {
      "cell_type": "code",
      "source": [
        "tensor_B.T.shape\n"
      ],
      "metadata": {
        "colab": {
          "base_uri": "https://localhost:8080/"
        },
        "id": "a654pkgHh8Hl",
        "outputId": "868c2c36-478f-47b6-9258-aec61734ca76"
      },
      "execution_count": 47,
      "outputs": [
        {
          "output_type": "execute_result",
          "data": {
            "text/plain": [
              "torch.Size([2, 3])"
            ]
          },
          "metadata": {},
          "execution_count": 47
        }
      ]
    },
    {
      "cell_type": "code",
      "source": [
        "torch.mm(tensor_A,tensor_B.T)"
      ],
      "metadata": {
        "colab": {
          "base_uri": "https://localhost:8080/"
        },
        "id": "heA6DBLeiE3a",
        "outputId": "5f27f181-9061-485f-8f6e-787de7a0f434"
      },
      "execution_count": 48,
      "outputs": [
        {
          "output_type": "execute_result",
          "data": {
            "text/plain": [
              "tensor([[29, 28, 16],\n",
              "        [39, 40, 23],\n",
              "        [77, 72, 41]])"
            ]
          },
          "metadata": {},
          "execution_count": 48
        }
      ]
    },
    {
      "cell_type": "markdown",
      "source": [
        "### Finding the min, max, mean sum (Tensor Aggrigation)"
      ],
      "metadata": {
        "id": "UN4uFE82iQGe"
      }
    },
    {
      "cell_type": "code",
      "source": [
        "x= torch.arange(0,100,10)\n",
        "x"
      ],
      "metadata": {
        "colab": {
          "base_uri": "https://localhost:8080/"
        },
        "id": "lj-Uw2HO__NI",
        "outputId": "1930d36a-8cd9-490a-ce86-0aeb1d7712d2"
      },
      "execution_count": 49,
      "outputs": [
        {
          "output_type": "execute_result",
          "data": {
            "text/plain": [
              "tensor([ 0, 10, 20, 30, 40, 50, 60, 70, 80, 90])"
            ]
          },
          "metadata": {},
          "execution_count": 49
        }
      ]
    },
    {
      "cell_type": "code",
      "source": [
        "x.dtype"
      ],
      "metadata": {
        "colab": {
          "base_uri": "https://localhost:8080/"
        },
        "id": "UHOgwaQOAMmT",
        "outputId": "7c54842b-aad1-446c-be69-955cd6601786"
      },
      "execution_count": 50,
      "outputs": [
        {
          "output_type": "execute_result",
          "data": {
            "text/plain": [
              "torch.int64"
            ]
          },
          "metadata": {},
          "execution_count": 50
        }
      ]
    },
    {
      "cell_type": "code",
      "source": [
        "x.min()"
      ],
      "metadata": {
        "colab": {
          "base_uri": "https://localhost:8080/"
        },
        "id": "jFZC-yj6Anrt",
        "outputId": "bdad7cbd-ba95-4a1b-bcaf-e5727c514748"
      },
      "execution_count": 51,
      "outputs": [
        {
          "output_type": "execute_result",
          "data": {
            "text/plain": [
              "tensor(0)"
            ]
          },
          "metadata": {},
          "execution_count": 51
        }
      ]
    },
    {
      "cell_type": "code",
      "source": [
        "torch.min(x)"
      ],
      "metadata": {
        "colab": {
          "base_uri": "https://localhost:8080/"
        },
        "id": "fMCb6jMJAp3q",
        "outputId": "f658770b-ebda-4323-de6a-58a577b25dd9"
      },
      "execution_count": 52,
      "outputs": [
        {
          "output_type": "execute_result",
          "data": {
            "text/plain": [
              "tensor(0)"
            ]
          },
          "metadata": {},
          "execution_count": 52
        }
      ]
    },
    {
      "cell_type": "code",
      "source": [
        "x.max()"
      ],
      "metadata": {
        "colab": {
          "base_uri": "https://localhost:8080/"
        },
        "id": "lRiGFE4jAr4m",
        "outputId": "c94873e9-6e95-49cd-8145-fff4d1964bf4"
      },
      "execution_count": 53,
      "outputs": [
        {
          "output_type": "execute_result",
          "data": {
            "text/plain": [
              "tensor(90)"
            ]
          },
          "metadata": {},
          "execution_count": 53
        }
      ]
    },
    {
      "cell_type": "code",
      "source": [
        "torch.max(x)"
      ],
      "metadata": {
        "colab": {
          "base_uri": "https://localhost:8080/"
        },
        "id": "Otk7Xc4BBaWw",
        "outputId": "7eb48411-82ed-43f5-80f2-f1c91f71804d"
      },
      "execution_count": 54,
      "outputs": [
        {
          "output_type": "execute_result",
          "data": {
            "text/plain": [
              "tensor(90)"
            ]
          },
          "metadata": {},
          "execution_count": 54
        }
      ]
    },
    {
      "cell_type": "code",
      "source": [
        "torch.mean(x.type(torch.float32))"
      ],
      "metadata": {
        "colab": {
          "base_uri": "https://localhost:8080/"
        },
        "id": "vjNXwZWhBceV",
        "outputId": "fbbd547b-a268-41cf-cec4-3f6b95afb45a"
      },
      "execution_count": 55,
      "outputs": [
        {
          "output_type": "execute_result",
          "data": {
            "text/plain": [
              "tensor(45.)"
            ]
          },
          "metadata": {},
          "execution_count": 55
        }
      ]
    },
    {
      "cell_type": "code",
      "source": [
        "x.type(torch.float32).mean()"
      ],
      "metadata": {
        "colab": {
          "base_uri": "https://localhost:8080/"
        },
        "id": "erVBgH9VB8Pg",
        "outputId": "c92b25fd-76bf-49bf-9c04-e5d8119525ff"
      },
      "execution_count": 56,
      "outputs": [
        {
          "output_type": "execute_result",
          "data": {
            "text/plain": [
              "tensor(45.)"
            ]
          },
          "metadata": {},
          "execution_count": 56
        }
      ]
    },
    {
      "cell_type": "code",
      "source": [
        "x.sum()"
      ],
      "metadata": {
        "id": "NgWJdGnxCNXL",
        "colab": {
          "base_uri": "https://localhost:8080/"
        },
        "outputId": "1bd9e107-90eb-426d-acaa-1e186903c11b"
      },
      "execution_count": 57,
      "outputs": [
        {
          "output_type": "execute_result",
          "data": {
            "text/plain": [
              "tensor(450)"
            ]
          },
          "metadata": {},
          "execution_count": 57
        }
      ]
    },
    {
      "cell_type": "code",
      "source": [
        "torch.sum(x)"
      ],
      "metadata": {
        "id": "ZRboeE9cFwix",
        "colab": {
          "base_uri": "https://localhost:8080/"
        },
        "outputId": "d15c892b-2d9d-4fda-d966-a1ad219593e7"
      },
      "execution_count": 58,
      "outputs": [
        {
          "output_type": "execute_result",
          "data": {
            "text/plain": [
              "tensor(450)"
            ]
          },
          "metadata": {},
          "execution_count": 58
        }
      ]
    },
    {
      "cell_type": "code",
      "source": [
        "x.argmin()"
      ],
      "metadata": {
        "id": "wDLUkQR5GJjJ",
        "colab": {
          "base_uri": "https://localhost:8080/"
        },
        "outputId": "ee83a3a5-eb46-4ab9-d5c8-eea89d18bbf6"
      },
      "execution_count": 59,
      "outputs": [
        {
          "output_type": "execute_result",
          "data": {
            "text/plain": [
              "tensor(0)"
            ]
          },
          "metadata": {},
          "execution_count": 59
        }
      ]
    },
    {
      "cell_type": "code",
      "source": [
        "x.argmax() # Finding the position of Min and Max"
      ],
      "metadata": {
        "colab": {
          "base_uri": "https://localhost:8080/"
        },
        "id": "PJqUiyrI_zXx",
        "outputId": "9218734f-f0fe-4434-e14c-b5178a722c29"
      },
      "execution_count": 60,
      "outputs": [
        {
          "output_type": "execute_result",
          "data": {
            "text/plain": [
              "tensor(9)"
            ]
          },
          "metadata": {},
          "execution_count": 60
        }
      ]
    },
    {
      "cell_type": "markdown",
      "source": [
        "## Reshaping, Stacking, Squeezing, Unsqueezing\n",
        "* Reshaping: Reshaping the input tensor to a defined shape\n",
        "* View return the view of the input tensor\n",
        "* Stacking Arranging the object to the top of each other\n",
        "* Squeezing : remove all the 1 dimentional from the tensor\n",
        "* Unsqueezing: Adding the one dimentional to the tensor\n",
        "* Permute: Return the dimension of the view with the permuted sequence"
      ],
      "metadata": {
        "id": "RvWFIREY_6SE"
      }
    },
    {
      "cell_type": "code",
      "source": [
        "# Lets create the tensor\n",
        "import torch\n",
        "x = torch.arange(1., 10.)\n",
        "x"
      ],
      "metadata": {
        "colab": {
          "base_uri": "https://localhost:8080/"
        },
        "id": "sUv6N6u0NOtG",
        "outputId": "3df77b9f-9e16-48e3-acfe-002850f7a3c7"
      },
      "execution_count": 61,
      "outputs": [
        {
          "output_type": "execute_result",
          "data": {
            "text/plain": [
              "tensor([1., 2., 3., 4., 5., 6., 7., 8., 9.])"
            ]
          },
          "metadata": {},
          "execution_count": 61
        }
      ]
    },
    {
      "cell_type": "code",
      "source": [
        "x.shape"
      ],
      "metadata": {
        "colab": {
          "base_uri": "https://localhost:8080/"
        },
        "id": "RwjV4XN4NmdC",
        "outputId": "56bfaa2f-d843-42d2-a11f-f2396b6b3c49"
      },
      "execution_count": 62,
      "outputs": [
        {
          "output_type": "execute_result",
          "data": {
            "text/plain": [
              "torch.Size([9])"
            ]
          },
          "metadata": {},
          "execution_count": 62
        }
      ]
    },
    {
      "cell_type": "code",
      "source": [
        "# to add an extra dimension\n",
        "x_reshaped = x.reshape(9,1)\n",
        "x_reshaped"
      ],
      "metadata": {
        "colab": {
          "base_uri": "https://localhost:8080/"
        },
        "id": "XfFwwNwJN4_y",
        "outputId": "344fb87a-6599-4ea9-e02b-8d23fddf7d84"
      },
      "execution_count": 63,
      "outputs": [
        {
          "output_type": "execute_result",
          "data": {
            "text/plain": [
              "tensor([[1.],\n",
              "        [2.],\n",
              "        [3.],\n",
              "        [4.],\n",
              "        [5.],\n",
              "        [6.],\n",
              "        [7.],\n",
              "        [8.],\n",
              "        [9.]])"
            ]
          },
          "metadata": {},
          "execution_count": 63
        }
      ]
    },
    {
      "cell_type": "code",
      "source": [
        "x_reshaped = x.reshape(1,9)\n",
        "x_reshaped"
      ],
      "metadata": {
        "colab": {
          "base_uri": "https://localhost:8080/"
        },
        "id": "bbbz9_H5OCLF",
        "outputId": "20ffec6a-e44a-4618-a5ef-a05cd4f4a175"
      },
      "execution_count": 64,
      "outputs": [
        {
          "output_type": "execute_result",
          "data": {
            "text/plain": [
              "tensor([[1., 2., 3., 4., 5., 6., 7., 8., 9.]])"
            ]
          },
          "metadata": {},
          "execution_count": 64
        }
      ]
    },
    {
      "cell_type": "code",
      "source": [
        "# using the view\n",
        "# Changing the x changes the view because the view of the memory shares the same memory as the original tensor shares\n",
        "z= x.view([3,3])\n",
        "z,z.shape"
      ],
      "metadata": {
        "colab": {
          "base_uri": "https://localhost:8080/"
        },
        "id": "j9nW7arsPRwI",
        "outputId": "1a2e8fe1-cada-4a6b-99b1-dc60aa25ef56"
      },
      "execution_count": 65,
      "outputs": [
        {
          "output_type": "execute_result",
          "data": {
            "text/plain": [
              "(tensor([[1., 2., 3.],\n",
              "         [4., 5., 6.],\n",
              "         [7., 8., 9.]]),\n",
              " torch.Size([3, 3]))"
            ]
          },
          "metadata": {},
          "execution_count": 65
        }
      ]
    },
    {
      "cell_type": "code",
      "source": [
        "z[:,0]=5\n",
        "z,x"
      ],
      "metadata": {
        "colab": {
          "base_uri": "https://localhost:8080/"
        },
        "id": "pcNdpBNAP18V",
        "outputId": "12fd4341-b8f4-4bfc-b8ed-0849e8fab399"
      },
      "execution_count": 66,
      "outputs": [
        {
          "output_type": "execute_result",
          "data": {
            "text/plain": [
              "(tensor([[5., 2., 3.],\n",
              "         [5., 5., 6.],\n",
              "         [5., 8., 9.]]),\n",
              " tensor([5., 2., 3., 5., 5., 6., 5., 8., 9.]))"
            ]
          },
          "metadata": {},
          "execution_count": 66
        }
      ]
    },
    {
      "cell_type": "code",
      "source": [
        "#Stack tensor on the top of each other\n",
        "x_stacked= torch.stack([x,x,x,x],dim=1)\n",
        "x_stacked"
      ],
      "metadata": {
        "colab": {
          "base_uri": "https://localhost:8080/"
        },
        "id": "u7qgya1_Q6CW",
        "outputId": "bcf4e087-3a56-4563-93e8-5d2c16af3ff3"
      },
      "execution_count": 67,
      "outputs": [
        {
          "output_type": "execute_result",
          "data": {
            "text/plain": [
              "tensor([[5., 5., 5., 5.],\n",
              "        [2., 2., 2., 2.],\n",
              "        [3., 3., 3., 3.],\n",
              "        [5., 5., 5., 5.],\n",
              "        [5., 5., 5., 5.],\n",
              "        [6., 6., 6., 6.],\n",
              "        [5., 5., 5., 5.],\n",
              "        [8., 8., 8., 8.],\n",
              "        [9., 9., 9., 9.]])"
            ]
          },
          "metadata": {},
          "execution_count": 67
        }
      ]
    },
    {
      "cell_type": "markdown",
      "source": [
        "##Reshaping the array index"
      ],
      "metadata": {
        "id": "TlPggJ0wRh27"
      }
    },
    {
      "cell_type": "code",
      "source": [
        "import torch\n",
        "x= torch.arange(1,10)\n",
        "x,x.shape"
      ],
      "metadata": {
        "colab": {
          "base_uri": "https://localhost:8080/"
        },
        "id": "jp34lxp3Y1ie",
        "outputId": "83b9bb02-e29d-49a1-c867-4ac3183417cf"
      },
      "execution_count": 68,
      "outputs": [
        {
          "output_type": "execute_result",
          "data": {
            "text/plain": [
              "(tensor([1, 2, 3, 4, 5, 6, 7, 8, 9]), torch.Size([9]))"
            ]
          },
          "metadata": {},
          "execution_count": 68
        }
      ]
    },
    {
      "cell_type": "code",
      "source": [
        "x_reshape = x.reshape(1,9)\n",
        "x_reshape"
      ],
      "metadata": {
        "colab": {
          "base_uri": "https://localhost:8080/"
        },
        "id": "eXwdhdVzY7_A",
        "outputId": "3b7dc970-c4aa-467e-ca53-9312f96abba9"
      },
      "execution_count": 69,
      "outputs": [
        {
          "output_type": "execute_result",
          "data": {
            "text/plain": [
              "tensor([[1, 2, 3, 4, 5, 6, 7, 8, 9]])"
            ]
          },
          "metadata": {},
          "execution_count": 69
        }
      ]
    },
    {
      "cell_type": "code",
      "source": [
        "x_reshape.shape"
      ],
      "metadata": {
        "colab": {
          "base_uri": "https://localhost:8080/"
        },
        "id": "H2xDf1otZTv0",
        "outputId": "2cabfbc7-8b07-433d-80ae-7168cdd8d144"
      },
      "execution_count": 70,
      "outputs": [
        {
          "output_type": "execute_result",
          "data": {
            "text/plain": [
              "torch.Size([1, 9])"
            ]
          },
          "metadata": {},
          "execution_count": 70
        }
      ]
    },
    {
      "cell_type": "code",
      "source": [
        "y = torch.tensor([[2,3,4],\n",
        "                [4,3,6],\n",
        "                [9,2,4]])\n",
        "y.shape"
      ],
      "metadata": {
        "colab": {
          "base_uri": "https://localhost:8080/"
        },
        "id": "xwNCV-z7Zme_",
        "outputId": "5ae3320f-d92a-4a42-b18d-17cc897a8230"
      },
      "execution_count": 71,
      "outputs": [
        {
          "output_type": "execute_result",
          "data": {
            "text/plain": [
              "torch.Size([3, 3])"
            ]
          },
          "metadata": {},
          "execution_count": 71
        }
      ]
    },
    {
      "cell_type": "code",
      "source": [
        "x_reshaped"
      ],
      "metadata": {
        "colab": {
          "base_uri": "https://localhost:8080/"
        },
        "id": "FpgMIK1BcITf",
        "outputId": "c72556a1-a481-4abc-a534-c2ac1c57f0d7"
      },
      "execution_count": 72,
      "outputs": [
        {
          "output_type": "execute_result",
          "data": {
            "text/plain": [
              "tensor([[5., 2., 3., 5., 5., 6., 5., 8., 9.]])"
            ]
          },
          "metadata": {},
          "execution_count": 72
        }
      ]
    },
    {
      "cell_type": "code",
      "source": [
        "x_squeezed = x_reshaped.squeeze()"
      ],
      "metadata": {
        "id": "SZri9pX7cKDy"
      },
      "execution_count": 73,
      "outputs": []
    },
    {
      "cell_type": "code",
      "source": [
        "x_squeezed.shape\n"
      ],
      "metadata": {
        "colab": {
          "base_uri": "https://localhost:8080/"
        },
        "id": "dk20HEIuce3j",
        "outputId": "51f80cd0-dad6-46a6-8964-22cdbcdc41d8"
      },
      "execution_count": 74,
      "outputs": [
        {
          "output_type": "execute_result",
          "data": {
            "text/plain": [
              "torch.Size([9])"
            ]
          },
          "metadata": {},
          "execution_count": 74
        }
      ]
    },
    {
      "cell_type": "code",
      "source": [
        "print(f\" Original data of x was : {x_reshaped}\")\n",
        "print(f\" Original dimension of x was : {x_reshaped.shape}\")\n",
        "\n",
        "print(f\" After squeezing x becomes: {x_squeezed}\")\n",
        "print(f\" After squeezing x becomes: {x_squeezed.shape}\")\n",
        "x_unsqueezed = x_squeezed.unsqueeze(dim =0)\n",
        "\n",
        "print(f\" After Unsqueezing x becomes: {x_unsqueezed}\")\n",
        "print(f\" After Unsqueezing x becomes: {x_unsqueezed.shape}\")\n",
        "\n",
        "\n",
        "\n"
      ],
      "metadata": {
        "colab": {
          "base_uri": "https://localhost:8080/"
        },
        "id": "zYOuFRA6d7CB",
        "outputId": "ec15576e-9824-45d4-e553-c607fdafead1"
      },
      "execution_count": 75,
      "outputs": [
        {
          "output_type": "stream",
          "name": "stdout",
          "text": [
            " Original data of x was : tensor([[5., 2., 3., 5., 5., 6., 5., 8., 9.]])\n",
            " Original dimension of x was : torch.Size([1, 9])\n",
            " After squeezing x becomes: tensor([5., 2., 3., 5., 5., 6., 5., 8., 9.])\n",
            " After squeezing x becomes: torch.Size([9])\n",
            " After Unsqueezing x becomes: tensor([[5., 2., 3., 5., 5., 6., 5., 8., 9.]])\n",
            " After Unsqueezing x becomes: torch.Size([1, 9])\n"
          ]
        }
      ]
    },
    {
      "cell_type": "code",
      "source": [
        "x_original = torch.rand(size=[230,230,3]) #Height, Width and color manual\n",
        "x_original.shape"
      ],
      "metadata": {
        "colab": {
          "base_uri": "https://localhost:8080/"
        },
        "id": "O83FIscsgWKy",
        "outputId": "9b93c718-da47-4178-8599-cec7b134cfa3"
      },
      "execution_count": 76,
      "outputs": [
        {
          "output_type": "execute_result",
          "data": {
            "text/plain": [
              "torch.Size([230, 230, 3])"
            ]
          },
          "metadata": {},
          "execution_count": 76
        }
      ]
    },
    {
      "cell_type": "code",
      "source": [
        "x_permuted = x_original.permute(2,1,0)\n",
        "x_permuted.shape"
      ],
      "metadata": {
        "colab": {
          "base_uri": "https://localhost:8080/"
        },
        "id": "tHzqV78th-a2",
        "outputId": "770923b3-6636-4a6b-9a56-da40f7658260"
      },
      "execution_count": 77,
      "outputs": [
        {
          "output_type": "execute_result",
          "data": {
            "text/plain": [
              "torch.Size([3, 230, 230])"
            ]
          },
          "metadata": {},
          "execution_count": 77
        }
      ]
    },
    {
      "cell_type": "code",
      "source": [
        "x_original[0][0][0]"
      ],
      "metadata": {
        "colab": {
          "base_uri": "https://localhost:8080/"
        },
        "id": "F-z_scYrisPT",
        "outputId": "73745392-d1ff-4bfe-8193-509acf8f6951"
      },
      "execution_count": 78,
      "outputs": [
        {
          "output_type": "execute_result",
          "data": {
            "text/plain": [
              "tensor(0.0941)"
            ]
          },
          "metadata": {},
          "execution_count": 78
        }
      ]
    },
    {
      "cell_type": "code",
      "source": [
        "x_permuted[0][0][0]"
      ],
      "metadata": {
        "colab": {
          "base_uri": "https://localhost:8080/"
        },
        "id": "RgokXCI_kSLW",
        "outputId": "89618d68-4ac4-4b97-e506-11dbbf5ea744"
      },
      "execution_count": 79,
      "outputs": [
        {
          "output_type": "execute_result",
          "data": {
            "text/plain": [
              "tensor(0.0941)"
            ]
          },
          "metadata": {},
          "execution_count": 79
        }
      ]
    },
    {
      "cell_type": "markdown",
      "source": [
        "##Indexing (Searching the item at the particular index)"
      ],
      "metadata": {
        "id": "W8STCJs7kW-5"
      }
    },
    {
      "cell_type": "code",
      "source": [
        "import torch\n",
        "x= torch.arange(1,10).reshape(1,3,3)\n",
        "x"
      ],
      "metadata": {
        "colab": {
          "base_uri": "https://localhost:8080/"
        },
        "id": "VoMGh-G0lSBi",
        "outputId": "a349364b-6f88-41b7-bf33-23bcde699c38"
      },
      "execution_count": 80,
      "outputs": [
        {
          "output_type": "execute_result",
          "data": {
            "text/plain": [
              "tensor([[[1, 2, 3],\n",
              "         [4, 5, 6],\n",
              "         [7, 8, 9]]])"
            ]
          },
          "metadata": {},
          "execution_count": 80
        }
      ]
    },
    {
      "cell_type": "code",
      "source": [
        "x[0]"
      ],
      "metadata": {
        "colab": {
          "base_uri": "https://localhost:8080/"
        },
        "id": "_aOiGgZklpHM",
        "outputId": "18636444-3b0a-4aa3-d7e6-cefeac441c84"
      },
      "execution_count": 81,
      "outputs": [
        {
          "output_type": "execute_result",
          "data": {
            "text/plain": [
              "tensor([[1, 2, 3],\n",
              "        [4, 5, 6],\n",
              "        [7, 8, 9]])"
            ]
          },
          "metadata": {},
          "execution_count": 81
        }
      ]
    },
    {
      "cell_type": "code",
      "source": [
        "x[0][0]"
      ],
      "metadata": {
        "colab": {
          "base_uri": "https://localhost:8080/"
        },
        "id": "iNDnYX55niml",
        "outputId": "9daf593b-dbbc-48fe-dfab-1e57bbd6cd2c"
      },
      "execution_count": 82,
      "outputs": [
        {
          "output_type": "execute_result",
          "data": {
            "text/plain": [
              "tensor([1, 2, 3])"
            ]
          },
          "metadata": {},
          "execution_count": 82
        }
      ]
    },
    {
      "cell_type": "code",
      "source": [
        "x[0][0][1]"
      ],
      "metadata": {
        "colab": {
          "base_uri": "https://localhost:8080/"
        },
        "id": "HgWjjPJQnlp1",
        "outputId": "6a817f9c-64fe-4d89-c8a9-d0d0b28ccae5"
      },
      "execution_count": 83,
      "outputs": [
        {
          "output_type": "execute_result",
          "data": {
            "text/plain": [
              "tensor(2)"
            ]
          },
          "metadata": {},
          "execution_count": 83
        }
      ]
    },
    {
      "cell_type": "code",
      "source": [
        "x[:]"
      ],
      "metadata": {
        "colab": {
          "base_uri": "https://localhost:8080/"
        },
        "id": "oPaETDbhnpwU",
        "outputId": "cb8ae544-a62b-4053-b80f-61465b1bdb4c"
      },
      "execution_count": 84,
      "outputs": [
        {
          "output_type": "execute_result",
          "data": {
            "text/plain": [
              "tensor([[[1, 2, 3],\n",
              "         [4, 5, 6],\n",
              "         [7, 8, 9]]])"
            ]
          },
          "metadata": {},
          "execution_count": 84
        }
      ]
    },
    {
      "cell_type": "code",
      "source": [
        "x[:,0] #To represent row element"
      ],
      "metadata": {
        "colab": {
          "base_uri": "https://localhost:8080/"
        },
        "id": "9F5YYjlgpHJ2",
        "outputId": "671b4145-3951-44e4-f573-b8df65783384"
      },
      "execution_count": 85,
      "outputs": [
        {
          "output_type": "execute_result",
          "data": {
            "text/plain": [
              "tensor([[1, 2, 3]])"
            ]
          },
          "metadata": {},
          "execution_count": 85
        }
      ]
    },
    {
      "cell_type": "code",
      "source": [
        "x[:][0][1]"
      ],
      "metadata": {
        "colab": {
          "base_uri": "https://localhost:8080/"
        },
        "id": "1cnzp6wzpKfa",
        "outputId": "d147f4a9-dea5-4bcf-cf5e-35b691b51c9d"
      },
      "execution_count": 86,
      "outputs": [
        {
          "output_type": "execute_result",
          "data": {
            "text/plain": [
              "tensor([4, 5, 6])"
            ]
          },
          "metadata": {},
          "execution_count": 86
        }
      ]
    },
    {
      "cell_type": "code",
      "source": [
        "x[:,:, 1] # To represent column element"
      ],
      "metadata": {
        "colab": {
          "base_uri": "https://localhost:8080/"
        },
        "id": "C_WuNHEQpRJ0",
        "outputId": "50373137-7721-4050-f31e-14db47144f97"
      },
      "execution_count": 87,
      "outputs": [
        {
          "output_type": "execute_result",
          "data": {
            "text/plain": [
              "tensor([[2, 5, 8]])"
            ]
          },
          "metadata": {},
          "execution_count": 87
        }
      ]
    },
    {
      "cell_type": "code",
      "source": [
        "x[:,1]"
      ],
      "metadata": {
        "id": "JrWJ6XeEprxR",
        "colab": {
          "base_uri": "https://localhost:8080/"
        },
        "outputId": "04e64074-0624-498e-89a8-46d14b7447b0"
      },
      "execution_count": 88,
      "outputs": [
        {
          "output_type": "execute_result",
          "data": {
            "text/plain": [
              "tensor([[4, 5, 6]])"
            ]
          },
          "metadata": {},
          "execution_count": 88
        }
      ]
    },
    {
      "cell_type": "markdown",
      "source": [
        "##Pytorch tensor and NumPy\n",
        "Numpy if the most popular scientific numerical computing library\n",
        "which is used by pytorch\n",
        "* torch.from_numpy(ndarray)\n",
        "* torch.Tensor.numpy()"
      ],
      "metadata": {
        "id": "4CrtTklYeY6j"
      }
    },
    {
      "cell_type": "code",
      "source": [
        "#Numpy Arry to tensor\n",
        "import torch\n",
        "import numpy as np\n",
        "array = np.arange(1.0, 8.0)\n",
        "tensor = torch.from_numpy(array)\n",
        "array, tensor"
      ],
      "metadata": {
        "id": "4as6u-Xlcruq",
        "colab": {
          "base_uri": "https://localhost:8080/"
        },
        "outputId": "a294d1ff-b676-40f6-b6a8-4c212e88bc23"
      },
      "execution_count": 91,
      "outputs": [
        {
          "output_type": "execute_result",
          "data": {
            "text/plain": [
              "(array([1., 2., 3., 4., 5., 6., 7.]),\n",
              " tensor([1., 2., 3., 4., 5., 6., 7.], dtype=torch.float64))"
            ]
          },
          "metadata": {},
          "execution_count": 91
        }
      ]
    },
    {
      "cell_type": "code",
      "source": [
        "array = array +1\n",
        "array, tensor"
      ],
      "metadata": {
        "colab": {
          "base_uri": "https://localhost:8080/"
        },
        "id": "vfl8ByCzRPXY",
        "outputId": "d83e8ec4-1163-4aba-f19d-5f3b2d59a8cf"
      },
      "execution_count": 92,
      "outputs": [
        {
          "output_type": "execute_result",
          "data": {
            "text/plain": [
              "(array([2., 3., 4., 5., 6., 7., 8.]),\n",
              " tensor([1., 2., 3., 4., 5., 6., 7.], dtype=torch.float64))"
            ]
          },
          "metadata": {},
          "execution_count": 92
        }
      ]
    },
    {
      "cell_type": "code",
      "source": [
        "# from tensor to numpy\n",
        "tensor = torch.ones(7)\n",
        "Numpy_tensor = tensor.numpy()\n",
        "tensor, Numpy_tensor"
      ],
      "metadata": {
        "colab": {
          "base_uri": "https://localhost:8080/"
        },
        "id": "pNaS_pKxRpoA",
        "outputId": "436f0e00-17ad-422a-fe6d-2086e87d92a2"
      },
      "execution_count": 93,
      "outputs": [
        {
          "output_type": "execute_result",
          "data": {
            "text/plain": [
              "(tensor([1., 1., 1., 1., 1., 1., 1.]),\n",
              " array([1., 1., 1., 1., 1., 1., 1.], dtype=float32))"
            ]
          },
          "metadata": {},
          "execution_count": 93
        }
      ]
    },
    {
      "cell_type": "code",
      "source": [
        "tensor = tensor +1\n",
        "tensor, Numpy_tensor"
      ],
      "metadata": {
        "colab": {
          "base_uri": "https://localhost:8080/"
        },
        "id": "u-RoFIpXSckf",
        "outputId": "7df19d94-46a9-41b8-8f2e-39235e598731"
      },
      "execution_count": 96,
      "outputs": [
        {
          "output_type": "execute_result",
          "data": {
            "text/plain": [
              "(tensor([4., 4., 4., 4., 4., 4., 4.]),\n",
              " array([1., 1., 1., 1., 1., 1., 1.], dtype=float32))"
            ]
          },
          "metadata": {},
          "execution_count": 96
        }
      ]
    },
    {
      "cell_type": "markdown",
      "source": [
        "## Reproducibility (Trying to take random out of random)"
      ],
      "metadata": {
        "id": "QPPNGoVNSiRA"
      }
    },
    {
      "cell_type": "code",
      "source": [
        "import torch\n",
        "random_tensor_A = torch.rand(3,4)\n",
        "random_tensor_B = torch.rand(3,4)\n",
        "print(\" The tensor A is :\", random_tensor_A)\n",
        "print(\" The tensor B is :\", random_tensor_B)\n",
        "print(\" Is tensor A is equals to random B\", random_tensor_A==random_tensor_B)\n"
      ],
      "metadata": {
        "colab": {
          "base_uri": "https://localhost:8080/"
        },
        "id": "TAwrNlBRcKMX",
        "outputId": "452191f1-d4c7-4aa7-e1f7-961c1da02ade"
      },
      "execution_count": 5,
      "outputs": [
        {
          "output_type": "stream",
          "name": "stdout",
          "text": [
            " The tensor A is : tensor([[0.4902, 0.8021, 0.0463, 0.5179],\n",
            "        [0.3383, 0.2594, 0.5517, 0.0721],\n",
            "        [0.4214, 0.0177, 0.6856, 0.0167]])\n",
            " The tensor B is : tensor([[0.5551, 0.6266, 0.6612, 0.5516],\n",
            "        [0.7174, 0.1614, 0.5741, 0.4297],\n",
            "        [0.0410, 0.7048, 0.0476, 0.8062]])\n",
            " Is tensor A is equals to random B tensor([[False, False, False, False],\n",
            "        [False, False, False, False],\n",
            "        [False, False, False, False]])\n"
          ]
        }
      ]
    },
    {
      "cell_type": "code",
      "source": [
        "RANDOM =42\n",
        "torch.manual_seed(RANDOM)\n",
        "random_tensor_C = torch.rand(3,4)\n",
        "\n",
        "torch.manual_seed(RANDOM)\n",
        "random_tensor_D = torch.rand(3,4)\n",
        "print(random_tensor_C)\n",
        "print(random_tensor_D)\n",
        "print(random_tensor_C==random_tensor_D)\n",
        "\n",
        "\n",
        "\n",
        "\n"
      ],
      "metadata": {
        "colab": {
          "base_uri": "https://localhost:8080/"
        },
        "id": "J25fF1t1cg-0",
        "outputId": "3c58a938-777e-4ccc-b668-59b05254d352"
      },
      "execution_count": 9,
      "outputs": [
        {
          "output_type": "stream",
          "name": "stdout",
          "text": [
            "tensor([[0.8823, 0.9150, 0.3829, 0.9593],\n",
            "        [0.3904, 0.6009, 0.2566, 0.7936],\n",
            "        [0.9408, 0.1332, 0.9346, 0.5936]])\n",
            "tensor([[0.8823, 0.9150, 0.3829, 0.9593],\n",
            "        [0.3904, 0.6009, 0.2566, 0.7936],\n",
            "        [0.9408, 0.1332, 0.9346, 0.5936]])\n",
            "tensor([[True, True, True, True],\n",
            "        [True, True, True, True],\n",
            "        [True, True, True, True]])\n"
          ]
        }
      ]
    },
    {
      "cell_type": "code",
      "source": [],
      "metadata": {
        "id": "UPBVhMD6di8O"
      },
      "execution_count": null,
      "outputs": []
    }
  ]
}