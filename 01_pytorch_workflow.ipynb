{
  "nbformat": 4,
  "nbformat_minor": 0,
  "metadata": {
    "colab": {
      "provenance": [],
      "gpuType": "T4",
      "authorship_tag": "ABX9TyML8yEp3ox6DVnJ3w4MoIyJ",
      "include_colab_link": true
    },
    "kernelspec": {
      "name": "python3",
      "display_name": "Python 3"
    },
    "language_info": {
      "name": "python"
    },
    "accelerator": "GPU"
  },
  "cells": [
    {
      "cell_type": "markdown",
      "metadata": {
        "id": "view-in-github",
        "colab_type": "text"
      },
      "source": [
        "<a href=\"https://colab.research.google.com/github/Shankar034/PyTorch/blob/main/01_pytorch_workflow.ipynb\" target=\"_parent\"><img src=\"https://colab.research.google.com/assets/colab-badge.svg\" alt=\"Open In Colab\"/></a>"
      ]
    },
    {
      "cell_type": "markdown",
      "source": [
        "### PyTorch Workflow"
      ],
      "metadata": {
        "id": "tsXQsvBor1IW"
      }
    },
    {
      "cell_type": "markdown",
      "source": [
        "* Collect Data (prepare and load data)\n",
        "* Build Model\n",
        "* fitting the model to the data(training)\n",
        "* Making prediction and evaluating the model\n",
        "* Saving and loading model\n",
        "* Putting it all together\n"
      ],
      "metadata": {
        "id": "ebeLxcokzBOT"
      }
    },
    {
      "cell_type": "code",
      "source": [
        "import torch\n",
        "from torch import nn # nn for neural network\n",
        "import matplotlib.pyplot as plt\n",
        "torch.__version__"
      ],
      "metadata": {
        "colab": {
          "base_uri": "https://localhost:8080/",
          "height": 35
        },
        "id": "q5d0xdVfz8rK",
        "outputId": "75a16ad5-fc2f-44a5-f8a7-5d26fafb05a2"
      },
      "execution_count": null,
      "outputs": [
        {
          "output_type": "execute_result",
          "data": {
            "text/plain": [
              "'2.0.1+cu118'"
            ],
            "application/vnd.google.colaboratory.intrinsic+json": {
              "type": "string"
            }
          },
          "metadata": {},
          "execution_count": 1
        }
      ]
    },
    {
      "cell_type": "markdown",
      "source": [
        "\n",
        "### 1. Data (Prepare and Load data)\n",
        "data can be anything\n",
        "* Excel Sheet\n",
        "* Images\n",
        "* Audio or Video\n",
        "* DNA\n",
        "* Text\n",
        "\n",
        "# Machine learninig is the game of two parts:\n",
        "1. get data into numerical representations\n",
        "2. Building the model to learn the pattern from numerical data"
      ],
      "metadata": {
        "id": "BorTslVL0nhx"
      }
    },
    {
      "cell_type": "code",
      "source": [
        "# Known datasets\n",
        "import torch\n",
        "weight = 0.7\n",
        "bias = 0.3\n",
        "start =0\n",
        "end = 1\n",
        "steps=0.02\n",
        "X = torch.arange(start, end, steps).unsqueeze(dim=1)\n",
        "y= weight* X + bias\n",
        "X[:10] ,y[:10]"
      ],
      "metadata": {
        "colab": {
          "base_uri": "https://localhost:8080/"
        },
        "id": "Vumodyco1mzU",
        "outputId": "7e83b23c-8f5f-435a-b87d-3d4902261275"
      },
      "execution_count": null,
      "outputs": [
        {
          "output_type": "execute_result",
          "data": {
            "text/plain": [
              "(tensor([[0.0000],\n",
              "         [0.0200],\n",
              "         [0.0400],\n",
              "         [0.0600],\n",
              "         [0.0800],\n",
              "         [0.1000],\n",
              "         [0.1200],\n",
              "         [0.1400],\n",
              "         [0.1600],\n",
              "         [0.1800]]),\n",
              " tensor([[0.3000],\n",
              "         [0.3140],\n",
              "         [0.3280],\n",
              "         [0.3420],\n",
              "         [0.3560],\n",
              "         [0.3700],\n",
              "         [0.3840],\n",
              "         [0.3980],\n",
              "         [0.4120],\n",
              "         [0.4260]]))"
            ]
          },
          "metadata": {},
          "execution_count": 2
        }
      ]
    },
    {
      "cell_type": "code",
      "source": [
        "len(X), len(y)"
      ],
      "metadata": {
        "colab": {
          "base_uri": "https://localhost:8080/"
        },
        "id": "HLWAPGlp7N5Q",
        "outputId": "c3e3dae7-7ca3-421e-8c7b-6a8ebdbb8862"
      },
      "execution_count": null,
      "outputs": [
        {
          "output_type": "execute_result",
          "data": {
            "text/plain": [
              "(50, 50)"
            ]
          },
          "metadata": {},
          "execution_count": 3
        }
      ]
    },
    {
      "cell_type": "code",
      "source": [
        "#Creating Training and test split\n",
        "split = int(len(X)*0.8)\n",
        "X_training= X[:split]\n",
        "y_training= y[:split]\n",
        "X_test = X[split:]\n",
        "y_test=y[split:]\n",
        "len(X_training), len(y_training), len(X_test), len(y_test)"
      ],
      "metadata": {
        "id": "8rEr8daX8ZBk",
        "colab": {
          "base_uri": "https://localhost:8080/"
        },
        "outputId": "e98d8922-38e1-458b-8fe7-33e785953e7a"
      },
      "execution_count": null,
      "outputs": [
        {
          "output_type": "execute_result",
          "data": {
            "text/plain": [
              "(40, 40, 10, 10)"
            ]
          },
          "metadata": {},
          "execution_count": 4
        }
      ]
    },
    {
      "cell_type": "code",
      "source": [
        "def plot_predictions(train_data= X_training,\n",
        "                     train_level=y_training,\n",
        "                     test_data=X_test,\n",
        "                     test_level=y_test,\n",
        "                     predictions = None):\n",
        "  \"\"\"\n",
        "  This is the training, test and predictions\n",
        "  \"\"\"\n",
        "  plt.figure(figsize=(10,7))\n",
        "  #plot training data into Blue\n",
        "  plt.scatter(train_data,train_level,c=\"b\",s=4, label = \"Training Data\")\n",
        "  #plot test data into Blue\n",
        "  plt.scatter( test_data,test_level, c=\"g\", s=4, label = \"Testing Data\" )\n",
        "  #Are there predictions?\n",
        "  if predictions is not None:\n",
        "    # Plot the predictions if there is\n",
        "    plt.scatter(test_data, predictions, c=\"r\", s=4, label = \"Predictions\")\n",
        "  #show the legend\n",
        "  plt.legend(prop={\"size\":14})\n",
        "plot_predictions()\n",
        "\n"
      ],
      "metadata": {
        "id": "O-OHMYHpCPDK",
        "colab": {
          "base_uri": "https://localhost:8080/",
          "height": 599
        },
        "outputId": "e0d6ffa1-8893-46f9-e420-0d135bf27981"
      },
      "execution_count": null,
      "outputs": [
        {
          "output_type": "display_data",
          "data": {
            "text/plain": [
              "<Figure size 1000x700 with 1 Axes>"
            ],
            "image/png": "[encoded data removed]"
          },
          "metadata": {}
        }
      ]
    },
    {
      "cell_type": "markdown",
      "source": [
        "###2. Building Pytorch Model\n",
        "Two main algorithms:\n",
        "* Gradiant Descent\n",
        "* Backpropagation\n"
      ],
      "metadata": {
        "id": "4qmMmnXuzUXd"
      }
    },
    {
      "cell_type": "code",
      "source": [
        "import torch\n",
        "from torch import nn\n",
        "\n",
        "#Creating linear regression model\n",
        "class LinearRegressionModel(nn.Module):\n",
        "  def __init__(self):\n",
        "    super().__init__()\n",
        "    self.weights = nn.Parameter(torch.randn(1,\n",
        "                          requires_grad= True,\n",
        "                          dtype=torch.float))\n",
        "    self.bias= nn.Parameter(torch.randn(1,\n",
        "                      requires_grad = True,\n",
        "                      dtype=torch.float))\n",
        "\n",
        "# Model for the computation\n",
        "  def forward(self, x: torch.Tensor) -> torch.Tensor:\n",
        "    return self.weights *x + self.bias\n"
      ],
      "metadata": {
        "id": "GGSHzSEqzsmV"
      },
      "execution_count": null,
      "outputs": []
    },
    {
      "cell_type": "markdown",
      "source": [
        "#Pytorch Model Building Methods\n",
        "* torch.nn : used for the generation computational graphs\n",
        "* torch.nn.Parameter : trained and learned parameter\n",
        "* torch.nn.Module: It is the main model for neural next\n",
        "* torch.optim: It is used for optimization\n",
        "* def forward() : Used to calculate forward parameters\n",
        "* torch.utils.data.Dataset : Map between label and features\n",
        "* torch.utils.data.Dataloader: help to iterate with your own dataset\n"
      ],
      "metadata": {
        "id": "sDkiHcku5_S7"
      }
    },
    {
      "cell_type": "markdown",
      "source": [
        "### Checking out the internals\n",
        "1.  get data ready\n",
        "    * torchvision.transforms\n",
        "    * torch.utils.data.Dataset\n",
        "    * torch.utils.data.DataLoader\n",
        "2.  Build or pick the pretrained model\n",
        "    * torchvision.models\n",
        "    * torch.nn\n",
        "    * torch.nn.Module\n",
        "  2.1 Pick a lossfunction and optimizer\n",
        "    * torch.optim #Inside optimizer two things are places params and lr.\n",
        "    params takes model_0.parameters() and lr is the rate how large or small the optimizer change the parameter with each step.\n",
        "3.  Fit the model to the data and make predictions\n",
        "4.  Evaluate the model\n",
        "    * torchmatrix\n",
        "5.  improve through experimentation\n",
        "    * torch.utils.tensorboard\n",
        "6.  Save and reload your pretrained model"
      ],
      "metadata": {
        "id": "JhY-8I374Mkt"
      }
    },
    {
      "cell_type": "markdown",
      "source": [
        "#Checking the content of pytorch model\n"
      ],
      "metadata": {
        "id": "lXq554KQOnfj"
      }
    },
    {
      "cell_type": "code",
      "source": [
        "#Creating seed\n",
        "torch.manual_seed(42)\n",
        "\n",
        "#creating instance of regression model\n",
        "model_0 = LinearRegressionModel()\n",
        "\n",
        "#representing the model\n",
        "\n",
        "list(model_0.parameters())"
      ],
      "metadata": {
        "colab": {
          "base_uri": "https://localhost:8080/"
        },
        "id": "mvty8noPMPlj",
        "outputId": "057f7a70-a78b-4cca-80d3-8b475f510c44"
      },
      "execution_count": null,
      "outputs": [
        {
          "output_type": "execute_result",
          "data": {
            "text/plain": [
              "[Parameter containing:\n",
              " tensor([0.3367], requires_grad=True),\n",
              " Parameter containing:\n",
              " tensor([0.1288], requires_grad=True)]"
            ]
          },
          "metadata": {},
          "execution_count": 7
        }
      ]
    },
    {
      "cell_type": "code",
      "source": [
        "model_0.state_dict()"
      ],
      "metadata": {
        "colab": {
          "base_uri": "https://localhost:8080/"
        },
        "id": "DV2lXE8DPiAw",
        "outputId": "470b0c01-93f5-45c1-f1f1-db5d257d3597"
      },
      "execution_count": null,
      "outputs": [
        {
          "output_type": "execute_result",
          "data": {
            "text/plain": [
              "OrderedDict([('weights', tensor([0.3367])), ('bias', tensor([0.1288]))])"
            ]
          },
          "metadata": {},
          "execution_count": 8
        }
      ]
    },
    {
      "cell_type": "code",
      "source": [
        "weight, bias"
      ],
      "metadata": {
        "colab": {
          "base_uri": "https://localhost:8080/"
        },
        "id": "Xn-bwkwTPotx",
        "outputId": "919d49dc-7bee-404b-a1e6-ed8a0024676c"
      },
      "execution_count": null,
      "outputs": [
        {
          "output_type": "execute_result",
          "data": {
            "text/plain": [
              "(0.7, 0.3)"
            ]
          },
          "metadata": {},
          "execution_count": 9
        }
      ]
    },
    {
      "cell_type": "markdown",
      "source": [
        "# Prediction using torch.inference_mode()"
      ],
      "metadata": {
        "id": "Tpq1DGj9P-7E"
      }
    },
    {
      "cell_type": "code",
      "source": [
        "y_preds = model_0(X_test)\n",
        "y_preds\n",
        "\n",
        "# Make prediction with model\n",
        "# You can do similiar with no_grad but inference_mode is preferred .\n",
        "with torch.inference_mode():\n",
        "  y_preds=model_0(X_test)\n",
        "y_preds\n",
        "\n",
        "with torch.no_grad():\n",
        "  y_preds=model_0(X_test)\n",
        "y_preds"
      ],
      "metadata": {
        "colab": {
          "base_uri": "https://localhost:8080/"
        },
        "id": "6ulzdIAsZ3ng",
        "outputId": "e1d13a43-66c0-41ba-8249-bc952d100e55"
      },
      "execution_count": null,
      "outputs": [
        {
          "output_type": "execute_result",
          "data": {
            "text/plain": [
              "tensor([[0.3982],\n",
              "        [0.4049],\n",
              "        [0.4116],\n",
              "        [0.4184],\n",
              "        [0.4251],\n",
              "        [0.4318],\n",
              "        [0.4386],\n",
              "        [0.4453],\n",
              "        [0.4520],\n",
              "        [0.4588]])"
            ]
          },
          "metadata": {},
          "execution_count": 10
        }
      ]
    },
    {
      "cell_type": "code",
      "source": [
        "y_test"
      ],
      "metadata": {
        "colab": {
          "base_uri": "https://localhost:8080/"
        },
        "id": "FXsz4YJdaYM8",
        "outputId": "9a6e8845-2e7a-4d04-a24a-93722c358912"
      },
      "execution_count": null,
      "outputs": [
        {
          "output_type": "execute_result",
          "data": {
            "text/plain": [
              "tensor([[0.8600],\n",
              "        [0.8740],\n",
              "        [0.8880],\n",
              "        [0.9020],\n",
              "        [0.9160],\n",
              "        [0.9300],\n",
              "        [0.9440],\n",
              "        [0.9580],\n",
              "        [0.9720],\n",
              "        [0.9860]])"
            ]
          },
          "metadata": {},
          "execution_count": 11
        }
      ]
    },
    {
      "cell_type": "code",
      "source": [
        "plot_predictions(predictions = y_preds)"
      ],
      "metadata": {
        "colab": {
          "base_uri": "https://localhost:8080/",
          "height": 599
        },
        "id": "Jffip9CLcTgU",
        "outputId": "86972e8b-f82d-4d4e-b768-270f31a4d321"
      },
      "execution_count": null,
      "outputs": [
        {
          "output_type": "display_data",
          "data": {
            "text/plain": [
              "<Figure size 1000x700 with 1 Axes>"
            ],
            "image/png": "[encoded data removed]"
          },
          "metadata": {}
        }
      ]
    },
    {
      "cell_type": "markdown",
      "source": [
        "### Train Model\n",
        "\n",
        "It is all about making wrong pridiction towards right prediction or prediction the data from unpredicted data.\n",
        "Making the weak or poor representation towards strong representation\n",
        "For this loss function and optimizer is used:\n",
        "* **Loss Function**: It is used to represent how poor or wrong the representation is. Lower the loss function better the prediction.\n",
        "* **Optimizer** : It is used to reduce the loss by optimizing the parameters of the model\n",
        "\n",
        "In pytorch we need:\n",
        "* Training Loop\n",
        "* Testing Loop\n",
        "\n"
      ],
      "metadata": {
        "id": "ePCL5jpHclaE"
      }
    },
    {
      "cell_type": "code",
      "source": [
        "list(model_0.parameters())"
      ],
      "metadata": {
        "colab": {
          "base_uri": "https://localhost:8080/"
        },
        "id": "C1mfNfpii46I",
        "outputId": "9756b5d8-ae1e-4d37-ad7c-b80bf506b6dd"
      },
      "execution_count": null,
      "outputs": [
        {
          "output_type": "execute_result",
          "data": {
            "text/plain": [
              "[Parameter containing:\n",
              " tensor([0.3367], requires_grad=True),\n",
              " Parameter containing:\n",
              " tensor([0.1288], requires_grad=True)]"
            ]
          },
          "metadata": {},
          "execution_count": 13
        }
      ]
    },
    {
      "cell_type": "code",
      "source": [
        "model_0.state_dict()"
      ],
      "metadata": {
        "id": "69iYem-AjEu0",
        "colab": {
          "base_uri": "https://localhost:8080/"
        },
        "outputId": "05dbfbe1-3467-458d-f41e-0b40150f0fcb"
      },
      "execution_count": null,
      "outputs": [
        {
          "output_type": "execute_result",
          "data": {
            "text/plain": [
              "OrderedDict([('weights', tensor([0.3367])), ('bias', tensor([0.1288]))])"
            ]
          },
          "metadata": {},
          "execution_count": 14
        }
      ]
    },
    {
      "cell_type": "code",
      "source": [
        "\n",
        "#loss function setup\n",
        "loss_fn = nn.L1Loss()\n",
        "#Optimizing function setup\n",
        "optimizer = torch.optim.SGD(params = model_0.parameters(), lr=0.01)"
      ],
      "metadata": {
        "id": "qFrmoz3nr0I_"
      },
      "execution_count": null,
      "outputs": []
    },
    {
      "cell_type": "markdown",
      "source": [
        "* For the regression problem use nn.L1Loss and torch.optim.SGD()\n",
        "* For the clssification problem use nn.BCELoss()\n"
      ],
      "metadata": {
        "id": "5WFwlGO7ui5u"
      }
    },
    {
      "cell_type": "markdown",
      "source": [
        "##Building Training and Testing Loop in Pythorch\n",
        "Couple of things we need in the training loop\n",
        "\n",
        "1.  Loop through the data\n",
        "2.  Forward Propagation(Loop the data thorugh the model and make predictions)\n",
        "3.  Loss calculation\n",
        "4.  Optimize zero grad\n",
        "5.  Loss Backward: Backward Propagation\n",
        "6.  Optimizer step : Use the model and optimize the the parameters to try and improve the loss() **Gradiant Descent**"
      ],
      "metadata": {
        "id": "k9GkJyoXu4Xd"
      }
    },
    {
      "cell_type": "code",
      "source": [
        "torch.manual_seed(42)\n",
        "epochs =100\n",
        "#Tracking and listing different necessary variables\n",
        "loss_values=[]\n",
        "epoch_count=[]\n",
        "test_loss_values=[]\n",
        "for epoch in range(epochs):\n",
        "  # Set the model in training mode\n",
        "\n",
        "  model_0.train()\n",
        "\n",
        "  #1. Forward pass\n",
        "  y_pred = model_0(X_training)\n",
        "  #2. loss Calculation\n",
        "  loss = loss_fn(y_pred, y_training)\n",
        "  #print(f\"Loss: {loss}\")\n",
        "  #3. Optimize zero grad\n",
        "  optimizer.zero_grad()\n",
        "  #4. Back Propagation\n",
        "  loss.backward()\n",
        "  #5.  step the Optimizer (gradiant descent)\n",
        "  optimizer.step()\n",
        "  #Turn off gradiant tracking\n",
        "\n",
        "  ### Testing\n",
        "\n",
        "\n",
        "  # Turn off different setting of the model\n",
        "  model_0.eval()\n",
        "  # Turn off gradient tracking\n",
        "  with torch.inference_mode():\n",
        "    #Do the forward Pass\n",
        "    test_pred= model_0(X_test)\n",
        "    #Calculate the loss\n",
        "    test_loss = loss_fn(test_pred,y_test)\n",
        "\n",
        "  # Print out what's happening\n",
        "  if epoch % 10 ==0:\n",
        "    epoch_count.append(epoch)\n",
        "    loss_values.append(loss)\n",
        "    test_loss_values.append(test_loss)\n",
        "    print(f\" Epoch :{epoch} | Loss : {loss} | Test Loss : {test_loss}\")\n",
        "    print(f\" Printing model state dict : {model_0.state_dict()}\")"
      ],
      "metadata": {
        "id": "2-svv9d33Unc",
        "colab": {
          "base_uri": "https://localhost:8080/"
        },
        "outputId": "e805e554-98d2-44a7-814d-172d98299018"
      },
      "execution_count": null,
      "outputs": [
        {
          "output_type": "stream",
          "name": "stdout",
          "text": [
            " Epoch :0 | Loss : 0.024458957836031914 | Test Loss : 0.05646304413676262\n",
            " Printing model state dict : OrderedDict([('weights', tensor([0.5800])), ('bias', tensor([0.3503]))])\n",
            " Epoch :10 | Loss : 0.021020207554101944 | Test Loss : 0.04819049686193466\n",
            " Printing model state dict : OrderedDict([('weights', tensor([0.5972])), ('bias', tensor([0.3433]))])\n",
            " Epoch :20 | Loss : 0.01758546568453312 | Test Loss : 0.04060482233762741\n",
            " Printing model state dict : OrderedDict([('weights', tensor([0.6141])), ('bias', tensor([0.3358]))])\n",
            " Epoch :30 | Loss : 0.014155393466353416 | Test Loss : 0.03233227878808975\n",
            " Printing model state dict : OrderedDict([('weights', tensor([0.6313])), ('bias', tensor([0.3288]))])\n",
            " Epoch :40 | Loss : 0.010716589167714119 | Test Loss : 0.024059748277068138\n",
            " Printing model state dict : OrderedDict([('weights', tensor([0.6485])), ('bias', tensor([0.3218]))])\n",
            " Epoch :50 | Loss : 0.0072835334576666355 | Test Loss : 0.016474086791276932\n",
            " Printing model state dict : OrderedDict([('weights', tensor([0.6654])), ('bias', tensor([0.3143]))])\n",
            " Epoch :60 | Loss : 0.0038517764769494534 | Test Loss : 0.008201557211577892\n",
            " Printing model state dict : OrderedDict([('weights', tensor([0.6826])), ('bias', tensor([0.3073]))])\n",
            " Epoch :70 | Loss : 0.008932482451200485 | Test Loss : 0.005023092031478882\n",
            " Printing model state dict : OrderedDict([('weights', tensor([0.6951])), ('bias', tensor([0.2993]))])\n",
            " Epoch :80 | Loss : 0.008932482451200485 | Test Loss : 0.005023092031478882\n",
            " Printing model state dict : OrderedDict([('weights', tensor([0.6951])), ('bias', tensor([0.2993]))])\n",
            " Epoch :90 | Loss : 0.008932482451200485 | Test Loss : 0.005023092031478882\n",
            " Printing model state dict : OrderedDict([('weights', tensor([0.6951])), ('bias', tensor([0.2993]))])\n"
          ]
        }
      ]
    },
    {
      "cell_type": "code",
      "source": [
        "weight, bias"
      ],
      "metadata": {
        "colab": {
          "base_uri": "https://localhost:8080/"
        },
        "id": "_pSfU7TyCX9Q",
        "outputId": "af2d0668-d0c3-494d-97a9-d2e278ac7bd1"
      },
      "execution_count": null,
      "outputs": [
        {
          "output_type": "execute_result",
          "data": {
            "text/plain": [
              "(0.7, 0.3)"
            ]
          },
          "metadata": {},
          "execution_count": 17
        }
      ]
    },
    {
      "cell_type": "code",
      "source": [
        "import numpy as np\n",
        "\n",
        "epoch_count, np.array(torch.tensor(loss_values).cpu().numpy()), test_loss_values"
      ],
      "metadata": {
        "colab": {
          "base_uri": "https://localhost:8080/"
        },
        "id": "BeNJ7HDmZIgL",
        "outputId": "c93be1b8-a5e9-4a56-ce22-30d37f6e9f9a"
      },
      "execution_count": null,
      "outputs": [
        {
          "output_type": "execute_result",
          "data": {
            "text/plain": [
              "([0, 10, 20, 30, 40, 50, 60, 70, 80, 90],\n",
              " array([0.02445896, 0.02102021, 0.01758547, 0.01415539, 0.01071659,\n",
              "        0.00728353, 0.00385178, 0.00893248, 0.00893248, 0.00893248],\n",
              "       dtype=float32),\n",
              " [tensor(0.0565),\n",
              "  tensor(0.0482),\n",
              "  tensor(0.0406),\n",
              "  tensor(0.0323),\n",
              "  tensor(0.0241),\n",
              "  tensor(0.0165),\n",
              "  tensor(0.0082),\n",
              "  tensor(0.0050),\n",
              "  tensor(0.0050),\n",
              "  tensor(0.0050)])"
            ]
          },
          "metadata": {},
          "execution_count": 25
        }
      ]
    },
    {
      "cell_type": "code",
      "source": [
        "#plot the loss curve\n",
        "import numpy as np\n",
        "plt.plot(epoch_count, np.array(torch.tensor(loss_values).cpu().numpy()), label=\"Train Loss\")\n",
        "plt.plot(epoch_count, test_loss_values, label=\"Test Loss\")\n",
        "plt.xlabel(\"Epochs\")\n",
        "plt.ylabel(\"Loss\")\n",
        "plt.title=\"Training and Test Loss Curve\"\n",
        "plt.legend()"
      ],
      "metadata": {
        "colab": {
          "base_uri": "https://localhost:8080/",
          "height": 466
        },
        "id": "TrnmiOXvZG6P",
        "outputId": "677f2ff5-ae52-4d75-8397-37f4857719c3"
      },
      "execution_count": null,
      "outputs": [
        {
          "output_type": "execute_result",
          "data": {
            "text/plain": [
              "<matplotlib.legend.Legend at 0x7f6766e153f0>"
            ]
          },
          "metadata": {},
          "execution_count": 26
        },
        {
          "output_type": "display_data",
          "data": {
            "text/plain": [
              "<Figure size 640x480 with 1 Axes>"
            ],
            "image/png": "[encoded data removed]"
          },
          "metadata": {}
        }
      ]
    },
    {
      "cell_type": "code",
      "source": [
        "with torch.inference_mode():\n",
        "  y_preds_new = model_0(X_test)\n",
        "y_preds_new"
      ],
      "metadata": {
        "colab": {
          "base_uri": "https://localhost:8080/"
        },
        "id": "fhJ0N3DsC9oN",
        "outputId": "3e938966-813b-4189-9f2d-2353049007c3"
      },
      "execution_count": null,
      "outputs": [
        {
          "output_type": "execute_result",
          "data": {
            "text/plain": [
              "tensor([[0.8141],\n",
              "        [0.8256],\n",
              "        [0.8372],\n",
              "        [0.8488],\n",
              "        [0.8603],\n",
              "        [0.8719],\n",
              "        [0.8835],\n",
              "        [0.8950],\n",
              "        [0.9066],\n",
              "        [0.9182]])"
            ]
          },
          "metadata": {},
          "execution_count": 20
        }
      ]
    },
    {
      "cell_type": "code",
      "source": [
        "model_0.state_dict()"
      ],
      "metadata": {
        "colab": {
          "base_uri": "https://localhost:8080/"
        },
        "id": "ugIQx_Y5HtXA",
        "outputId": "706f3491-e605-4bb3-a6ba-5f937a25ecba"
      },
      "execution_count": null,
      "outputs": [
        {
          "output_type": "execute_result",
          "data": {
            "text/plain": [
              "OrderedDict([('weights', tensor([0.5784])), ('bias', tensor([0.3513]))])"
            ]
          },
          "metadata": {},
          "execution_count": 21
        }
      ]
    },
    {
      "cell_type": "code",
      "source": [
        "plot_predictions(predictions=y_preds)"
      ],
      "metadata": {
        "colab": {
          "base_uri": "https://localhost:8080/",
          "height": 599
        },
        "id": "qFekJJXjHv38",
        "outputId": "9baf5eac-915c-4635-bbd8-5a6cbe42d26b"
      },
      "execution_count": null,
      "outputs": [
        {
          "output_type": "display_data",
          "data": {
            "text/plain": [
              "<Figure size 1000x700 with 1 Axes>"
            ],
            "image/png": "[encoded data removed]"
          },
          "metadata": {}
        }
      ]
    },
    {
      "cell_type": "code",
      "source": [
        "plot_predictions(predictions=y_preds_new)"
      ],
      "metadata": {
        "colab": {
          "base_uri": "https://localhost:8080/",
          "height": 599
        },
        "id": "abplF742IBPW",
        "outputId": "44db73a0-c87d-4478-c7d4-9715254e80c5"
      },
      "execution_count": null,
      "outputs": [
        {
          "output_type": "display_data",
          "data": {
            "text/plain": [
              "<Figure size 1000x700 with 1 Axes>"
            ],
            "image/png": "[encoded data removed]"
          },
          "metadata": {}
        }
      ]
    },
    {
      "cell_type": "markdown",
      "source": [
        "###Saving the model in Pytorch\n",
        "* torch.save() #To save the pyTorch model in Pickle Format\n",
        "* torch.load() # To load the model that is saved\n",
        "* torch.nn.Module.load_state_dict() #this allows to save the model's saved state directory"
      ],
      "metadata": {
        "id": "gJiEZBNHIVfd"
      }
    },
    {
      "cell_type": "code",
      "source": [
        "#Saving Our PyTorch Model\n",
        "from pathlib import Path\n",
        "\n",
        "#1. Create model directory\n",
        "MODEL_PATH = Path('models')\n",
        "\n",
        "MODEL_PATH.mkdir(parents=True, exist_ok= True)\n",
        "\n",
        "#2. Create Model save Path\n",
        "MODEL_NAME=\"01_Pytorch_model_workflow_01.path\""
      ],
      "metadata": {
        "id": "XyFa7T6KprIx"
      },
      "execution_count": null,
      "outputs": []
    }
  ]
}