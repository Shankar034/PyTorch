{
  "nbformat": 4,
  "nbformat_minor": 0,
  "metadata": {
    "colab": {
      "provenance": [],
      "gpuType": "T4",
      "authorship_tag": "ABX9TyOCmoUNecsNHw8lQA+YQHpc",
      "include_colab_link": true
    },
    "kernelspec": {
      "name": "python3",
      "display_name": "Python 3"
    },
    "language_info": {
      "name": "python"
    },
    "accelerator": "GPU"
  },
  "cells": [
    {
      "cell_type": "markdown",
      "metadata": {
        "id": "view-in-github",
        "colab_type": "text"
      },
      "source": [
        "<a href=\"https://colab.research.google.com/github/Shankar034/PyTorch/blob/main/01_pytorch_workflow.ipynb\" target=\"_parent\"><img src=\"https://colab.research.google.com/assets/colab-badge.svg\" alt=\"Open In Colab\"/></a>"
      ]
    },
    {
      "cell_type": "markdown",
      "source": [
        "### PyTorch Workflow"
      ],
      "metadata": {
        "id": "tsXQsvBor1IW"
      }
    },
    {
      "cell_type": "markdown",
      "source": [
        "* Collect Data (prepare and load data)\n",
        "* Build Model\n",
        "* fitting the model to the data(training)\n",
        "* Making prediction and evaluating the model\n",
        "* Saving and loading model\n",
        "* Putting it all together\n"
      ],
      "metadata": {
        "id": "ebeLxcokzBOT"
      }
    },
    {
      "cell_type": "code",
      "source": [
        "import torch\n",
        "from torch import nn # nn for neural network\n",
        "import matplotlib.pyplot as plt\n",
        "torch.__version__"
      ],
      "metadata": {
        "colab": {
          "base_uri": "https://localhost:8080/",
          "height": 35
        },
        "id": "q5d0xdVfz8rK",
        "outputId": "8d8fa27f-9f20-4ef9-f68e-6db653ce041b"
      },
      "execution_count": 30,
      "outputs": [
        {
          "output_type": "execute_result",
          "data": {
            "text/plain": [
              "'2.0.1+cu118'"
            ],
            "application/vnd.google.colaboratory.intrinsic+json": {
              "type": "string"
            }
          },
          "metadata": {},
          "execution_count": 30
        }
      ]
    },
    {
      "cell_type": "markdown",
      "source": [
        "\n",
        "### 1. Data (Prepare and Load data)\n",
        "data can be anything\n",
        "* Excel Sheet\n",
        "* Images\n",
        "* Audio or Video\n",
        "* DNA\n",
        "* Text\n",
        "\n",
        "# Machine learninig is the game of two parts:\n",
        "1. get data into numerical representations\n",
        "2. Building the model to learn the pattern from numerical data"
      ],
      "metadata": {
        "id": "BorTslVL0nhx"
      }
    },
    {
      "cell_type": "code",
      "source": [
        "# Known datasets\n",
        "import torch\n",
        "weight = 0.7\n",
        "bias = 0.3\n",
        "start =0\n",
        "end = 1\n",
        "steps=0.02\n",
        "X = torch.arange(start, end, steps).unsqueeze(dim=1)\n",
        "y= weight* X + bias\n",
        "X[:10] ,y[:10]"
      ],
      "metadata": {
        "colab": {
          "base_uri": "https://localhost:8080/"
        },
        "id": "Vumodyco1mzU",
        "outputId": "25da8b08-38f4-4882-986f-e2ed3d0ae4b1"
      },
      "execution_count": 31,
      "outputs": [
        {
          "output_type": "execute_result",
          "data": {
            "text/plain": [
              "(tensor([[0.0000],\n",
              "         [0.0200],\n",
              "         [0.0400],\n",
              "         [0.0600],\n",
              "         [0.0800],\n",
              "         [0.1000],\n",
              "         [0.1200],\n",
              "         [0.1400],\n",
              "         [0.1600],\n",
              "         [0.1800]]),\n",
              " tensor([[0.3000],\n",
              "         [0.3140],\n",
              "         [0.3280],\n",
              "         [0.3420],\n",
              "         [0.3560],\n",
              "         [0.3700],\n",
              "         [0.3840],\n",
              "         [0.3980],\n",
              "         [0.4120],\n",
              "         [0.4260]]))"
            ]
          },
          "metadata": {},
          "execution_count": 31
        }
      ]
    },
    {
      "cell_type": "code",
      "source": [
        "len(X), len(y)"
      ],
      "metadata": {
        "colab": {
          "base_uri": "https://localhost:8080/"
        },
        "id": "HLWAPGlp7N5Q",
        "outputId": "06c9ec7f-9294-4b13-c77d-a65e8a5b3082"
      },
      "execution_count": 32,
      "outputs": [
        {
          "output_type": "execute_result",
          "data": {
            "text/plain": [
              "(50, 50)"
            ]
          },
          "metadata": {},
          "execution_count": 32
        }
      ]
    },
    {
      "cell_type": "code",
      "source": [
        "#Creating Training and test split\n",
        "split = int(len(X)*0.8)\n",
        "X_training= X[:split]\n",
        "y_training= y[:split]\n",
        "X_test = X[split:]\n",
        "y_test=y[split:]\n",
        "len(X_training), len(y_training), len(X_test), len(y_test)"
      ],
      "metadata": {
        "id": "8rEr8daX8ZBk",
        "colab": {
          "base_uri": "https://localhost:8080/"
        },
        "outputId": "2cd0b7c8-e7ae-4745-8599-8c8a209ac241"
      },
      "execution_count": 33,
      "outputs": [
        {
          "output_type": "execute_result",
          "data": {
            "text/plain": [
              "(40, 40, 10, 10)"
            ]
          },
          "metadata": {},
          "execution_count": 33
        }
      ]
    },
    {
      "cell_type": "code",
      "source": [
        "def plot_predictions(train_data= X_training,\n",
        "                     train_level=y_training,\n",
        "                     test_data=X_test,\n",
        "                     test_level=y_test,\n",
        "                     predictions = None):\n",
        "  \"\"\"\n",
        "  This is the training, test and predictions\n",
        "  \"\"\"\n",
        "  plt.figure(figsize=(10,7))\n",
        "  #plot training data into Blue\n",
        "  plt.scatter(train_data,train_level,c=\"b\",s=4, label = \"Training Data\")\n",
        "  #plot test data into Blue\n",
        "  plt.scatter( test_data,test_level, c=\"g\", s=4, label = \"Testing Data\" )\n",
        "  #Are there predictions?\n",
        "  if predictions is not None:\n",
        "    # Plot the predictions if there is\n",
        "    plt.scatter(test_data, predictions, c=\"r\", s=4, label = \"Predictions\")\n",
        "  #show the legend\n",
        "  plt.legend(prop={\"size\":14})\n",
        "plot_predictions()\n",
        "\n"
      ],
      "metadata": {
        "id": "O-OHMYHpCPDK",
        "colab": {
          "base_uri": "https://localhost:8080/",
          "height": 599
        },
        "outputId": "e01aaac2-78e4-4799-8719-0d830e8037b1"
      },
      "execution_count": 34,
      "outputs": [
        {
          "output_type": "display_data",
          "data": {
            "text/plain": [
              "<Figure size 1000x700 with 1 Axes>"
            ],
            "image/png": "[encoded data removed]"
          },
          "metadata": {}
        }
      ]
    },
    {
      "cell_type": "markdown",
      "source": [
        "###2. Building Pytorch Model\n",
        "Two main algorithms:\n",
        "* Gradiant Descent\n",
        "* Backpropagation\n"
      ],
      "metadata": {
        "id": "4qmMmnXuzUXd"
      }
    },
    {
      "cell_type": "code",
      "source": [
        "import torch\n",
        "from torch import nn\n",
        "\n",
        "#Creating linear regression model\n",
        "class LinearRegressionModel(nn.Module):\n",
        "  def __init__(self):\n",
        "    super().__init__()\n",
        "    self.weights = nn.Parameter(torch.randn(1,\n",
        "                          requires_grad= True,\n",
        "                          dtype=torch.float))\n",
        "    self.bias= nn.Parameter(torch.randn(1,\n",
        "                      requires_grad = True,\n",
        "                      dtype=torch.float))\n",
        "\n",
        "# Model for the computation\n",
        "  def forward(self, x: torch.Tensor) -> torch.Tensor:\n",
        "    return self.weights *x + self.bias\n"
      ],
      "metadata": {
        "id": "GGSHzSEqzsmV"
      },
      "execution_count": 35,
      "outputs": []
    },
    {
      "cell_type": "markdown",
      "source": [
        "#Pytorch Model Building Methods\n",
        "* torch.nn : used for the generation computational graphs\n",
        "* torch.nn.Parameter : trained and learned parameter\n",
        "* torch.nn.Module: It is the main model for neural next\n",
        "* torch.optim: It is used for optimization\n",
        "* def forward() : Used to calculate forward parameters\n",
        "* torch.utils.data.Dataset : Map between label and features\n",
        "* torch.utils.data.Dataloader: help to iterate with your own dataset\n"
      ],
      "metadata": {
        "id": "sDkiHcku5_S7"
      }
    },
    {
      "cell_type": "markdown",
      "source": [
        "### Checking out the internals\n",
        "1.  get data ready\n",
        "    * torchvision.transforms\n",
        "    * torch.utils.data.Dataset\n",
        "    * torch.utils.data.DataLoader\n",
        "2.  Build or pick the pretrained model\n",
        "    * torchvision.models\n",
        "    * torch.nn\n",
        "    * torch.nn.Module\n",
        "  2.1 Pick a lossfunction and optimizer\n",
        "    * torch.optim #Inside optimizer two things are places params and lr.\n",
        "    params takes model_0.parameters() and lr is the rate how large or small the optimizer change the parameter with each step.\n",
        "3.  Fit the model to the data and make predictions\n",
        "4.  Evaluate the model\n",
        "    * torchmatrix\n",
        "5.  improve through experimentation\n",
        "    * torch.utils.tensorboard\n",
        "6.  Save and reload your pretrained model"
      ],
      "metadata": {
        "id": "JhY-8I374Mkt"
      }
    },
    {
      "cell_type": "markdown",
      "source": [
        "#Checking the content of pytorch model\n"
      ],
      "metadata": {
        "id": "lXq554KQOnfj"
      }
    },
    {
      "cell_type": "code",
      "source": [
        "#Creating seed\n",
        "torch.manual_seed(42)\n",
        "\n",
        "#creating instance of regression model\n",
        "model_0 = LinearRegressionModel()\n",
        "\n",
        "#representing the model\n",
        "\n",
        "list(model_0.parameters())"
      ],
      "metadata": {
        "colab": {
          "base_uri": "https://localhost:8080/"
        },
        "id": "mvty8noPMPlj",
        "outputId": "4933c1ef-f5cd-4768-a49c-5669157460cb"
      },
      "execution_count": 36,
      "outputs": [
        {
          "output_type": "execute_result",
          "data": {
            "text/plain": [
              "[Parameter containing:\n",
              " tensor([0.3367], requires_grad=True),\n",
              " Parameter containing:\n",
              " tensor([0.1288], requires_grad=True)]"
            ]
          },
          "metadata": {},
          "execution_count": 36
        }
      ]
    },
    {
      "cell_type": "code",
      "source": [
        "model_0.state_dict()"
      ],
      "metadata": {
        "colab": {
          "base_uri": "https://localhost:8080/"
        },
        "id": "DV2lXE8DPiAw",
        "outputId": "b53cfc97-02ca-4cfe-9af9-91225bca7451"
      },
      "execution_count": 37,
      "outputs": [
        {
          "output_type": "execute_result",
          "data": {
            "text/plain": [
              "OrderedDict([('weights', tensor([0.3367])), ('bias', tensor([0.1288]))])"
            ]
          },
          "metadata": {},
          "execution_count": 37
        }
      ]
    },
    {
      "cell_type": "code",
      "source": [
        "weight, bias"
      ],
      "metadata": {
        "colab": {
          "base_uri": "https://localhost:8080/"
        },
        "id": "Xn-bwkwTPotx",
        "outputId": "616c560f-f085-4d59-f2f2-2c18ef925b6a"
      },
      "execution_count": 38,
      "outputs": [
        {
          "output_type": "execute_result",
          "data": {
            "text/plain": [
              "(0.7, 0.3)"
            ]
          },
          "metadata": {},
          "execution_count": 38
        }
      ]
    },
    {
      "cell_type": "markdown",
      "source": [
        "# Prediction using torch.inference_mode()"
      ],
      "metadata": {
        "id": "Tpq1DGj9P-7E"
      }
    },
    {
      "cell_type": "code",
      "source": [
        "y_preds = model_0(X_test)\n",
        "y_preds\n",
        "\n",
        "# Make prediction with model\n",
        "# You can do similiar with no_grad but inference_mode is preferred .\n",
        "with torch.inference_mode():\n",
        "  y_preds=model_0(X_test)\n",
        "y_preds\n",
        "\n",
        "with torch.no_grad():\n",
        "  y_preds=model_0(X_test)\n",
        "y_preds"
      ],
      "metadata": {
        "colab": {
          "base_uri": "https://localhost:8080/"
        },
        "id": "6ulzdIAsZ3ng",
        "outputId": "6c4951e2-373a-490b-a72e-55f4732286bd"
      },
      "execution_count": 39,
      "outputs": [
        {
          "output_type": "execute_result",
          "data": {
            "text/plain": [
              "tensor([[0.3982],\n",
              "        [0.4049],\n",
              "        [0.4116],\n",
              "        [0.4184],\n",
              "        [0.4251],\n",
              "        [0.4318],\n",
              "        [0.4386],\n",
              "        [0.4453],\n",
              "        [0.4520],\n",
              "        [0.4588]])"
            ]
          },
          "metadata": {},
          "execution_count": 39
        }
      ]
    },
    {
      "cell_type": "code",
      "source": [
        "y_test"
      ],
      "metadata": {
        "colab": {
          "base_uri": "https://localhost:8080/"
        },
        "id": "FXsz4YJdaYM8",
        "outputId": "24038be9-f203-4033-fb25-bbb21511df3d"
      },
      "execution_count": 40,
      "outputs": [
        {
          "output_type": "execute_result",
          "data": {
            "text/plain": [
              "tensor([[0.8600],\n",
              "        [0.8740],\n",
              "        [0.8880],\n",
              "        [0.9020],\n",
              "        [0.9160],\n",
              "        [0.9300],\n",
              "        [0.9440],\n",
              "        [0.9580],\n",
              "        [0.9720],\n",
              "        [0.9860]])"
            ]
          },
          "metadata": {},
          "execution_count": 40
        }
      ]
    },
    {
      "cell_type": "code",
      "source": [
        "plot_predictions(predictions = y_preds)"
      ],
      "metadata": {
        "colab": {
          "base_uri": "https://localhost:8080/",
          "height": 599
        },
        "id": "Jffip9CLcTgU",
        "outputId": "23388647-f9f5-4cd8-e742-f9a6eba4b593"
      },
      "execution_count": 41,
      "outputs": [
        {
          "output_type": "display_data",
          "data": {
            "text/plain": [
              "<Figure size 1000x700 with 1 Axes>"
            ],
            "image/png": "[encoded data removed]"
          },
          "metadata": {}
        }
      ]
    },
    {
      "cell_type": "markdown",
      "source": [
        "### Train Model\n",
        "\n",
        "It is all about making wrong pridiction towards right prediction or prediction the data from unpredicted data.\n",
        "Making the weak or poor representation towards strong representation\n",
        "For this loss function and optimizer is used:\n",
        "* **Loss Function**: It is used to represent how poor or wrong the representation is. Lower the loss function better the prediction.\n",
        "* **Optimizer** : It is used to reduce the loss by optimizing the parameters of the model\n",
        "\n",
        "In pytorch we need:\n",
        "* Training Loop\n",
        "* Testing Loop\n",
        "\n"
      ],
      "metadata": {
        "id": "ePCL5jpHclaE"
      }
    },
    {
      "cell_type": "code",
      "source": [
        "list(model_0.parameters())"
      ],
      "metadata": {
        "colab": {
          "base_uri": "https://localhost:8080/"
        },
        "id": "C1mfNfpii46I",
        "outputId": "483a94d1-fcae-4a79-d0d3-b03a55f6b72e"
      },
      "execution_count": 42,
      "outputs": [
        {
          "output_type": "execute_result",
          "data": {
            "text/plain": [
              "[Parameter containing:\n",
              " tensor([0.3367], requires_grad=True),\n",
              " Parameter containing:\n",
              " tensor([0.1288], requires_grad=True)]"
            ]
          },
          "metadata": {},
          "execution_count": 42
        }
      ]
    },
    {
      "cell_type": "code",
      "source": [
        "model_0.state_dict()"
      ],
      "metadata": {
        "id": "69iYem-AjEu0",
        "colab": {
          "base_uri": "https://localhost:8080/"
        },
        "outputId": "03ec2bde-845d-4213-aa2c-f64093f7c5fa"
      },
      "execution_count": 43,
      "outputs": [
        {
          "output_type": "execute_result",
          "data": {
            "text/plain": [
              "OrderedDict([('weights', tensor([0.3367])), ('bias', tensor([0.1288]))])"
            ]
          },
          "metadata": {},
          "execution_count": 43
        }
      ]
    },
    {
      "cell_type": "code",
      "source": [
        "\n",
        "#loss function setup\n",
        "loss_fn = nn.L1Loss()\n",
        "#Optimizing function setup\n",
        "optimizer = torch.optim.SGD(params = model_0.parameters(), lr=0.01)"
      ],
      "metadata": {
        "id": "qFrmoz3nr0I_"
      },
      "execution_count": 44,
      "outputs": []
    },
    {
      "cell_type": "markdown",
      "source": [
        "* For the regression problem use nn.L1Loss and torch.optim.SGD()\n",
        "* For the clssification problem use nn.BCELoss()\n"
      ],
      "metadata": {
        "id": "5WFwlGO7ui5u"
      }
    },
    {
      "cell_type": "markdown",
      "source": [
        "##Building Training and Testing Loop in Pythorch\n",
        "Couple of things we need in the training loop\n",
        "\n",
        "1.  Loop through the data\n",
        "2.  Forward Propagation(Loop the data thorugh the model and make predictions)\n",
        "3.  Loss calculation\n",
        "4.  Optimize zero grad\n",
        "5.  Loss Backward: Backward Propagation\n",
        "6.  Optimizer step : Use the model and optimize the the parameters to try and improve the loss() **Gradiant Descent**"
      ],
      "metadata": {
        "id": "k9GkJyoXu4Xd"
      }
    },
    {
      "cell_type": "code",
      "source": [
        "epochs =1\n",
        "for epoch in range(epochs):\n",
        "  # Set the model in training mode\n",
        "  model_0.train()\n",
        "\n",
        "  #1. Forward pass\n",
        "  y_pred = model_0(X_training)\n",
        "  #2. loss Calculation\n",
        "  loss = loss_fn(y_pred, y_training)\n",
        "  print(f\"Loss: {loss}\")\n",
        "  #3. Optimize zero grad\n",
        "  optimizer.zero_grad()\n",
        "  #4. Back Propagation\n",
        "  loss.backward()\n",
        "  #5.  step the Optimizer (gradiant descent)\n",
        "  optimizer.step()\n",
        "  #Turn off gradiant tracking\n",
        "  model_0.eval()\n",
        "  print(f\" Printing model state dict : {model_0.state_dict()}\")"
      ],
      "metadata": {
        "id": "2-svv9d33Unc",
        "colab": {
          "base_uri": "https://localhost:8080/"
        },
        "outputId": "3ac9fa51-8b3d-4621-980a-2394d0703d98"
      },
      "execution_count": 51,
      "outputs": [
        {
          "output_type": "stream",
          "name": "stdout",
          "text": [
            "Loss: 0.3013603389263153\n",
            " Printing model state dict : OrderedDict([('weights', tensor([0.3445])), ('bias', tensor([0.1488]))])\n"
          ]
        }
      ]
    },
    {
      "cell_type": "code",
      "source": [
        "weight, bias"
      ],
      "metadata": {
        "colab": {
          "base_uri": "https://localhost:8080/"
        },
        "id": "_pSfU7TyCX9Q",
        "outputId": "cca9038e-f080-4153-e728-d23a3b252a53"
      },
      "execution_count": 46,
      "outputs": [
        {
          "output_type": "execute_result",
          "data": {
            "text/plain": [
              "(0.7, 0.3)"
            ]
          },
          "metadata": {},
          "execution_count": 46
        }
      ]
    },
    {
      "cell_type": "code",
      "source": [
        "with torch.inference_mode():\n",
        "  y_preds_new = model_0(X_test)\n",
        "y_preds_new"
      ],
      "metadata": {
        "colab": {
          "base_uri": "https://localhost:8080/"
        },
        "id": "fhJ0N3DsC9oN",
        "outputId": "6ad03cbc-7868-4e7f-f7d3-e78aaf5d6c42"
      },
      "execution_count": 61,
      "outputs": [
        {
          "output_type": "execute_result",
          "data": {
            "text/plain": [
              "tensor([[0.4244],\n",
              "        [0.4313],\n",
              "        [0.4382],\n",
              "        [0.4451],\n",
              "        [0.4520],\n",
              "        [0.4589],\n",
              "        [0.4657],\n",
              "        [0.4726],\n",
              "        [0.4795],\n",
              "        [0.4864]])"
            ]
          },
          "metadata": {},
          "execution_count": 61
        }
      ]
    },
    {
      "cell_type": "code",
      "source": [
        "model_0.state_dict()"
      ],
      "metadata": {
        "colab": {
          "base_uri": "https://localhost:8080/"
        },
        "id": "ugIQx_Y5HtXA",
        "outputId": "7ebe4bf7-913d-40b3-d9ef-d30c2b7ed41e"
      },
      "execution_count": 53,
      "outputs": [
        {
          "output_type": "execute_result",
          "data": {
            "text/plain": [
              "OrderedDict([('weights', tensor([0.3445])), ('bias', tensor([0.1488]))])"
            ]
          },
          "metadata": {},
          "execution_count": 53
        }
      ]
    },
    {
      "cell_type": "code",
      "source": [
        "plot_predictions(predictions=y_preds)"
      ],
      "metadata": {
        "colab": {
          "base_uri": "https://localhost:8080/",
          "height": 599
        },
        "id": "qFekJJXjHv38",
        "outputId": "1daa7484-e681-4bc9-e7e8-b352b22cbeb8"
      },
      "execution_count": 54,
      "outputs": [
        {
          "output_type": "display_data",
          "data": {
            "text/plain": [
              "<Figure size 1000x700 with 1 Axes>"
            ],
            "image/png": "[encoded data removed]"
          },
          "metadata": {}
        }
      ]
    },
    {
      "cell_type": "code",
      "source": [
        "plot_predictions(predictions=y_preds_new)"
      ],
      "metadata": {
        "colab": {
          "base_uri": "https://localhost:8080/",
          "height": 599
        },
        "id": "abplF742IBPW",
        "outputId": "ae0da91e-0d60-467a-b0de-a39bb776acde"
      },
      "execution_count": 62,
      "outputs": [
        {
          "output_type": "display_data",
          "data": {
            "text/plain": [
              "<Figure size 1000x700 with 1 Axes>"
            ],
            "image/png": "[encoded data removed]"
          },
          "metadata": {}
        }
      ]
    },
    {
      "cell_type": "code",
      "source": [],
      "metadata": {
        "id": "gJiEZBNHIVfd"
      },
      "execution_count": null,
      "outputs": []
    }
  ]
}