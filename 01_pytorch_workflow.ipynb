{
  "nbformat": 4,
  "nbformat_minor": 0,
  "metadata": {
    "colab": {
      "provenance": [],
      "gpuType": "T4",
      "authorship_tag": "ABX9TyPQeUPVcv3F3hRv4H2Y2Wvk",
      "include_colab_link": true
    },
    "kernelspec": {
      "name": "python3",
      "display_name": "Python 3"
    },
    "language_info": {
      "name": "python"
    },
    "accelerator": "GPU"
  },
  "cells": [
    {
      "cell_type": "markdown",
      "metadata": {
        "id": "view-in-github",
        "colab_type": "text"
      },
      "source": [
        "<a href=\"https://colab.research.google.com/github/Shankar034/PyTorch/blob/main/01_pytorch_workflow.ipynb\" target=\"_parent\"><img src=\"https://colab.research.google.com/assets/colab-badge.svg\" alt=\"Open In Colab\"/></a>"
      ]
    },
    {
      "cell_type": "markdown",
      "source": [
        "### PyTorch Workflow"
      ],
      "metadata": {
        "id": "tsXQsvBor1IW"
      }
    },
    {
      "cell_type": "markdown",
      "source": [
        "* Collect Data (prepare and load data)\n",
        "* Build Model\n",
        "* fitting the model to the data(training)\n",
        "* Making prediction and evaluating the model\n",
        "* Saving and loading model\n",
        "* Putting it all together\n"
      ],
      "metadata": {
        "id": "ebeLxcokzBOT"
      }
    },
    {
      "cell_type": "code",
      "source": [
        "import torch\n",
        "from torch import nn # nn for neural network\n",
        "import matplotlib.pyplot as plt\n",
        "torch.__version__"
      ],
      "metadata": {
        "colab": {
          "base_uri": "https://localhost:8080/",
          "height": 35
        },
        "id": "q5d0xdVfz8rK",
        "outputId": "b27babad-2ed6-4dbf-e8cf-12511a3d364f"
      },
      "execution_count": 4,
      "outputs": [
        {
          "output_type": "execute_result",
          "data": {
            "text/plain": [
              "'2.0.1+cu118'"
            ],
            "application/vnd.google.colaboratory.intrinsic+json": {
              "type": "string"
            }
          },
          "metadata": {},
          "execution_count": 4
        }
      ]
    },
    {
      "cell_type": "markdown",
      "source": [
        "\n",
        "### 1. Data (Prepare and Load data)\n",
        "data can be anything\n",
        "* Excel Sheet\n",
        "* Images\n",
        "* Audio or Video\n",
        "* DNA\n",
        "* Text\n",
        "\n",
        "# Machine learninig is the game of two parts:\n",
        "1. get data into numerical representations\n",
        "2. Building the model to learn the pattern from numerical data"
      ],
      "metadata": {
        "id": "BorTslVL0nhx"
      }
    },
    {
      "cell_type": "code",
      "source": [
        "# Known datasets\n",
        "import torch\n",
        "weight = 0.7\n",
        "bias = 0.3\n",
        "start =0\n",
        "end = 1\n",
        "steps=0.02\n",
        "X = torch.arange(start, end, steps).unsqueeze(dim=1)\n",
        "Y= weight* X + bias\n",
        "X[:10] ,Y[:10]"
      ],
      "metadata": {
        "colab": {
          "base_uri": "https://localhost:8080/"
        },
        "id": "Vumodyco1mzU",
        "outputId": "4b029d18-aaa8-43c6-c7cb-6f36df1245b2"
      },
      "execution_count": 12,
      "outputs": [
        {
          "output_type": "execute_result",
          "data": {
            "text/plain": [
              "(tensor([[0.0000],\n",
              "         [0.0200],\n",
              "         [0.0400],\n",
              "         [0.0600],\n",
              "         [0.0800],\n",
              "         [0.1000],\n",
              "         [0.1200],\n",
              "         [0.1400],\n",
              "         [0.1600],\n",
              "         [0.1800]]),\n",
              " tensor([[0.3000],\n",
              "         [0.3140],\n",
              "         [0.3280],\n",
              "         [0.3420],\n",
              "         [0.3560],\n",
              "         [0.3700],\n",
              "         [0.3840],\n",
              "         [0.3980],\n",
              "         [0.4120],\n",
              "         [0.4260]]))"
            ]
          },
          "metadata": {},
          "execution_count": 12
        }
      ]
    },
    {
      "cell_type": "code",
      "source": [
        "len(X), len(Y)"
      ],
      "metadata": {
        "colab": {
          "base_uri": "https://localhost:8080/"
        },
        "id": "HLWAPGlp7N5Q",
        "outputId": "dbbcb427-03f3-480a-9b46-763845fa6147"
      },
      "execution_count": 13,
      "outputs": [
        {
          "output_type": "execute_result",
          "data": {
            "text/plain": [
              "(50, 50)"
            ]
          },
          "metadata": {},
          "execution_count": 13
        }
      ]
    },
    {
      "cell_type": "code",
      "source": [],
      "metadata": {
        "id": "8rEr8daX8ZBk"
      },
      "execution_count": null,
      "outputs": []
    }
  ]
}